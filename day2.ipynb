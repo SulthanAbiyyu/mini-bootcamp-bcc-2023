{
 "cells": [
  {
   "cell_type": "markdown",
   "metadata": {},
   "source": [
    "![banner](https://bccfilkom.net/static/assets/images/BCC-Logo.svg)\n",
    "\n",
    "# Mini Bootcamp Data Science Day-1\n",
    "\n",
    "### **TO BE A DATA SCIENTIST**"
   ]
  },
  {
   "cell_type": "markdown",
   "metadata": {},
   "source": [
    "## Intro Machine Learning"
   ]
  },
  {
   "cell_type": "markdown",
   "metadata": {},
   "source": [
    "### Apa itu ML?\n",
    "metode untuk menyelesaikan masalah tanpa harus menjabarkan aturan secara eksplisit. Machine learning dapat belajar dan beradaptasi melalui data yang diberikan. \n",
    "\n",
    "![wiml](https://i.imgur.com/guZJACw.png)"
   ]
  },
  {
   "cell_type": "markdown",
   "metadata": {},
   "source": [
    "### Tipe Machine Learning\n",
    "\n",
    "Berdasarkan Cara Belajar\n",
    "\n",
    "1. Supervised -> Diberi contoh yang bener kayak gimana\n",
    "2. Unsupervised -> Belajar sendiri\n",
    "3. dll.. "
   ]
  },
  {
   "cell_type": "markdown",
   "metadata": {},
   "source": [
    "Berdasarkan task-nya\n",
    "1. Regresi -> saham, curah hujan, harga bawang\n",
    "2. Klasifikasi -> tipe, kelas"
   ]
  },
  {
   "cell_type": "markdown",
   "metadata": {},
   "source": [
    "## Review Day 1"
   ]
  },
  {
   "cell_type": "code",
   "execution_count": 2,
   "metadata": {},
   "outputs": [
    {
     "name": "stderr",
     "output_type": "stream",
     "text": [
      "d:\\Python\\lib\\site-packages\\numpy\\_distributor_init.py:30: UserWarning: loaded more than 1 DLL from .libs:\n",
      "d:\\Python\\lib\\site-packages\\numpy\\.libs\\libopenblas.FB5AE2TYXYH2IJRDKGDGQ3XBKLKTF43H.gfortran-win_amd64.dll\n",
      "d:\\Python\\lib\\site-packages\\numpy\\.libs\\libopenblas64__v0.3.23-246-g3d31191b-gcc_10_3_0.dll\n",
      "  warnings.warn(\"loaded more than 1 DLL from .libs:\"\n"
     ]
    }
   ],
   "source": [
    "import pandas as pd\n",
    "import numpy as np\n",
    "import warnings\n",
    "\n",
    "warnings.filterwarnings('ignore')"
   ]
  },
  {
   "cell_type": "code",
   "execution_count": 3,
   "metadata": {},
   "outputs": [
    {
     "data": {
      "text/html": [
       "<div>\n",
       "<style scoped>\n",
       "    .dataframe tbody tr th:only-of-type {\n",
       "        vertical-align: middle;\n",
       "    }\n",
       "\n",
       "    .dataframe tbody tr th {\n",
       "        vertical-align: top;\n",
       "    }\n",
       "\n",
       "    .dataframe thead th {\n",
       "        text-align: right;\n",
       "    }\n",
       "</style>\n",
       "<table border=\"1\" class=\"dataframe\">\n",
       "  <thead>\n",
       "    <tr style=\"text-align: right;\">\n",
       "      <th></th>\n",
       "      <th>Invoice ID</th>\n",
       "      <th>Branch</th>\n",
       "      <th>City</th>\n",
       "      <th>Customer type</th>\n",
       "      <th>Gender</th>\n",
       "      <th>Product line</th>\n",
       "      <th>Unit price</th>\n",
       "      <th>Quantity</th>\n",
       "      <th>Tax 5%</th>\n",
       "      <th>Total</th>\n",
       "      <th>Date</th>\n",
       "      <th>Time</th>\n",
       "      <th>Payment</th>\n",
       "      <th>Rating</th>\n",
       "    </tr>\n",
       "  </thead>\n",
       "  <tbody>\n",
       "    <tr>\n",
       "      <th>0</th>\n",
       "      <td>750-67-8428</td>\n",
       "      <td>A</td>\n",
       "      <td>Yangon</td>\n",
       "      <td>Member</td>\n",
       "      <td>Female</td>\n",
       "      <td>Health and beauty</td>\n",
       "      <td>74.69</td>\n",
       "      <td>7.0</td>\n",
       "      <td>26.1415</td>\n",
       "      <td>548.9715</td>\n",
       "      <td>1/5/2019</td>\n",
       "      <td>13:08</td>\n",
       "      <td>Ewallet</td>\n",
       "      <td>9.1</td>\n",
       "    </tr>\n",
       "    <tr>\n",
       "      <th>1</th>\n",
       "      <td>226-31-3081</td>\n",
       "      <td>C</td>\n",
       "      <td>Naypyitaw</td>\n",
       "      <td>Normal</td>\n",
       "      <td>Female</td>\n",
       "      <td>Electronic accessories</td>\n",
       "      <td>15.28</td>\n",
       "      <td>5.0</td>\n",
       "      <td>3.8200</td>\n",
       "      <td>80.2200</td>\n",
       "      <td>3/8/2019</td>\n",
       "      <td>10:29</td>\n",
       "      <td>Cash</td>\n",
       "      <td>9.6</td>\n",
       "    </tr>\n",
       "    <tr>\n",
       "      <th>2</th>\n",
       "      <td>631-41-3108</td>\n",
       "      <td>A</td>\n",
       "      <td>Yangon</td>\n",
       "      <td>Normal</td>\n",
       "      <td>Male</td>\n",
       "      <td>Home and lifestyle</td>\n",
       "      <td>46.33</td>\n",
       "      <td>7.0</td>\n",
       "      <td>16.2155</td>\n",
       "      <td>340.5255</td>\n",
       "      <td>3/3/2019</td>\n",
       "      <td>13:23</td>\n",
       "      <td>Credit card</td>\n",
       "      <td>7.4</td>\n",
       "    </tr>\n",
       "    <tr>\n",
       "      <th>3</th>\n",
       "      <td>123-19-1176</td>\n",
       "      <td>A</td>\n",
       "      <td>Yangon</td>\n",
       "      <td>Member</td>\n",
       "      <td>Male</td>\n",
       "      <td>Health and beauty</td>\n",
       "      <td>58.22</td>\n",
       "      <td>8.0</td>\n",
       "      <td>23.2880</td>\n",
       "      <td>489.0480</td>\n",
       "      <td>1/27/2019</td>\n",
       "      <td>20:33</td>\n",
       "      <td>Ewallet</td>\n",
       "      <td>8.4</td>\n",
       "    </tr>\n",
       "    <tr>\n",
       "      <th>4</th>\n",
       "      <td>373-73-7910</td>\n",
       "      <td>A</td>\n",
       "      <td>Yangon</td>\n",
       "      <td>Normal</td>\n",
       "      <td>Male</td>\n",
       "      <td>Sports and travel</td>\n",
       "      <td>86.31</td>\n",
       "      <td>7.0</td>\n",
       "      <td>30.2085</td>\n",
       "      <td>634.3785</td>\n",
       "      <td>2/8/2019</td>\n",
       "      <td>10:37</td>\n",
       "      <td>Ewallet</td>\n",
       "      <td>5.3</td>\n",
       "    </tr>\n",
       "  </tbody>\n",
       "</table>\n",
       "</div>"
      ],
      "text/plain": [
       "    Invoice ID Branch       City Customer type  Gender  \\\n",
       "0  750-67-8428      A     Yangon        Member  Female   \n",
       "1  226-31-3081      C  Naypyitaw        Normal  Female   \n",
       "2  631-41-3108      A     Yangon        Normal    Male   \n",
       "3  123-19-1176      A     Yangon        Member    Male   \n",
       "4  373-73-7910      A     Yangon        Normal    Male   \n",
       "\n",
       "             Product line  Unit price  Quantity   Tax 5%     Total       Date  \\\n",
       "0       Health and beauty       74.69       7.0  26.1415  548.9715   1/5/2019   \n",
       "1  Electronic accessories       15.28       5.0   3.8200   80.2200   3/8/2019   \n",
       "2      Home and lifestyle       46.33       7.0  16.2155  340.5255   3/3/2019   \n",
       "3       Health and beauty       58.22       8.0  23.2880  489.0480  1/27/2019   \n",
       "4       Sports and travel       86.31       7.0  30.2085  634.3785   2/8/2019   \n",
       "\n",
       "    Time      Payment  Rating  \n",
       "0  13:08      Ewallet     9.1  \n",
       "1  10:29         Cash     9.6  \n",
       "2  13:23  Credit card     7.4  \n",
       "3  20:33      Ewallet     8.4  \n",
       "4  10:37      Ewallet     5.3  "
      ]
     },
     "execution_count": 3,
     "metadata": {},
     "output_type": "execute_result"
    }
   ],
   "source": [
    "data = pd.read_csv(\n",
    "    \"https://raw.githubusercontent.com/SulthanAbiyyu/mini-bootcamp-bcc-2023/master/Supermarket_Sales.csv\",\n",
    ")\n",
    "data.head()"
   ]
  },
  {
   "cell_type": "code",
   "execution_count": 4,
   "metadata": {},
   "outputs": [
    {
     "name": "stdout",
     "output_type": "stream",
     "text": [
      "Banyak baris duplikat:  49\n"
     ]
    }
   ],
   "source": [
    "print(\"Banyak baris duplikat: \", data.duplicated().sum())"
   ]
  },
  {
   "cell_type": "code",
   "execution_count": 5,
   "metadata": {},
   "outputs": [],
   "source": [
    "data = data.drop_duplicates()"
   ]
  },
  {
   "cell_type": "code",
   "execution_count": 6,
   "metadata": {},
   "outputs": [],
   "source": [
    "mean_total_col = data['Total'].mean()\n",
    "data['Total'].fillna(value=mean_total_col, inplace=True)"
   ]
  },
  {
   "cell_type": "code",
   "execution_count": 7,
   "metadata": {},
   "outputs": [],
   "source": [
    "mode_gender_col = data[\"Gender\"].mode()\n",
    "data[\"Gender\"].replace(\"Rather not say\", mode_gender_col[0], inplace=True)"
   ]
  },
  {
   "cell_type": "code",
   "execution_count": 8,
   "metadata": {},
   "outputs": [],
   "source": [
    "gender_outlier = ['Helicopter', 'Computer']\n",
    "filter_gender = ~data['Gender'].isin(gender_outlier)\n",
    "\n",
    "data = data[filter_gender]\n",
    "data.dropna(inplace=True)"
   ]
  },
  {
   "cell_type": "code",
   "execution_count": 9,
   "metadata": {},
   "outputs": [],
   "source": [
    "def remove_outliers_iqr(data, column_name):\n",
    "    Q1 = np.percentile(data[column_name], 25)\n",
    "    Q3 = np.percentile(data[column_name], 75)\n",
    "    IQR = Q3 - Q1\n",
    "\n",
    "    maximum = Q3 + (1.5 * IQR)\n",
    "    minimum = Q1 - (1.5 * IQR)\n",
    "\n",
    "    outlier_filter = (data[column_name] < minimum) | (\n",
    "        data[column_name] > maximum)\n",
    "\n",
    "    data = data[~outlier_filter]\n",
    "\n",
    "    return data\n",
    "\n",
    "\n",
    "data = remove_outliers_iqr(data=data, column_name=\"Unit price\")"
   ]
  },
  {
   "cell_type": "code",
   "execution_count": 10,
   "metadata": {},
   "outputs": [],
   "source": [
    "data = data.drop([\"Invoice ID\", \"Date\", \"Time\"], axis=1)"
   ]
  },
  {
   "cell_type": "markdown",
   "metadata": {},
   "source": [
    "## Data Preprocessing"
   ]
  },
  {
   "cell_type": "markdown",
   "metadata": {},
   "source": [
    "### Split"
   ]
  },
  {
   "cell_type": "markdown",
   "metadata": {},
   "source": [
    "-> bayangkan kalo kita kuliah, yang dipelajari selalu beda kan sama yang keluar di ujian?"
   ]
  },
  {
   "cell_type": "code",
   "execution_count": 11,
   "metadata": {},
   "outputs": [
    {
     "name": "stdout",
     "output_type": "stream",
     "text": [
      "Banyak data:  1018\n",
      "Banyak data train:  814\n",
      "Banyak data test:  204\n"
     ]
    }
   ],
   "source": [
    "from sklearn.model_selection import train_test_split\n",
    "\n",
    "# memisahkan data menjadi data train dan data test\n",
    "train, test = train_test_split(data, test_size=0.2, random_state=2023)\n",
    "\n",
    "print(\"Banyak data: \", len(data))\n",
    "print(\"Banyak data train: \", len(train))\n",
    "print(\"Banyak data test: \", len(test))"
   ]
  },
  {
   "cell_type": "markdown",
   "metadata": {},
   "source": [
    "Kita mau prediksi apa?"
   ]
  },
  {
   "cell_type": "code",
   "execution_count": 12,
   "metadata": {},
   "outputs": [
    {
     "data": {
      "text/plain": [
       "Index(['Branch', 'City', 'Customer type', 'Gender', 'Product line',\n",
       "       'Unit price', 'Quantity', 'Tax 5%', 'Total', 'Payment', 'Rating'],\n",
       "      dtype='object')"
      ]
     },
     "execution_count": 12,
     "metadata": {},
     "output_type": "execute_result"
    }
   ],
   "source": [
    "data.columns"
   ]
  },
  {
   "cell_type": "code",
   "execution_count": 13,
   "metadata": {},
   "outputs": [],
   "source": [
    "label_regresi = \"Rating\"\n",
    "label_klasifikasi = \"Gender\""
   ]
  },
  {
   "cell_type": "markdown",
   "metadata": {},
   "source": [
    "-> kita pisahin label dan data train-nya \\\n",
    "-> label == kunci jawaban"
   ]
  },
  {
   "cell_type": "code",
   "execution_count": 14,
   "metadata": {},
   "outputs": [],
   "source": [
    "# membuang kolom label dari data train\n",
    "train_data = train.drop([label_regresi, label_klasifikasi], axis=1)\n",
    "\n",
    "# kolom khusus labelnya aja\n",
    "train_label_regresi = train[label_regresi]\n",
    "train_label_klasifikasi = train[label_klasifikasi]"
   ]
  },
  {
   "cell_type": "code",
   "execution_count": 15,
   "metadata": {},
   "outputs": [],
   "source": [
    "test_data = test.drop([label_regresi, label_klasifikasi], axis=1)\n",
    "test_label_regresi = test[label_regresi]\n",
    "test_label_klasifikasi = test[label_klasifikasi]"
   ]
  },
  {
   "cell_type": "markdown",
   "metadata": {},
   "source": [
    "### Scaling\n",
    "\n",
    "Misalkan ada statement: \\\n",
    "\"cowo filkom lebih sering isi ulang air minum daripada cewe filkom\"\n",
    "\n",
    "-> Apa karena cowo filkom emang sering haus? \\\n",
    "-> Atau karena cowo filkom jumlahnya lebih banyak, makanya waktu observasi sering ketemu cowo?"
   ]
  },
  {
   "cell_type": "code",
   "execution_count": 16,
   "metadata": {},
   "outputs": [
    {
     "data": {
      "text/plain": [
       "['Unit price', 'Quantity', 'Tax 5%', 'Total']"
      ]
     },
     "execution_count": 16,
     "metadata": {},
     "output_type": "execute_result"
    }
   ],
   "source": [
    "# Ambil kolom yang bertipe numerik\n",
    "kolom_numerik = train_data.select_dtypes(include=np.number).columns.tolist()\n",
    "kolom_numerik"
   ]
  },
  {
   "cell_type": "markdown",
   "metadata": {},
   "source": [
    "#### Standard Scaling\n",
    "\n",
    "- mean jadi 0\n",
    "- standar deviasi jadi 1\n",
    "\n",
    "![](https://i.stack.imgur.com/QEPAU.png)"
   ]
  },
  {
   "cell_type": "code",
   "execution_count": 17,
   "metadata": {},
   "outputs": [
    {
     "data": {
      "text/html": [
       "<div>\n",
       "<style scoped>\n",
       "    .dataframe tbody tr th:only-of-type {\n",
       "        vertical-align: middle;\n",
       "    }\n",
       "\n",
       "    .dataframe tbody tr th {\n",
       "        vertical-align: top;\n",
       "    }\n",
       "\n",
       "    .dataframe thead th {\n",
       "        text-align: right;\n",
       "    }\n",
       "</style>\n",
       "<table border=\"1\" class=\"dataframe\">\n",
       "  <thead>\n",
       "    <tr style=\"text-align: right;\">\n",
       "      <th></th>\n",
       "      <th>Branch</th>\n",
       "      <th>City</th>\n",
       "      <th>Customer type</th>\n",
       "      <th>Product line</th>\n",
       "      <th>Unit price</th>\n",
       "      <th>Quantity</th>\n",
       "      <th>Tax 5%</th>\n",
       "      <th>Total</th>\n",
       "      <th>Payment</th>\n",
       "    </tr>\n",
       "  </thead>\n",
       "  <tbody>\n",
       "    <tr>\n",
       "      <th>848</th>\n",
       "      <td>C</td>\n",
       "      <td>Naypyitaw</td>\n",
       "      <td>Member</td>\n",
       "      <td>Food and beverages</td>\n",
       "      <td>0.699954</td>\n",
       "      <td>1.222769</td>\n",
       "      <td>1.546624</td>\n",
       "      <td>1.547632</td>\n",
       "      <td>Cash</td>\n",
       "    </tr>\n",
       "    <tr>\n",
       "      <th>644</th>\n",
       "      <td>C</td>\n",
       "      <td>Naypyitaw</td>\n",
       "      <td>Member</td>\n",
       "      <td>Electronic accessories</td>\n",
       "      <td>-1.533816</td>\n",
       "      <td>-0.151053</td>\n",
       "      <td>-1.049390</td>\n",
       "      <td>-1.048930</td>\n",
       "      <td>Ewallet</td>\n",
       "    </tr>\n",
       "    <tr>\n",
       "      <th>192</th>\n",
       "      <td>C</td>\n",
       "      <td>Naypyitaw</td>\n",
       "      <td>Normal</td>\n",
       "      <td>Food and beverages</td>\n",
       "      <td>1.247839</td>\n",
       "      <td>1.222769</td>\n",
       "      <td>2.131836</td>\n",
       "      <td>2.132967</td>\n",
       "      <td>Cash</td>\n",
       "    </tr>\n",
       "    <tr>\n",
       "      <th>682</th>\n",
       "      <td>C</td>\n",
       "      <td>Naypyitaw</td>\n",
       "      <td>Normal</td>\n",
       "      <td>Fashion accessories</td>\n",
       "      <td>-0.165205</td>\n",
       "      <td>0.192403</td>\n",
       "      <td>-0.022307</td>\n",
       "      <td>-0.021630</td>\n",
       "      <td>Ewallet</td>\n",
       "    </tr>\n",
       "    <tr>\n",
       "      <th>1057</th>\n",
       "      <td>B</td>\n",
       "      <td>Mandalay</td>\n",
       "      <td>Normal</td>\n",
       "      <td>Fashion accessories</td>\n",
       "      <td>1.691802</td>\n",
       "      <td>-1.181419</td>\n",
       "      <td>-0.441299</td>\n",
       "      <td>-0.440710</td>\n",
       "      <td>Ewallet</td>\n",
       "    </tr>\n",
       "  </tbody>\n",
       "</table>\n",
       "</div>"
      ],
      "text/plain": [
       "     Branch       City Customer type            Product line  Unit price  \\\n",
       "848       C  Naypyitaw        Member      Food and beverages    0.699954   \n",
       "644       C  Naypyitaw        Member  Electronic accessories   -1.533816   \n",
       "192       C  Naypyitaw        Normal      Food and beverages    1.247839   \n",
       "682       C  Naypyitaw        Normal     Fashion accessories   -0.165205   \n",
       "1057      B   Mandalay        Normal     Fashion accessories    1.691802   \n",
       "\n",
       "      Quantity    Tax 5%     Total  Payment  \n",
       "848   1.222769  1.546624  1.547632     Cash  \n",
       "644  -0.151053 -1.049390 -1.048930  Ewallet  \n",
       "192   1.222769  2.131836  2.132967     Cash  \n",
       "682   0.192403 -0.022307 -0.021630  Ewallet  \n",
       "1057 -1.181419 -0.441299 -0.440710  Ewallet  "
      ]
     },
     "execution_count": 17,
     "metadata": {},
     "output_type": "execute_result"
    }
   ],
   "source": [
    "from sklearn.preprocessing import StandardScaler\n",
    "\n",
    "# membuat objek StandardScaler\n",
    "scaler = StandardScaler()\n",
    "# copy data train \n",
    "train_ss = train_data.copy()\n",
    "# fit data train\n",
    "train_ss[kolom_numerik] = scaler.fit_transform(train[kolom_numerik])\n",
    "train_ss.head()"
   ]
  },
  {
   "cell_type": "code",
   "execution_count": 18,
   "metadata": {},
   "outputs": [
    {
     "data": {
      "text/html": [
       "<div>\n",
       "<style scoped>\n",
       "    .dataframe tbody tr th:only-of-type {\n",
       "        vertical-align: middle;\n",
       "    }\n",
       "\n",
       "    .dataframe tbody tr th {\n",
       "        vertical-align: top;\n",
       "    }\n",
       "\n",
       "    .dataframe thead th {\n",
       "        text-align: right;\n",
       "    }\n",
       "</style>\n",
       "<table border=\"1\" class=\"dataframe\">\n",
       "  <thead>\n",
       "    <tr style=\"text-align: right;\">\n",
       "      <th></th>\n",
       "      <th>Unit price</th>\n",
       "      <th>Quantity</th>\n",
       "      <th>Tax 5%</th>\n",
       "      <th>Total</th>\n",
       "    </tr>\n",
       "  </thead>\n",
       "  <tbody>\n",
       "    <tr>\n",
       "      <th>count</th>\n",
       "      <td>8.140000e+02</td>\n",
       "      <td>8.140000e+02</td>\n",
       "      <td>8.140000e+02</td>\n",
       "      <td>8.140000e+02</td>\n",
       "    </tr>\n",
       "    <tr>\n",
       "      <th>mean</th>\n",
       "      <td>2.924224e-16</td>\n",
       "      <td>1.505757e-16</td>\n",
       "      <td>-1.265709e-16</td>\n",
       "      <td>-6.328544e-17</td>\n",
       "    </tr>\n",
       "    <tr>\n",
       "      <th>std</th>\n",
       "      <td>1.000615e+00</td>\n",
       "      <td>1.000615e+00</td>\n",
       "      <td>1.000615e+00</td>\n",
       "      <td>1.000615e+00</td>\n",
       "    </tr>\n",
       "    <tr>\n",
       "      <th>min</th>\n",
       "      <td>-2.013031e+00</td>\n",
       "      <td>-1.524874e+00</td>\n",
       "      <td>-1.267646e+00</td>\n",
       "      <td>-1.267232e+00</td>\n",
       "    </tr>\n",
       "    <tr>\n",
       "      <th>25%</th>\n",
       "      <td>-8.648414e-01</td>\n",
       "      <td>-8.379636e-01</td>\n",
       "      <td>-7.903312e-01</td>\n",
       "      <td>-7.898166e-01</td>\n",
       "    </tr>\n",
       "    <tr>\n",
       "      <th>50%</th>\n",
       "      <td>-1.464665e-02</td>\n",
       "      <td>-1.510529e-01</td>\n",
       "      <td>-2.692827e-01</td>\n",
       "      <td>-2.686581e-01</td>\n",
       "    </tr>\n",
       "    <tr>\n",
       "      <th>75%</th>\n",
       "      <td>8.292136e-01</td>\n",
       "      <td>8.793133e-01</td>\n",
       "      <td>6.107569e-01</td>\n",
       "      <td>6.115672e-01</td>\n",
       "    </tr>\n",
       "    <tr>\n",
       "      <th>max</th>\n",
       "      <td>1.694372e+00</td>\n",
       "      <td>1.566224e+00</td>\n",
       "      <td>3.015667e+00</td>\n",
       "      <td>3.016985e+00</td>\n",
       "    </tr>\n",
       "  </tbody>\n",
       "</table>\n",
       "</div>"
      ],
      "text/plain": [
       "         Unit price      Quantity        Tax 5%         Total\n",
       "count  8.140000e+02  8.140000e+02  8.140000e+02  8.140000e+02\n",
       "mean   2.924224e-16  1.505757e-16 -1.265709e-16 -6.328544e-17\n",
       "std    1.000615e+00  1.000615e+00  1.000615e+00  1.000615e+00\n",
       "min   -2.013031e+00 -1.524874e+00 -1.267646e+00 -1.267232e+00\n",
       "25%   -8.648414e-01 -8.379636e-01 -7.903312e-01 -7.898166e-01\n",
       "50%   -1.464665e-02 -1.510529e-01 -2.692827e-01 -2.686581e-01\n",
       "75%    8.292136e-01  8.793133e-01  6.107569e-01  6.115672e-01\n",
       "max    1.694372e+00  1.566224e+00  3.015667e+00  3.016985e+00"
      ]
     },
     "execution_count": 18,
     "metadata": {},
     "output_type": "execute_result"
    }
   ],
   "source": [
    "# cek standar deviasi dan mean\n",
    "train_ss.describe()"
   ]
  },
  {
   "cell_type": "markdown",
   "metadata": {},
   "source": [
    "#### Min Max Scaling\n",
    "\n",
    "- min dan max nya pada rentang tertentu\n",
    "- biasanya antara 0 dan 1\n",
    "\n",
    "![](https://michael-fuchs-python.netlify.app/post/2019-08-31-feature-scaling-with-scikit-learn_files/p18p7.png)"
   ]
  },
  {
   "cell_type": "code",
   "execution_count": 100,
   "metadata": {},
   "outputs": [
    {
     "data": {
      "text/html": [
       "<div>\n",
       "<style scoped>\n",
       "    .dataframe tbody tr th:only-of-type {\n",
       "        vertical-align: middle;\n",
       "    }\n",
       "\n",
       "    .dataframe tbody tr th {\n",
       "        vertical-align: top;\n",
       "    }\n",
       "\n",
       "    .dataframe thead th {\n",
       "        text-align: right;\n",
       "    }\n",
       "</style>\n",
       "<table border=\"1\" class=\"dataframe\">\n",
       "  <thead>\n",
       "    <tr style=\"text-align: right;\">\n",
       "      <th></th>\n",
       "      <th>Branch</th>\n",
       "      <th>City</th>\n",
       "      <th>Customer type</th>\n",
       "      <th>Product line</th>\n",
       "      <th>Unit price</th>\n",
       "      <th>Quantity</th>\n",
       "      <th>Tax 5%</th>\n",
       "      <th>Total</th>\n",
       "      <th>Payment</th>\n",
       "    </tr>\n",
       "  </thead>\n",
       "  <tbody>\n",
       "    <tr>\n",
       "      <th>848</th>\n",
       "      <td>C</td>\n",
       "      <td>Naypyitaw</td>\n",
       "      <td>Member</td>\n",
       "      <td>Food and beverages</td>\n",
       "      <td>0.731775</td>\n",
       "      <td>0.888889</td>\n",
       "      <td>0.657031</td>\n",
       "      <td>0.657031</td>\n",
       "      <td>Cash</td>\n",
       "    </tr>\n",
       "    <tr>\n",
       "      <th>644</th>\n",
       "      <td>C</td>\n",
       "      <td>Naypyitaw</td>\n",
       "      <td>Member</td>\n",
       "      <td>Electronic accessories</td>\n",
       "      <td>0.129259</td>\n",
       "      <td>0.444444</td>\n",
       "      <td>0.050955</td>\n",
       "      <td>0.050955</td>\n",
       "      <td>Ewallet</td>\n",
       "    </tr>\n",
       "    <tr>\n",
       "      <th>192</th>\n",
       "      <td>C</td>\n",
       "      <td>Naypyitaw</td>\n",
       "      <td>Normal</td>\n",
       "      <td>Food and beverages</td>\n",
       "      <td>0.879556</td>\n",
       "      <td>0.888889</td>\n",
       "      <td>0.793657</td>\n",
       "      <td>0.793657</td>\n",
       "      <td>Cash</td>\n",
       "    </tr>\n",
       "    <tr>\n",
       "      <th>682</th>\n",
       "      <td>C</td>\n",
       "      <td>Naypyitaw</td>\n",
       "      <td>Normal</td>\n",
       "      <td>Fashion accessories</td>\n",
       "      <td>0.498415</td>\n",
       "      <td>0.555556</td>\n",
       "      <td>0.290742</td>\n",
       "      <td>0.290742</td>\n",
       "      <td>Ewallet</td>\n",
       "    </tr>\n",
       "    <tr>\n",
       "      <th>1057</th>\n",
       "      <td>B</td>\n",
       "      <td>Mandalay</td>\n",
       "      <td>Normal</td>\n",
       "      <td>Fashion accessories</td>\n",
       "      <td>0.999307</td>\n",
       "      <td>0.111111</td>\n",
       "      <td>0.192922</td>\n",
       "      <td>0.192922</td>\n",
       "      <td>Ewallet</td>\n",
       "    </tr>\n",
       "  </tbody>\n",
       "</table>\n",
       "</div>"
      ],
      "text/plain": [
       "     Branch       City Customer type            Product line  Unit price  \\\n",
       "848       C  Naypyitaw        Member      Food and beverages    0.731775   \n",
       "644       C  Naypyitaw        Member  Electronic accessories    0.129259   \n",
       "192       C  Naypyitaw        Normal      Food and beverages    0.879556   \n",
       "682       C  Naypyitaw        Normal     Fashion accessories    0.498415   \n",
       "1057      B   Mandalay        Normal     Fashion accessories    0.999307   \n",
       "\n",
       "      Quantity    Tax 5%     Total  Payment  \n",
       "848   0.888889  0.657031  0.657031     Cash  \n",
       "644   0.444444  0.050955  0.050955  Ewallet  \n",
       "192   0.888889  0.793657  0.793657     Cash  \n",
       "682   0.555556  0.290742  0.290742  Ewallet  \n",
       "1057  0.111111  0.192922  0.192922  Ewallet  "
      ]
     },
     "execution_count": 100,
     "metadata": {},
     "output_type": "execute_result"
    }
   ],
   "source": [
    "from sklearn.preprocessing import MinMaxScaler\n",
    "\n",
    "# membuat objek MinMaxScaler\n",
    "minmax = MinMaxScaler()\n",
    "# copy data train\n",
    "train_mm = train_data.copy()\n",
    "# fit data train\n",
    "train_mm[kolom_numerik] = minmax.fit_transform(train[kolom_numerik])\n",
    "train_mm.head()"
   ]
  },
  {
   "cell_type": "code",
   "execution_count": 101,
   "metadata": {},
   "outputs": [
    {
     "data": {
      "text/html": [
       "<div>\n",
       "<style scoped>\n",
       "    .dataframe tbody tr th:only-of-type {\n",
       "        vertical-align: middle;\n",
       "    }\n",
       "\n",
       "    .dataframe tbody tr th {\n",
       "        vertical-align: top;\n",
       "    }\n",
       "\n",
       "    .dataframe thead th {\n",
       "        text-align: right;\n",
       "    }\n",
       "</style>\n",
       "<table border=\"1\" class=\"dataframe\">\n",
       "  <thead>\n",
       "    <tr style=\"text-align: right;\">\n",
       "      <th></th>\n",
       "      <th>count</th>\n",
       "      <th>mean</th>\n",
       "      <th>std</th>\n",
       "      <th>min</th>\n",
       "      <th>25%</th>\n",
       "      <th>50%</th>\n",
       "      <th>75%</th>\n",
       "      <th>max</th>\n",
       "    </tr>\n",
       "  </thead>\n",
       "  <tbody>\n",
       "    <tr>\n",
       "      <th>Unit price</th>\n",
       "      <td>814.0</td>\n",
       "      <td>0.542976</td>\n",
       "      <td>0.269896</td>\n",
       "      <td>0.0</td>\n",
       "      <td>0.309702</td>\n",
       "      <td>0.539025</td>\n",
       "      <td>0.766640</td>\n",
       "      <td>1.0</td>\n",
       "    </tr>\n",
       "    <tr>\n",
       "      <th>Quantity</th>\n",
       "      <td>814.0</td>\n",
       "      <td>0.493311</td>\n",
       "      <td>0.323708</td>\n",
       "      <td>0.0</td>\n",
       "      <td>0.222222</td>\n",
       "      <td>0.444444</td>\n",
       "      <td>0.777778</td>\n",
       "      <td>1.0</td>\n",
       "    </tr>\n",
       "    <tr>\n",
       "      <th>Tax 5%</th>\n",
       "      <td>814.0</td>\n",
       "      <td>0.295950</td>\n",
       "      <td>0.233608</td>\n",
       "      <td>0.0</td>\n",
       "      <td>0.111436</td>\n",
       "      <td>0.233082</td>\n",
       "      <td>0.438540</td>\n",
       "      <td>1.0</td>\n",
       "    </tr>\n",
       "    <tr>\n",
       "      <th>Total</th>\n",
       "      <td>814.0</td>\n",
       "      <td>0.295791</td>\n",
       "      <td>0.233558</td>\n",
       "      <td>0.0</td>\n",
       "      <td>0.111436</td>\n",
       "      <td>0.233082</td>\n",
       "      <td>0.438540</td>\n",
       "      <td>1.0</td>\n",
       "    </tr>\n",
       "  </tbody>\n",
       "</table>\n",
       "</div>"
      ],
      "text/plain": [
       "            count      mean       std  min       25%       50%       75%  max\n",
       "Unit price  814.0  0.542976  0.269896  0.0  0.309702  0.539025  0.766640  1.0\n",
       "Quantity    814.0  0.493311  0.323708  0.0  0.222222  0.444444  0.777778  1.0\n",
       "Tax 5%      814.0  0.295950  0.233608  0.0  0.111436  0.233082  0.438540  1.0\n",
       "Total       814.0  0.295791  0.233558  0.0  0.111436  0.233082  0.438540  1.0"
      ]
     },
     "execution_count": 101,
     "metadata": {},
     "output_type": "execute_result"
    }
   ],
   "source": [
    "# cek min dan max\n",
    "train_mm.describe()"
   ]
  },
  {
   "cell_type": "code",
   "execution_count": 102,
   "metadata": {},
   "outputs": [
    {
     "data": {
      "text/html": [
       "<div>\n",
       "<style scoped>\n",
       "    .dataframe tbody tr th:only-of-type {\n",
       "        vertical-align: middle;\n",
       "    }\n",
       "\n",
       "    .dataframe tbody tr th {\n",
       "        vertical-align: top;\n",
       "    }\n",
       "\n",
       "    .dataframe thead th {\n",
       "        text-align: right;\n",
       "    }\n",
       "</style>\n",
       "<table border=\"1\" class=\"dataframe\">\n",
       "  <thead>\n",
       "    <tr style=\"text-align: right;\">\n",
       "      <th></th>\n",
       "      <th>Branch</th>\n",
       "      <th>City</th>\n",
       "      <th>Customer type</th>\n",
       "      <th>Product line</th>\n",
       "      <th>Unit price</th>\n",
       "      <th>Quantity</th>\n",
       "      <th>Tax 5%</th>\n",
       "      <th>Total</th>\n",
       "      <th>Payment</th>\n",
       "    </tr>\n",
       "  </thead>\n",
       "  <tbody>\n",
       "    <tr>\n",
       "      <th>158</th>\n",
       "      <td>B</td>\n",
       "      <td>Mandalay</td>\n",
       "      <td>Member</td>\n",
       "      <td>Health and beauty</td>\n",
       "      <td>1.593755</td>\n",
       "      <td>1.222769</td>\n",
       "      <td>2.501319</td>\n",
       "      <td>2.502528</td>\n",
       "      <td>Ewallet</td>\n",
       "    </tr>\n",
       "    <tr>\n",
       "      <th>694</th>\n",
       "      <td>C</td>\n",
       "      <td>Naypyitaw</td>\n",
       "      <td>Normal</td>\n",
       "      <td>Food and beverages</td>\n",
       "      <td>-0.044758</td>\n",
       "      <td>1.222769</td>\n",
       "      <td>0.751176</td>\n",
       "      <td>0.752016</td>\n",
       "      <td>Cash</td>\n",
       "    </tr>\n",
       "    <tr>\n",
       "      <th>401</th>\n",
       "      <td>C</td>\n",
       "      <td>Naypyitaw</td>\n",
       "      <td>Normal</td>\n",
       "      <td>Home and lifestyle</td>\n",
       "      <td>-0.279042</td>\n",
       "      <td>-0.494508</td>\n",
       "      <td>-0.506235</td>\n",
       "      <td>-0.505660</td>\n",
       "      <td>Credit card</td>\n",
       "    </tr>\n",
       "    <tr>\n",
       "      <th>645</th>\n",
       "      <td>A</td>\n",
       "      <td>Yangon</td>\n",
       "      <td>Member</td>\n",
       "      <td>Home and lifestyle</td>\n",
       "      <td>-1.265381</td>\n",
       "      <td>1.222769</td>\n",
       "      <td>-0.552605</td>\n",
       "      <td>-0.552041</td>\n",
       "      <td>Ewallet</td>\n",
       "    </tr>\n",
       "    <tr>\n",
       "      <th>885</th>\n",
       "      <td>A</td>\n",
       "      <td>Yangon</td>\n",
       "      <td>Normal</td>\n",
       "      <td>Sports and travel</td>\n",
       "      <td>-0.302543</td>\n",
       "      <td>0.535858</td>\n",
       "      <td>0.078541</td>\n",
       "      <td>0.079239</td>\n",
       "      <td>Cash</td>\n",
       "    </tr>\n",
       "  </tbody>\n",
       "</table>\n",
       "</div>"
      ],
      "text/plain": [
       "    Branch       City Customer type        Product line  Unit price  Quantity  \\\n",
       "158      B   Mandalay        Member   Health and beauty    1.593755  1.222769   \n",
       "694      C  Naypyitaw        Normal  Food and beverages   -0.044758  1.222769   \n",
       "401      C  Naypyitaw        Normal  Home and lifestyle   -0.279042 -0.494508   \n",
       "645      A     Yangon        Member  Home and lifestyle   -1.265381  1.222769   \n",
       "885      A     Yangon        Normal   Sports and travel   -0.302543  0.535858   \n",
       "\n",
       "       Tax 5%     Total      Payment  \n",
       "158  2.501319  2.502528      Ewallet  \n",
       "694  0.751176  0.752016         Cash  \n",
       "401 -0.506235 -0.505660  Credit card  \n",
       "645 -0.552605 -0.552041      Ewallet  \n",
       "885  0.078541  0.079239         Cash  "
      ]
     },
     "execution_count": 102,
     "metadata": {},
     "output_type": "execute_result"
    }
   ],
   "source": [
    "# misal kita pilih standar scaler aja\n",
    "test_ss = test_data.copy()\n",
    "# transform data test\n",
    "test_ss[kolom_numerik] = scaler.transform(test[kolom_numerik])\n",
    "test_ss.head()"
   ]
  },
  {
   "cell_type": "markdown",
   "metadata": {},
   "source": [
    "### Feature Transformation"
   ]
  },
  {
   "cell_type": "code",
   "execution_count": 103,
   "metadata": {},
   "outputs": [
    {
     "data": {
      "text/html": [
       "<div>\n",
       "<style scoped>\n",
       "    .dataframe tbody tr th:only-of-type {\n",
       "        vertical-align: middle;\n",
       "    }\n",
       "\n",
       "    .dataframe tbody tr th {\n",
       "        vertical-align: top;\n",
       "    }\n",
       "\n",
       "    .dataframe thead th {\n",
       "        text-align: right;\n",
       "    }\n",
       "</style>\n",
       "<table border=\"1\" class=\"dataframe\">\n",
       "  <thead>\n",
       "    <tr style=\"text-align: right;\">\n",
       "      <th></th>\n",
       "      <th>Branch</th>\n",
       "      <th>City</th>\n",
       "      <th>Customer type</th>\n",
       "      <th>Product line</th>\n",
       "      <th>Unit price</th>\n",
       "      <th>Quantity</th>\n",
       "      <th>Tax 5%</th>\n",
       "      <th>Total</th>\n",
       "      <th>Payment</th>\n",
       "    </tr>\n",
       "  </thead>\n",
       "  <tbody>\n",
       "    <tr>\n",
       "      <th>848</th>\n",
       "      <td>C</td>\n",
       "      <td>Naypyitaw</td>\n",
       "      <td>Member</td>\n",
       "      <td>Food and beverages</td>\n",
       "      <td>0.699954</td>\n",
       "      <td>1.222769</td>\n",
       "      <td>1.546624</td>\n",
       "      <td>1.547632</td>\n",
       "      <td>Cash</td>\n",
       "    </tr>\n",
       "    <tr>\n",
       "      <th>644</th>\n",
       "      <td>C</td>\n",
       "      <td>Naypyitaw</td>\n",
       "      <td>Member</td>\n",
       "      <td>Electronic accessories</td>\n",
       "      <td>-1.533816</td>\n",
       "      <td>-0.151053</td>\n",
       "      <td>-1.049390</td>\n",
       "      <td>-1.048930</td>\n",
       "      <td>Ewallet</td>\n",
       "    </tr>\n",
       "    <tr>\n",
       "      <th>192</th>\n",
       "      <td>C</td>\n",
       "      <td>Naypyitaw</td>\n",
       "      <td>Normal</td>\n",
       "      <td>Food and beverages</td>\n",
       "      <td>1.247839</td>\n",
       "      <td>1.222769</td>\n",
       "      <td>2.131836</td>\n",
       "      <td>2.132967</td>\n",
       "      <td>Cash</td>\n",
       "    </tr>\n",
       "    <tr>\n",
       "      <th>682</th>\n",
       "      <td>C</td>\n",
       "      <td>Naypyitaw</td>\n",
       "      <td>Normal</td>\n",
       "      <td>Fashion accessories</td>\n",
       "      <td>-0.165205</td>\n",
       "      <td>0.192403</td>\n",
       "      <td>-0.022307</td>\n",
       "      <td>-0.021630</td>\n",
       "      <td>Ewallet</td>\n",
       "    </tr>\n",
       "    <tr>\n",
       "      <th>1057</th>\n",
       "      <td>B</td>\n",
       "      <td>Mandalay</td>\n",
       "      <td>Normal</td>\n",
       "      <td>Fashion accessories</td>\n",
       "      <td>1.691802</td>\n",
       "      <td>-1.181419</td>\n",
       "      <td>-0.441299</td>\n",
       "      <td>-0.440710</td>\n",
       "      <td>Ewallet</td>\n",
       "    </tr>\n",
       "  </tbody>\n",
       "</table>\n",
       "</div>"
      ],
      "text/plain": [
       "     Branch       City Customer type            Product line  Unit price  \\\n",
       "848       C  Naypyitaw        Member      Food and beverages    0.699954   \n",
       "644       C  Naypyitaw        Member  Electronic accessories   -1.533816   \n",
       "192       C  Naypyitaw        Normal      Food and beverages    1.247839   \n",
       "682       C  Naypyitaw        Normal     Fashion accessories   -0.165205   \n",
       "1057      B   Mandalay        Normal     Fashion accessories    1.691802   \n",
       "\n",
       "      Quantity    Tax 5%     Total  Payment  \n",
       "848   1.222769  1.546624  1.547632     Cash  \n",
       "644  -0.151053 -1.049390 -1.048930  Ewallet  \n",
       "192   1.222769  2.131836  2.132967     Cash  \n",
       "682   0.192403 -0.022307 -0.021630  Ewallet  \n",
       "1057 -1.181419 -0.441299 -0.440710  Ewallet  "
      ]
     },
     "execution_count": 103,
     "metadata": {},
     "output_type": "execute_result"
    }
   ],
   "source": [
    "train_ss.head()"
   ]
  },
  {
   "cell_type": "code",
   "execution_count": 104,
   "metadata": {},
   "outputs": [
    {
     "data": {
      "text/plain": [
       "['Branch', 'City', 'Customer type', 'Product line', 'Payment']"
      ]
     },
     "execution_count": 104,
     "metadata": {},
     "output_type": "execute_result"
    }
   ],
   "source": [
    "# Ambil kolom yang bertipe object\n",
    "kolom_objek = train_ss.select_dtypes(include=np.object).columns.tolist()\n",
    "kolom_objek"
   ]
  },
  {
   "cell_type": "markdown",
   "metadata": {},
   "source": [
    "![](https://miro.medium.com/v2/resize:fit:1358/1*ggtP4a5YaRx6l09KQaYOnw.png)"
   ]
  },
  {
   "cell_type": "code",
   "execution_count": 105,
   "metadata": {},
   "outputs": [
    {
     "data": {
      "text/html": [
       "<div>\n",
       "<style scoped>\n",
       "    .dataframe tbody tr th:only-of-type {\n",
       "        vertical-align: middle;\n",
       "    }\n",
       "\n",
       "    .dataframe tbody tr th {\n",
       "        vertical-align: top;\n",
       "    }\n",
       "\n",
       "    .dataframe thead th {\n",
       "        text-align: right;\n",
       "    }\n",
       "</style>\n",
       "<table border=\"1\" class=\"dataframe\">\n",
       "  <thead>\n",
       "    <tr style=\"text-align: right;\">\n",
       "      <th></th>\n",
       "      <th>Unit price</th>\n",
       "      <th>Quantity</th>\n",
       "      <th>Tax 5%</th>\n",
       "      <th>Total</th>\n",
       "      <th>Branch_A</th>\n",
       "      <th>Branch_B</th>\n",
       "      <th>Branch_C</th>\n",
       "      <th>City_Mandalay</th>\n",
       "      <th>City_Naypyitaw</th>\n",
       "      <th>City_Yangon</th>\n",
       "      <th>...</th>\n",
       "      <th>Customer type_Normal</th>\n",
       "      <th>Product line_Electronic accessories</th>\n",
       "      <th>Product line_Fashion accessories</th>\n",
       "      <th>Product line_Food and beverages</th>\n",
       "      <th>Product line_Health and beauty</th>\n",
       "      <th>Product line_Home and lifestyle</th>\n",
       "      <th>Product line_Sports and travel</th>\n",
       "      <th>Payment_Cash</th>\n",
       "      <th>Payment_Credit card</th>\n",
       "      <th>Payment_Ewallet</th>\n",
       "    </tr>\n",
       "  </thead>\n",
       "  <tbody>\n",
       "    <tr>\n",
       "      <th>0</th>\n",
       "      <td>0.699954</td>\n",
       "      <td>1.222769</td>\n",
       "      <td>1.546624</td>\n",
       "      <td>1.547632</td>\n",
       "      <td>0.0</td>\n",
       "      <td>0.0</td>\n",
       "      <td>1.0</td>\n",
       "      <td>0.0</td>\n",
       "      <td>1.0</td>\n",
       "      <td>0.0</td>\n",
       "      <td>...</td>\n",
       "      <td>0.0</td>\n",
       "      <td>0.0</td>\n",
       "      <td>0.0</td>\n",
       "      <td>1.0</td>\n",
       "      <td>0.0</td>\n",
       "      <td>0.0</td>\n",
       "      <td>0.0</td>\n",
       "      <td>1.0</td>\n",
       "      <td>0.0</td>\n",
       "      <td>0.0</td>\n",
       "    </tr>\n",
       "    <tr>\n",
       "      <th>1</th>\n",
       "      <td>-1.533816</td>\n",
       "      <td>-0.151053</td>\n",
       "      <td>-1.049390</td>\n",
       "      <td>-1.048930</td>\n",
       "      <td>0.0</td>\n",
       "      <td>0.0</td>\n",
       "      <td>1.0</td>\n",
       "      <td>0.0</td>\n",
       "      <td>1.0</td>\n",
       "      <td>0.0</td>\n",
       "      <td>...</td>\n",
       "      <td>0.0</td>\n",
       "      <td>1.0</td>\n",
       "      <td>0.0</td>\n",
       "      <td>0.0</td>\n",
       "      <td>0.0</td>\n",
       "      <td>0.0</td>\n",
       "      <td>0.0</td>\n",
       "      <td>0.0</td>\n",
       "      <td>0.0</td>\n",
       "      <td>1.0</td>\n",
       "    </tr>\n",
       "    <tr>\n",
       "      <th>2</th>\n",
       "      <td>1.247839</td>\n",
       "      <td>1.222769</td>\n",
       "      <td>2.131836</td>\n",
       "      <td>2.132967</td>\n",
       "      <td>0.0</td>\n",
       "      <td>0.0</td>\n",
       "      <td>1.0</td>\n",
       "      <td>0.0</td>\n",
       "      <td>1.0</td>\n",
       "      <td>0.0</td>\n",
       "      <td>...</td>\n",
       "      <td>1.0</td>\n",
       "      <td>0.0</td>\n",
       "      <td>0.0</td>\n",
       "      <td>1.0</td>\n",
       "      <td>0.0</td>\n",
       "      <td>0.0</td>\n",
       "      <td>0.0</td>\n",
       "      <td>1.0</td>\n",
       "      <td>0.0</td>\n",
       "      <td>0.0</td>\n",
       "    </tr>\n",
       "    <tr>\n",
       "      <th>3</th>\n",
       "      <td>-0.165205</td>\n",
       "      <td>0.192403</td>\n",
       "      <td>-0.022307</td>\n",
       "      <td>-0.021630</td>\n",
       "      <td>0.0</td>\n",
       "      <td>0.0</td>\n",
       "      <td>1.0</td>\n",
       "      <td>0.0</td>\n",
       "      <td>1.0</td>\n",
       "      <td>0.0</td>\n",
       "      <td>...</td>\n",
       "      <td>1.0</td>\n",
       "      <td>0.0</td>\n",
       "      <td>1.0</td>\n",
       "      <td>0.0</td>\n",
       "      <td>0.0</td>\n",
       "      <td>0.0</td>\n",
       "      <td>0.0</td>\n",
       "      <td>0.0</td>\n",
       "      <td>0.0</td>\n",
       "      <td>1.0</td>\n",
       "    </tr>\n",
       "    <tr>\n",
       "      <th>4</th>\n",
       "      <td>1.691802</td>\n",
       "      <td>-1.181419</td>\n",
       "      <td>-0.441299</td>\n",
       "      <td>-0.440710</td>\n",
       "      <td>0.0</td>\n",
       "      <td>1.0</td>\n",
       "      <td>0.0</td>\n",
       "      <td>1.0</td>\n",
       "      <td>0.0</td>\n",
       "      <td>0.0</td>\n",
       "      <td>...</td>\n",
       "      <td>1.0</td>\n",
       "      <td>0.0</td>\n",
       "      <td>1.0</td>\n",
       "      <td>0.0</td>\n",
       "      <td>0.0</td>\n",
       "      <td>0.0</td>\n",
       "      <td>0.0</td>\n",
       "      <td>0.0</td>\n",
       "      <td>0.0</td>\n",
       "      <td>1.0</td>\n",
       "    </tr>\n",
       "  </tbody>\n",
       "</table>\n",
       "<p>5 rows × 21 columns</p>\n",
       "</div>"
      ],
      "text/plain": [
       "   Unit price  Quantity    Tax 5%     Total  Branch_A  Branch_B  Branch_C  \\\n",
       "0    0.699954  1.222769  1.546624  1.547632       0.0       0.0       1.0   \n",
       "1   -1.533816 -0.151053 -1.049390 -1.048930       0.0       0.0       1.0   \n",
       "2    1.247839  1.222769  2.131836  2.132967       0.0       0.0       1.0   \n",
       "3   -0.165205  0.192403 -0.022307 -0.021630       0.0       0.0       1.0   \n",
       "4    1.691802 -1.181419 -0.441299 -0.440710       0.0       1.0       0.0   \n",
       "\n",
       "   City_Mandalay  City_Naypyitaw  City_Yangon  ...  Customer type_Normal  \\\n",
       "0            0.0             1.0          0.0  ...                   0.0   \n",
       "1            0.0             1.0          0.0  ...                   0.0   \n",
       "2            0.0             1.0          0.0  ...                   1.0   \n",
       "3            0.0             1.0          0.0  ...                   1.0   \n",
       "4            1.0             0.0          0.0  ...                   1.0   \n",
       "\n",
       "   Product line_Electronic accessories  Product line_Fashion accessories  \\\n",
       "0                                  0.0                               0.0   \n",
       "1                                  1.0                               0.0   \n",
       "2                                  0.0                               0.0   \n",
       "3                                  0.0                               1.0   \n",
       "4                                  0.0                               1.0   \n",
       "\n",
       "   Product line_Food and beverages  Product line_Health and beauty  \\\n",
       "0                              1.0                             0.0   \n",
       "1                              0.0                             0.0   \n",
       "2                              1.0                             0.0   \n",
       "3                              0.0                             0.0   \n",
       "4                              0.0                             0.0   \n",
       "\n",
       "   Product line_Home and lifestyle  Product line_Sports and travel  \\\n",
       "0                              0.0                             0.0   \n",
       "1                              0.0                             0.0   \n",
       "2                              0.0                             0.0   \n",
       "3                              0.0                             0.0   \n",
       "4                              0.0                             0.0   \n",
       "\n",
       "   Payment_Cash  Payment_Credit card  Payment_Ewallet  \n",
       "0           1.0                  0.0              0.0  \n",
       "1           0.0                  0.0              1.0  \n",
       "2           1.0                  0.0              0.0  \n",
       "3           0.0                  0.0              1.0  \n",
       "4           0.0                  0.0              1.0  \n",
       "\n",
       "[5 rows x 21 columns]"
      ]
     },
     "execution_count": 105,
     "metadata": {},
     "output_type": "execute_result"
    }
   ],
   "source": [
    "from sklearn.preprocessing import OneHotEncoder\n",
    "\n",
    "ohe = OneHotEncoder()\n",
    "# ubah ke bentuk ohe untuk semua kolom objek\n",
    "train_ohe = ohe.fit_transform(train_ss[kolom_objek]).toarray()\n",
    "# ubah ke bentuk dataframe\n",
    "train_ohe = pd.DataFrame(train_ohe, columns=ohe.get_feature_names_out())\n",
    "# digabung dengan data train \n",
    "train_ss = pd.concat([train_ss.reset_index(drop=True), train_ohe], axis=1)\n",
    "# buang kolom objek karena sudah diubah ke ohe\n",
    "train_ss = train_ss.drop(kolom_objek, axis=1)\n",
    "\n",
    "train_ss.head()"
   ]
  },
  {
   "cell_type": "markdown",
   "metadata": {},
   "source": [
    "![](https://miro.medium.com/v2/resize:fit:1400/0*Xhaw5NqAkkqRPxUF.png)"
   ]
  },
  {
   "cell_type": "code",
   "execution_count": 106,
   "metadata": {},
   "outputs": [
    {
     "data": {
      "text/html": [
       "<div>\n",
       "<style scoped>\n",
       "    .dataframe tbody tr th:only-of-type {\n",
       "        vertical-align: middle;\n",
       "    }\n",
       "\n",
       "    .dataframe tbody tr th {\n",
       "        vertical-align: top;\n",
       "    }\n",
       "\n",
       "    .dataframe thead th {\n",
       "        text-align: right;\n",
       "    }\n",
       "</style>\n",
       "<table border=\"1\" class=\"dataframe\">\n",
       "  <thead>\n",
       "    <tr style=\"text-align: right;\">\n",
       "      <th></th>\n",
       "      <th>Unit price</th>\n",
       "      <th>Quantity</th>\n",
       "      <th>Tax 5%</th>\n",
       "      <th>Total</th>\n",
       "      <th>Branch_A</th>\n",
       "      <th>Branch_B</th>\n",
       "      <th>Branch_C</th>\n",
       "      <th>City_Mandalay</th>\n",
       "      <th>City_Naypyitaw</th>\n",
       "      <th>City_Yangon</th>\n",
       "      <th>...</th>\n",
       "      <th>Customer type_Normal</th>\n",
       "      <th>Product line_Electronic accessories</th>\n",
       "      <th>Product line_Fashion accessories</th>\n",
       "      <th>Product line_Food and beverages</th>\n",
       "      <th>Product line_Health and beauty</th>\n",
       "      <th>Product line_Home and lifestyle</th>\n",
       "      <th>Product line_Sports and travel</th>\n",
       "      <th>Payment_Cash</th>\n",
       "      <th>Payment_Credit card</th>\n",
       "      <th>Payment_Ewallet</th>\n",
       "    </tr>\n",
       "  </thead>\n",
       "  <tbody>\n",
       "    <tr>\n",
       "      <th>0</th>\n",
       "      <td>1.593755</td>\n",
       "      <td>1.222769</td>\n",
       "      <td>2.501319</td>\n",
       "      <td>2.502528</td>\n",
       "      <td>0.0</td>\n",
       "      <td>1.0</td>\n",
       "      <td>0.0</td>\n",
       "      <td>1.0</td>\n",
       "      <td>0.0</td>\n",
       "      <td>0.0</td>\n",
       "      <td>...</td>\n",
       "      <td>0.0</td>\n",
       "      <td>0.0</td>\n",
       "      <td>0.0</td>\n",
       "      <td>0.0</td>\n",
       "      <td>1.0</td>\n",
       "      <td>0.0</td>\n",
       "      <td>0.0</td>\n",
       "      <td>0.0</td>\n",
       "      <td>0.0</td>\n",
       "      <td>1.0</td>\n",
       "    </tr>\n",
       "    <tr>\n",
       "      <th>1</th>\n",
       "      <td>-0.044758</td>\n",
       "      <td>1.222769</td>\n",
       "      <td>0.751176</td>\n",
       "      <td>0.752016</td>\n",
       "      <td>0.0</td>\n",
       "      <td>0.0</td>\n",
       "      <td>1.0</td>\n",
       "      <td>0.0</td>\n",
       "      <td>1.0</td>\n",
       "      <td>0.0</td>\n",
       "      <td>...</td>\n",
       "      <td>1.0</td>\n",
       "      <td>0.0</td>\n",
       "      <td>0.0</td>\n",
       "      <td>1.0</td>\n",
       "      <td>0.0</td>\n",
       "      <td>0.0</td>\n",
       "      <td>0.0</td>\n",
       "      <td>1.0</td>\n",
       "      <td>0.0</td>\n",
       "      <td>0.0</td>\n",
       "    </tr>\n",
       "    <tr>\n",
       "      <th>2</th>\n",
       "      <td>-0.279042</td>\n",
       "      <td>-0.494508</td>\n",
       "      <td>-0.506235</td>\n",
       "      <td>-0.505660</td>\n",
       "      <td>0.0</td>\n",
       "      <td>0.0</td>\n",
       "      <td>1.0</td>\n",
       "      <td>0.0</td>\n",
       "      <td>1.0</td>\n",
       "      <td>0.0</td>\n",
       "      <td>...</td>\n",
       "      <td>1.0</td>\n",
       "      <td>0.0</td>\n",
       "      <td>0.0</td>\n",
       "      <td>0.0</td>\n",
       "      <td>0.0</td>\n",
       "      <td>1.0</td>\n",
       "      <td>0.0</td>\n",
       "      <td>0.0</td>\n",
       "      <td>1.0</td>\n",
       "      <td>0.0</td>\n",
       "    </tr>\n",
       "    <tr>\n",
       "      <th>3</th>\n",
       "      <td>-1.265381</td>\n",
       "      <td>1.222769</td>\n",
       "      <td>-0.552605</td>\n",
       "      <td>-0.552041</td>\n",
       "      <td>1.0</td>\n",
       "      <td>0.0</td>\n",
       "      <td>0.0</td>\n",
       "      <td>0.0</td>\n",
       "      <td>0.0</td>\n",
       "      <td>1.0</td>\n",
       "      <td>...</td>\n",
       "      <td>0.0</td>\n",
       "      <td>0.0</td>\n",
       "      <td>0.0</td>\n",
       "      <td>0.0</td>\n",
       "      <td>0.0</td>\n",
       "      <td>1.0</td>\n",
       "      <td>0.0</td>\n",
       "      <td>0.0</td>\n",
       "      <td>0.0</td>\n",
       "      <td>1.0</td>\n",
       "    </tr>\n",
       "    <tr>\n",
       "      <th>4</th>\n",
       "      <td>-0.302543</td>\n",
       "      <td>0.535858</td>\n",
       "      <td>0.078541</td>\n",
       "      <td>0.079239</td>\n",
       "      <td>1.0</td>\n",
       "      <td>0.0</td>\n",
       "      <td>0.0</td>\n",
       "      <td>0.0</td>\n",
       "      <td>0.0</td>\n",
       "      <td>1.0</td>\n",
       "      <td>...</td>\n",
       "      <td>1.0</td>\n",
       "      <td>0.0</td>\n",
       "      <td>0.0</td>\n",
       "      <td>0.0</td>\n",
       "      <td>0.0</td>\n",
       "      <td>0.0</td>\n",
       "      <td>1.0</td>\n",
       "      <td>1.0</td>\n",
       "      <td>0.0</td>\n",
       "      <td>0.0</td>\n",
       "    </tr>\n",
       "  </tbody>\n",
       "</table>\n",
       "<p>5 rows × 21 columns</p>\n",
       "</div>"
      ],
      "text/plain": [
       "   Unit price  Quantity    Tax 5%     Total  Branch_A  Branch_B  Branch_C  \\\n",
       "0    1.593755  1.222769  2.501319  2.502528       0.0       1.0       0.0   \n",
       "1   -0.044758  1.222769  0.751176  0.752016       0.0       0.0       1.0   \n",
       "2   -0.279042 -0.494508 -0.506235 -0.505660       0.0       0.0       1.0   \n",
       "3   -1.265381  1.222769 -0.552605 -0.552041       1.0       0.0       0.0   \n",
       "4   -0.302543  0.535858  0.078541  0.079239       1.0       0.0       0.0   \n",
       "\n",
       "   City_Mandalay  City_Naypyitaw  City_Yangon  ...  Customer type_Normal  \\\n",
       "0            1.0             0.0          0.0  ...                   0.0   \n",
       "1            0.0             1.0          0.0  ...                   1.0   \n",
       "2            0.0             1.0          0.0  ...                   1.0   \n",
       "3            0.0             0.0          1.0  ...                   0.0   \n",
       "4            0.0             0.0          1.0  ...                   1.0   \n",
       "\n",
       "   Product line_Electronic accessories  Product line_Fashion accessories  \\\n",
       "0                                  0.0                               0.0   \n",
       "1                                  0.0                               0.0   \n",
       "2                                  0.0                               0.0   \n",
       "3                                  0.0                               0.0   \n",
       "4                                  0.0                               0.0   \n",
       "\n",
       "   Product line_Food and beverages  Product line_Health and beauty  \\\n",
       "0                              0.0                             1.0   \n",
       "1                              1.0                             0.0   \n",
       "2                              0.0                             0.0   \n",
       "3                              0.0                             0.0   \n",
       "4                              0.0                             0.0   \n",
       "\n",
       "   Product line_Home and lifestyle  Product line_Sports and travel  \\\n",
       "0                              0.0                             0.0   \n",
       "1                              0.0                             0.0   \n",
       "2                              1.0                             0.0   \n",
       "3                              1.0                             0.0   \n",
       "4                              0.0                             1.0   \n",
       "\n",
       "   Payment_Cash  Payment_Credit card  Payment_Ewallet  \n",
       "0           0.0                  0.0              1.0  \n",
       "1           1.0                  0.0              0.0  \n",
       "2           0.0                  1.0              0.0  \n",
       "3           0.0                  0.0              1.0  \n",
       "4           1.0                  0.0              0.0  \n",
       "\n",
       "[5 rows x 21 columns]"
      ]
     },
     "execution_count": 106,
     "metadata": {},
     "output_type": "execute_result"
    }
   ],
   "source": [
    "test_ohe = ohe.transform(test_ss[kolom_objek]).toarray()\n",
    "test_ohe = pd.DataFrame(test_ohe, columns=ohe.get_feature_names_out())\n",
    "test_ss = test_ss.drop(kolom_objek, axis=1)\n",
    "test_ss = pd.concat([test_ss.reset_index(drop=True), test_ohe], axis=1)\n",
    "test_ss.head()"
   ]
  },
  {
   "cell_type": "code",
   "execution_count": 107,
   "metadata": {},
   "outputs": [
    {
     "name": "stdout",
     "output_type": "stream",
     "text": [
      "<class 'pandas.core.frame.DataFrame'>\n",
      "RangeIndex: 814 entries, 0 to 813\n",
      "Data columns (total 21 columns):\n",
      " #   Column                               Non-Null Count  Dtype  \n",
      "---  ------                               --------------  -----  \n",
      " 0   Unit price                           814 non-null    float64\n",
      " 1   Quantity                             814 non-null    float64\n",
      " 2   Tax 5%                               814 non-null    float64\n",
      " 3   Total                                814 non-null    float64\n",
      " 4   Branch_A                             814 non-null    float64\n",
      " 5   Branch_B                             814 non-null    float64\n",
      " 6   Branch_C                             814 non-null    float64\n",
      " 7   City_Mandalay                        814 non-null    float64\n",
      " 8   City_Naypyitaw                       814 non-null    float64\n",
      " 9   City_Yangon                          814 non-null    float64\n",
      " 10  Customer type_Member                 814 non-null    float64\n",
      " 11  Customer type_Normal                 814 non-null    float64\n",
      " 12  Product line_Electronic accessories  814 non-null    float64\n",
      " 13  Product line_Fashion accessories     814 non-null    float64\n",
      " 14  Product line_Food and beverages      814 non-null    float64\n",
      " 15  Product line_Health and beauty       814 non-null    float64\n",
      " 16  Product line_Home and lifestyle      814 non-null    float64\n",
      " 17  Product line_Sports and travel       814 non-null    float64\n",
      " 18  Payment_Cash                         814 non-null    float64\n",
      " 19  Payment_Credit card                  814 non-null    float64\n",
      " 20  Payment_Ewallet                      814 non-null    float64\n",
      "dtypes: float64(21)\n",
      "memory usage: 133.7 KB\n"
     ]
    }
   ],
   "source": [
    "# cek info dari data train, udah gaada kolom objek\n",
    "train_ss.info()"
   ]
  },
  {
   "cell_type": "markdown",
   "metadata": {},
   "source": [
    "## Regresi"
   ]
  },
  {
   "cell_type": "markdown",
   "metadata": {},
   "source": [
    "### Cara Kerja\n",
    "![](https://miro.medium.com/v2/resize:fit:800/1*nhGPRU12caIw7NK5Rr3p-w.gif) \\\n",
    "source: https://medium.com/swlh/from-animation-to-intuition-linear-regression-and-logistic-regression-f641a31e1caf"
   ]
  },
  {
   "cell_type": "markdown",
   "metadata": {},
   "source": [
    "### Training"
   ]
  },
  {
   "cell_type": "code",
   "execution_count": 108,
   "metadata": {},
   "outputs": [
    {
     "data": {
      "text/html": [
       "<style>#sk-container-id-7 {color: black;background-color: white;}#sk-container-id-7 pre{padding: 0;}#sk-container-id-7 div.sk-toggleable {background-color: white;}#sk-container-id-7 label.sk-toggleable__label {cursor: pointer;display: block;width: 100%;margin-bottom: 0;padding: 0.3em;box-sizing: border-box;text-align: center;}#sk-container-id-7 label.sk-toggleable__label-arrow:before {content: \"▸\";float: left;margin-right: 0.25em;color: #696969;}#sk-container-id-7 label.sk-toggleable__label-arrow:hover:before {color: black;}#sk-container-id-7 div.sk-estimator:hover label.sk-toggleable__label-arrow:before {color: black;}#sk-container-id-7 div.sk-toggleable__content {max-height: 0;max-width: 0;overflow: hidden;text-align: left;background-color: #f0f8ff;}#sk-container-id-7 div.sk-toggleable__content pre {margin: 0.2em;color: black;border-radius: 0.25em;background-color: #f0f8ff;}#sk-container-id-7 input.sk-toggleable__control:checked~div.sk-toggleable__content {max-height: 200px;max-width: 100%;overflow: auto;}#sk-container-id-7 input.sk-toggleable__control:checked~label.sk-toggleable__label-arrow:before {content: \"▾\";}#sk-container-id-7 div.sk-estimator input.sk-toggleable__control:checked~label.sk-toggleable__label {background-color: #d4ebff;}#sk-container-id-7 div.sk-label input.sk-toggleable__control:checked~label.sk-toggleable__label {background-color: #d4ebff;}#sk-container-id-7 input.sk-hidden--visually {border: 0;clip: rect(1px 1px 1px 1px);clip: rect(1px, 1px, 1px, 1px);height: 1px;margin: -1px;overflow: hidden;padding: 0;position: absolute;width: 1px;}#sk-container-id-7 div.sk-estimator {font-family: monospace;background-color: #f0f8ff;border: 1px dotted black;border-radius: 0.25em;box-sizing: border-box;margin-bottom: 0.5em;}#sk-container-id-7 div.sk-estimator:hover {background-color: #d4ebff;}#sk-container-id-7 div.sk-parallel-item::after {content: \"\";width: 100%;border-bottom: 1px solid gray;flex-grow: 1;}#sk-container-id-7 div.sk-label:hover label.sk-toggleable__label {background-color: #d4ebff;}#sk-container-id-7 div.sk-serial::before {content: \"\";position: absolute;border-left: 1px solid gray;box-sizing: border-box;top: 0;bottom: 0;left: 50%;z-index: 0;}#sk-container-id-7 div.sk-serial {display: flex;flex-direction: column;align-items: center;background-color: white;padding-right: 0.2em;padding-left: 0.2em;position: relative;}#sk-container-id-7 div.sk-item {position: relative;z-index: 1;}#sk-container-id-7 div.sk-parallel {display: flex;align-items: stretch;justify-content: center;background-color: white;position: relative;}#sk-container-id-7 div.sk-item::before, #sk-container-id-7 div.sk-parallel-item::before {content: \"\";position: absolute;border-left: 1px solid gray;box-sizing: border-box;top: 0;bottom: 0;left: 50%;z-index: -1;}#sk-container-id-7 div.sk-parallel-item {display: flex;flex-direction: column;z-index: 1;position: relative;background-color: white;}#sk-container-id-7 div.sk-parallel-item:first-child::after {align-self: flex-end;width: 50%;}#sk-container-id-7 div.sk-parallel-item:last-child::after {align-self: flex-start;width: 50%;}#sk-container-id-7 div.sk-parallel-item:only-child::after {width: 0;}#sk-container-id-7 div.sk-dashed-wrapped {border: 1px dashed gray;margin: 0 0.4em 0.5em 0.4em;box-sizing: border-box;padding-bottom: 0.4em;background-color: white;}#sk-container-id-7 div.sk-label label {font-family: monospace;font-weight: bold;display: inline-block;line-height: 1.2em;}#sk-container-id-7 div.sk-label-container {text-align: center;}#sk-container-id-7 div.sk-container {/* jupyter's `normalize.less` sets `[hidden] { display: none; }` but bootstrap.min.css set `[hidden] { display: none !important; }` so we also need the `!important` here to be able to override the default hidden behavior on the sphinx rendered scikit-learn.org. See: https://github.com/scikit-learn/scikit-learn/issues/21755 */display: inline-block !important;position: relative;}#sk-container-id-7 div.sk-text-repr-fallback {display: none;}</style><div id=\"sk-container-id-7\" class=\"sk-top-container\"><div class=\"sk-text-repr-fallback\"><pre>LinearRegression()</pre><b>In a Jupyter environment, please rerun this cell to show the HTML representation or trust the notebook. <br />On GitHub, the HTML representation is unable to render, please try loading this page with nbviewer.org.</b></div><div class=\"sk-container\" hidden><div class=\"sk-item\"><div class=\"sk-estimator sk-toggleable\"><input class=\"sk-toggleable__control sk-hidden--visually\" id=\"sk-estimator-id-7\" type=\"checkbox\" checked><label for=\"sk-estimator-id-7\" class=\"sk-toggleable__label sk-toggleable__label-arrow\">LinearRegression</label><div class=\"sk-toggleable__content\"><pre>LinearRegression()</pre></div></div></div></div></div>"
      ],
      "text/plain": [
       "LinearRegression()"
      ]
     },
     "execution_count": 108,
     "metadata": {},
     "output_type": "execute_result"
    }
   ],
   "source": [
    "from sklearn.linear_model import LinearRegression\n",
    "from sklearn.linear_model import Ridge\n",
    "\n",
    "# buat model\n",
    "model_regresi = LinearRegression()\n",
    "# model_regresi = Ridge()\n",
    "\n",
    "# training model\n",
    "model_regresi.fit(train_ss, train_label_regresi)"
   ]
  },
  {
   "cell_type": "markdown",
   "metadata": {},
   "source": [
    "### Evaluasi"
   ]
  },
  {
   "cell_type": "code",
   "execution_count": 109,
   "metadata": {},
   "outputs": [
    {
     "data": {
      "text/plain": [
       "array([6.43016893, 7.23670591, 7.0072357 , 7.02245174, 7.16447464])"
      ]
     },
     "execution_count": 109,
     "metadata": {},
     "output_type": "execute_result"
    }
   ],
   "source": [
    "# prediksi\n",
    "prediksi = model_regresi.predict(test_ss)\n",
    "prediksi[:5]"
   ]
  },
  {
   "cell_type": "code",
   "execution_count": 110,
   "metadata": {},
   "outputs": [
    {
     "data": {
      "text/plain": [
       "158    6.0\n",
       "694    7.6\n",
       "401    6.2\n",
       "645    8.7\n",
       "885    5.0\n",
       "Name: Rating, dtype: float64"
      ]
     },
     "execution_count": 110,
     "metadata": {},
     "output_type": "execute_result"
    }
   ],
   "source": [
    "# lihat kunci jawaban\n",
    "test_label_regresi[:5]"
   ]
  },
  {
   "cell_type": "code",
   "execution_count": 111,
   "metadata": {},
   "outputs": [
    {
     "name": "stdout",
     "output_type": "stream",
     "text": [
      "RMSE:  1.641060290370079\n"
     ]
    }
   ],
   "source": [
    "from sklearn.metrics import mean_squared_error\n",
    "\n",
    "# skor\n",
    "mse = mean_squared_error(test_label_regresi, prediksi)\n",
    "rmse = np.sqrt(mse)\n",
    "\n",
    "print(\"RMSE: \", rmse)"
   ]
  },
  {
   "cell_type": "markdown",
   "metadata": {},
   "source": [
    "## Klasifikasi"
   ]
  },
  {
   "cell_type": "markdown",
   "metadata": {},
   "source": [
    "### Cara Kerja\n",
    "![](https://miro.medium.com/v2/resize:fit:528/0*F1leAlz7TPrVJHY_.gif) \\\n",
    "source: https://saichandra1199.medium.com/classification-vs-regression-622b83ff8e90"
   ]
  },
  {
   "cell_type": "code",
   "execution_count": 112,
   "metadata": {},
   "outputs": [
    {
     "data": {
      "text/plain": [
       "848     Female\n",
       "644       Male\n",
       "192     Female\n",
       "682     Female\n",
       "1057    Female\n",
       "Name: Gender, dtype: object"
      ]
     },
     "execution_count": 112,
     "metadata": {},
     "output_type": "execute_result"
    }
   ],
   "source": [
    "train_label_klasifikasi.head()"
   ]
  },
  {
   "cell_type": "code",
   "execution_count": 113,
   "metadata": {},
   "outputs": [
    {
     "data": {
      "text/plain": [
       "848     1\n",
       "644     0\n",
       "192     1\n",
       "682     1\n",
       "1057    1\n",
       "Name: Gender, dtype: int64"
      ]
     },
     "execution_count": 113,
     "metadata": {},
     "output_type": "execute_result"
    }
   ],
   "source": [
    "gender_ke_angka = {\n",
    "    \"Male\": 0,\n",
    "    \"Female\": 1\n",
    "}\n",
    "\n",
    "# ubah ke angka\n",
    "train_label_klasifikasi = train_label_klasifikasi.replace(gender_ke_angka)\n",
    "train_label_klasifikasi.head()"
   ]
  },
  {
   "cell_type": "code",
   "execution_count": 114,
   "metadata": {},
   "outputs": [
    {
     "data": {
      "text/plain": [
       "158    0\n",
       "694    1\n",
       "401    0\n",
       "645    0\n",
       "885    0\n",
       "Name: Gender, dtype: int64"
      ]
     },
     "execution_count": 114,
     "metadata": {},
     "output_type": "execute_result"
    }
   ],
   "source": [
    "test_label_klasifikasi = test_label_klasifikasi.replace(gender_ke_angka)\n",
    "test_label_klasifikasi.head()"
   ]
  },
  {
   "cell_type": "markdown",
   "metadata": {},
   "source": [
    "### Training"
   ]
  },
  {
   "cell_type": "code",
   "execution_count": 115,
   "metadata": {},
   "outputs": [
    {
     "data": {
      "text/html": [
       "<style>#sk-container-id-8 {color: black;background-color: white;}#sk-container-id-8 pre{padding: 0;}#sk-container-id-8 div.sk-toggleable {background-color: white;}#sk-container-id-8 label.sk-toggleable__label {cursor: pointer;display: block;width: 100%;margin-bottom: 0;padding: 0.3em;box-sizing: border-box;text-align: center;}#sk-container-id-8 label.sk-toggleable__label-arrow:before {content: \"▸\";float: left;margin-right: 0.25em;color: #696969;}#sk-container-id-8 label.sk-toggleable__label-arrow:hover:before {color: black;}#sk-container-id-8 div.sk-estimator:hover label.sk-toggleable__label-arrow:before {color: black;}#sk-container-id-8 div.sk-toggleable__content {max-height: 0;max-width: 0;overflow: hidden;text-align: left;background-color: #f0f8ff;}#sk-container-id-8 div.sk-toggleable__content pre {margin: 0.2em;color: black;border-radius: 0.25em;background-color: #f0f8ff;}#sk-container-id-8 input.sk-toggleable__control:checked~div.sk-toggleable__content {max-height: 200px;max-width: 100%;overflow: auto;}#sk-container-id-8 input.sk-toggleable__control:checked~label.sk-toggleable__label-arrow:before {content: \"▾\";}#sk-container-id-8 div.sk-estimator input.sk-toggleable__control:checked~label.sk-toggleable__label {background-color: #d4ebff;}#sk-container-id-8 div.sk-label input.sk-toggleable__control:checked~label.sk-toggleable__label {background-color: #d4ebff;}#sk-container-id-8 input.sk-hidden--visually {border: 0;clip: rect(1px 1px 1px 1px);clip: rect(1px, 1px, 1px, 1px);height: 1px;margin: -1px;overflow: hidden;padding: 0;position: absolute;width: 1px;}#sk-container-id-8 div.sk-estimator {font-family: monospace;background-color: #f0f8ff;border: 1px dotted black;border-radius: 0.25em;box-sizing: border-box;margin-bottom: 0.5em;}#sk-container-id-8 div.sk-estimator:hover {background-color: #d4ebff;}#sk-container-id-8 div.sk-parallel-item::after {content: \"\";width: 100%;border-bottom: 1px solid gray;flex-grow: 1;}#sk-container-id-8 div.sk-label:hover label.sk-toggleable__label {background-color: #d4ebff;}#sk-container-id-8 div.sk-serial::before {content: \"\";position: absolute;border-left: 1px solid gray;box-sizing: border-box;top: 0;bottom: 0;left: 50%;z-index: 0;}#sk-container-id-8 div.sk-serial {display: flex;flex-direction: column;align-items: center;background-color: white;padding-right: 0.2em;padding-left: 0.2em;position: relative;}#sk-container-id-8 div.sk-item {position: relative;z-index: 1;}#sk-container-id-8 div.sk-parallel {display: flex;align-items: stretch;justify-content: center;background-color: white;position: relative;}#sk-container-id-8 div.sk-item::before, #sk-container-id-8 div.sk-parallel-item::before {content: \"\";position: absolute;border-left: 1px solid gray;box-sizing: border-box;top: 0;bottom: 0;left: 50%;z-index: -1;}#sk-container-id-8 div.sk-parallel-item {display: flex;flex-direction: column;z-index: 1;position: relative;background-color: white;}#sk-container-id-8 div.sk-parallel-item:first-child::after {align-self: flex-end;width: 50%;}#sk-container-id-8 div.sk-parallel-item:last-child::after {align-self: flex-start;width: 50%;}#sk-container-id-8 div.sk-parallel-item:only-child::after {width: 0;}#sk-container-id-8 div.sk-dashed-wrapped {border: 1px dashed gray;margin: 0 0.4em 0.5em 0.4em;box-sizing: border-box;padding-bottom: 0.4em;background-color: white;}#sk-container-id-8 div.sk-label label {font-family: monospace;font-weight: bold;display: inline-block;line-height: 1.2em;}#sk-container-id-8 div.sk-label-container {text-align: center;}#sk-container-id-8 div.sk-container {/* jupyter's `normalize.less` sets `[hidden] { display: none; }` but bootstrap.min.css set `[hidden] { display: none !important; }` so we also need the `!important` here to be able to override the default hidden behavior on the sphinx rendered scikit-learn.org. See: https://github.com/scikit-learn/scikit-learn/issues/21755 */display: inline-block !important;position: relative;}#sk-container-id-8 div.sk-text-repr-fallback {display: none;}</style><div id=\"sk-container-id-8\" class=\"sk-top-container\"><div class=\"sk-text-repr-fallback\"><pre>LogisticRegression()</pre><b>In a Jupyter environment, please rerun this cell to show the HTML representation or trust the notebook. <br />On GitHub, the HTML representation is unable to render, please try loading this page with nbviewer.org.</b></div><div class=\"sk-container\" hidden><div class=\"sk-item\"><div class=\"sk-estimator sk-toggleable\"><input class=\"sk-toggleable__control sk-hidden--visually\" id=\"sk-estimator-id-8\" type=\"checkbox\" checked><label for=\"sk-estimator-id-8\" class=\"sk-toggleable__label sk-toggleable__label-arrow\">LogisticRegression</label><div class=\"sk-toggleable__content\"><pre>LogisticRegression()</pre></div></div></div></div></div>"
      ],
      "text/plain": [
       "LogisticRegression()"
      ]
     },
     "execution_count": 115,
     "metadata": {},
     "output_type": "execute_result"
    }
   ],
   "source": [
    "from sklearn.linear_model import LogisticRegression\n",
    "from sklearn.ensemble import RandomForestClassifier\n",
    "\n",
    "# buat model\n",
    "model_klasifikasi = LogisticRegression()\n",
    "# model_klasifikasi = RandomForestClassifier()\n",
    "\n",
    "# training model\n",
    "model_klasifikasi.fit(train_ss, train_label_klasifikasi)"
   ]
  },
  {
   "cell_type": "markdown",
   "metadata": {},
   "source": [
    "### Evaluasi"
   ]
  },
  {
   "cell_type": "code",
   "execution_count": 116,
   "metadata": {},
   "outputs": [
    {
     "data": {
      "text/plain": [
       "array([0, 1, 0, 0, 1], dtype=int64)"
      ]
     },
     "execution_count": 116,
     "metadata": {},
     "output_type": "execute_result"
    }
   ],
   "source": [
    "# prediksi\n",
    "prediksi = model_klasifikasi.predict(test_ss)\n",
    "prediksi[:5]"
   ]
  },
  {
   "cell_type": "code",
   "execution_count": 117,
   "metadata": {},
   "outputs": [
    {
     "data": {
      "text/plain": [
       "158    0\n",
       "694    1\n",
       "401    0\n",
       "645    0\n",
       "885    0\n",
       "Name: Gender, dtype: int64"
      ]
     },
     "execution_count": 117,
     "metadata": {},
     "output_type": "execute_result"
    }
   ],
   "source": [
    "# lihat kunci jawaban\n",
    "test_label_klasifikasi[:5]"
   ]
  },
  {
   "cell_type": "code",
   "execution_count": 118,
   "metadata": {},
   "outputs": [
    {
     "name": "stdout",
     "output_type": "stream",
     "text": [
      "Akurasi:  0.5441176470588235\n"
     ]
    }
   ],
   "source": [
    "from sklearn.metrics import accuracy_score\n",
    "\n",
    "# skor\n",
    "akurasi = accuracy_score(test_label_klasifikasi, prediksi)\n",
    "print(\"Akurasi: \", akurasi)"
   ]
  },
  {
   "cell_type": "markdown",
   "metadata": {},
   "source": [
    "# Terima Kasih 🙏🔥🦅"
   ]
  },
  {
   "cell_type": "markdown",
   "metadata": {},
   "source": [
    "## Tugas 😨"
   ]
  }
 ],
 "metadata": {
  "kernelspec": {
   "display_name": "Python 3",
   "language": "python",
   "name": "python3"
  },
  "language_info": {
   "codemirror_mode": {
    "name": "ipython",
    "version": 3
   },
   "file_extension": ".py",
   "mimetype": "text/x-python",
   "name": "python",
   "nbconvert_exporter": "python",
   "pygments_lexer": "ipython3",
   "version": "3.10.6"
  }
 },
 "nbformat": 4,
 "nbformat_minor": 2
}
