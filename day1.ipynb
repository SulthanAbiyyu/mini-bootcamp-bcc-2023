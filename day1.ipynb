{
 "cells": [
  {
   "cell_type": "markdown",
   "metadata": {
    "slideshow": {
     "slide_type": "slide"
    }
   },
   "source": [
    "<div style=\"text-align: center;\">\n",
    "    <img src=\"https://bccfilkom.net/static/assets/images/BCC-Logo.svg\" alt=\"BCC Logo\">\n",
    "    <p style=\"font-size: 34px; font-weight: bold;\">TO BE A DATA ANALYST</p>\n",
    "    <p style=\"font-size: 28px; font-weight: normal;\">BCC 2023</p>\n",
    "</div>\n"
   ]
  },
  {
   "cell_type": "markdown",
   "metadata": {
    "slideshow": {
     "slide_type": "slide"
    }
   },
   "source": [
    "<div style=\"text-align: left;\">\n",
    "    <h1 >Apa itu Data Science?</h1>\n",
    "    <img src=\"https://cdn-images-1.medium.com/max/1200/1*mgXvzNcwfpnBawI6XTkVRg.png\" alt=\"Data science\" width=\"500\" height=\"500\">\n",
    "</div>\n",
    "\n",
    "Data Science adalah ilmu untuk mengolah **data** dengan mengkombinasikan beberapa ilmu lainnya seperti matematika statistika, ilmu komputer, dan ilmu bisnis/domain tertentu untuk mengungkap **Informasi** tersembunyi dari sekumpulan data.\n"
   ]
  },
  {
   "cell_type": "markdown",
   "metadata": {
    "slideshow": {
     "slide_type": "slide"
    }
   },
   "source": [
    "## Apa perbedaan **Data** dan **Informasi**?\n",
    "\n",
    "Data adalah kumpulan **fakta** dari hasil pengamatan, sedangkan informasi adalah data yang telah diolah hingga menjadi bentuk yang dapat bermanfaat untuk proses pengambilan keputusan saat ini atau saat mendatang.\n"
   ]
  },
  {
   "cell_type": "markdown",
   "metadata": {
    "slideshow": {
     "slide_type": "subslide"
    }
   },
   "source": [
    "<div style=\"text-align: left;\">\n",
    "    <p style=\"font-size: 30px; font-weight: bold;\">Data: </p>\n",
    "    <img src=\"https://drive.google.com/uc?export=view&id=1_igVfahqF6m2tgltSVgo1MsIpGWrqiF1\" alt=\"Data Information\" width=\"650\" height=\"250\">\n",
    "    <p style=\"font-size: 30px; font-weight: bold;\">Informasi: </p>\n",
    "    <p>\n",
    "        Jika ditinjau berdasarkan kelompok usia peminjamnya, penerima kredit pinjol didominasi oleh 19-34 tahun. Kelompok usia yang termasuk kategori pelajar atau mahasiswa serta pekerja ini memiliki nilai akumulasi utang pinjol sebesar Rp27,1 triliun, setara 54,06% dari total utang pinjol nasional.\n",
    "    </p>\n",
    "</div>\n"
   ]
  },
  {
   "cell_type": "markdown",
   "metadata": {
    "slideshow": {
     "slide_type": "slide"
    }
   },
   "source": [
    "## Data Science? Machine Learning? Artificial Intelligence? Deep Learning?\n",
    "\n",
    "<img src=\"https://www.deviq.io/hubfs/DevIQ%20website%20active%20images/ai-ml-dl-ds-venn-diagram-deviq.png\" alt=\"Stat\" width = \"650\" height = \"500\">\n"
   ]
  },
  {
   "cell_type": "markdown",
   "metadata": {
    "slideshow": {
     "slide_type": "subslide"
    }
   },
   "source": [
    "**Data Science** menjadi kunci dalam _Artificial Intelligence_, _Machine Learning_, dan _Deep Learning_ karena semua bidang tersebut bergantung pada data yang telah diproses dan disiapkan dengan baik.\n",
    "\n",
    "- _Artificial Intelligence_ adalah sistem komputer yang dapat meniru karakteristik, kecerdasan, dan cara belajar manusia dengan menggunakan teknik ML atau DL.\n",
    "- _Machine Learning_ adalah salah satu metode pembelajaran pola dari data menggunakan model matematika statistika yang disusun menggunakan algoritma komputer.\n",
    "- _Deep Learning_ adalah metode pembelajaran dengan tujuan dan fungsi yang sama seperti ML namun menggunakan model Jaringan Saraf Tiruan.\n"
   ]
  },
  {
   "cell_type": "markdown",
   "metadata": {
    "slideshow": {
     "slide_type": "slide"
    }
   },
   "source": [
    "## _Workflow_ Secara Umum Seorang _Data Scientist_\n"
   ]
  },
  {
   "cell_type": "markdown",
   "metadata": {
    "slideshow": {
     "slide_type": "subslide"
    }
   },
   "source": [
    "### _Problem Understanding_\n",
    "\n",
    "Tahapan awal seorang _data scientist_ adalah memahami permasalahan yang ingin diselesaikan. Tahapan ini mencakup memahami objektif dari bisnis, kebutuhan, dan keluaran/solusi yang diinginkan.\n"
   ]
  },
  {
   "cell_type": "markdown",
   "metadata": {
    "slideshow": {
     "slide_type": "subslide"
    }
   },
   "source": [
    "### _Data Collection_\n",
    "\n",
    "Tahapan selanjutnya adalah mengumpulkan data primer maupun sekunder yang dibutuhkan untuk menyelesaikan permasalahan dari tahap pertama.\n"
   ]
  },
  {
   "cell_type": "markdown",
   "metadata": {
    "slideshow": {
     "slide_type": "subslide"
    }
   },
   "source": [
    "### _Data Cleaning and Preprocessing_\n",
    "\n",
    "Setelah data sudah dikumpulkan, data perlu dibersihkan dan diproses yang meliputi beberapa langkah umum seperti menangani data duplikasi, data hilang, transformasi data, normalisasi dan masih banyak lagi.\n"
   ]
  },
  {
   "cell_type": "markdown",
   "metadata": {
    "slideshow": {
     "slide_type": "subslide"
    }
   },
   "source": [
    "### _Modeling_ (_Training_)\n",
    "\n",
    "Memilih model _machine learning_ yang tepat untuk memecahkan masalah menggunakan data yang sudah diproses sebelumnya. Setelah memilih model, maka dapat dilakukan pelatihan dan pengujian menggunakan model dan data yang sudah ditentukan.\n"
   ]
  },
  {
   "cell_type": "markdown",
   "metadata": {
    "slideshow": {
     "slide_type": "subslide"
    }
   },
   "source": [
    "### _Evaluation_ (_Testing_)\n",
    "\n",
    "Setelah model dilatih, maka diperlukan proses evaluasi yang menentukan seberapa baik peforma model untuk melakukan prediksi. Hasil skor evaluasi akan digunakan sebagai acuan saat proses _tuning_ model.\n"
   ]
  },
  {
   "cell_type": "markdown",
   "metadata": {
    "slideshow": {
     "slide_type": "slide"
    }
   },
   "source": [
    "**Data scientists spend 60% of their time on cleaning and organizing data.**\n",
    "\n",
    "<img src=\"https://imageio.forbes.com/blogs-images/gilpress/files/2016/03/Time-1200x511.jpg\" alt=\"Stat\" width = \"1000\" height = \"500\">\n"
   ]
  },
  {
   "cell_type": "markdown",
   "metadata": {
    "slideshow": {
     "slide_type": "slide"
    }
   },
   "source": [
    "## _Basic Skill_ yang Diperlukan\n",
    "\n",
    "- Pemahaman Matematika Secara ~~Mendalam~~ (Statistika, Kalkulus, **Aljabar Linear**, Metode Numerik)\n",
    "- _Programming_\n",
    "- _Problem Solving_\n",
    "- _Critical Thinking_\n"
   ]
  },
  {
   "cell_type": "markdown",
   "metadata": {
    "slideshow": {
     "slide_type": "slide"
    }
   },
   "source": [
    "## Prospek\n",
    "\n",
    "_Data Science_ dapat diimplementasikan oleh banyak bahkan hampir semua bidang keilmuan yang tidak lepas dari data contoh:\n",
    "\n",
    "- Ilmu Komputer: _Natural Language Processing_, _Computer Vision_\n",
    "- Biologi: Bioinformatika, Genomika\n",
    "- Cyber Security: _Intrusion Detection System_\n",
    "- Bisnis: Prediksi permintaan pasar\n"
   ]
  },
  {
   "cell_type": "markdown",
   "metadata": {
    "slideshow": {
     "slide_type": "slide"
    }
   },
   "source": [
    "# Prerequisite Review\n"
   ]
  },
  {
   "cell_type": "markdown",
   "metadata": {
    "slideshow": {
     "slide_type": "subslide"
    }
   },
   "source": [
    "## Comprehension\n",
    "\n",
    "Mempersingkat **syntax** untuk mengisi suatu data\n"
   ]
  },
  {
   "cell_type": "code",
   "execution_count": 2,
   "metadata": {},
   "outputs": [
    {
     "name": "stdout",
     "output_type": "stream",
     "text": [
      "['kalkulus', 'statistika']\n"
     ]
    }
   ],
   "source": [
    "# Tanpa Comprehension\n",
    "subjects = [\"kalkulus\", \"aljabar linear\", \"pemrograman dasar\", \"statistika\"]\n",
    "subjects_with_k = []\n",
    "\n",
    "\n",
    "# Mengambil mata_kuliah yang mengandung huruf k\n",
    "for subject in subjects:\n",
    "    if \"k\" in subject:\n",
    "        subjects_with_k.append(subject)\n",
    "\n",
    "print(subjects_with_k)"
   ]
  },
  {
   "cell_type": "code",
   "execution_count": null,
   "metadata": {},
   "outputs": [],
   "source": []
  },
  {
   "cell_type": "code",
   "execution_count": 3,
   "metadata": {},
   "outputs": [
    {
     "name": "stdout",
     "output_type": "stream",
     "text": [
      "['kalkulus', 'statistika']\n"
     ]
    }
   ],
   "source": [
    "# Menggunakan Comprehension\n",
    "subjects_with_k_comprehension = [\n",
    "    subject for subject in subjects if \"k\" in subject]\n",
    "print(subjects_with_k_comprehension)"
   ]
  },
  {
   "cell_type": "code",
   "execution_count": null,
   "metadata": {},
   "outputs": [],
   "source": []
  },
  {
   "cell_type": "markdown",
   "metadata": {
    "slideshow": {
     "slide_type": "subslide"
    }
   },
   "source": [
    "## Lambda Function\n",
    "\n",
    "Fungsi tanpa nama yang didefinisikan dalam satu baris\n",
    "\n",
    "**lambda arg1, argN : expression/statement**\n"
   ]
  },
  {
   "cell_type": "code",
   "execution_count": 4,
   "metadata": {},
   "outputs": [
    {
     "data": {
      "text/plain": [
       "4"
      ]
     },
     "execution_count": 4,
     "metadata": {},
     "output_type": "execute_result"
    }
   ],
   "source": [
    "# Tanpa Lambda Function\n",
    "def add(a, b):\n",
    "    result = a + b\n",
    "    return result\n",
    "\n",
    "\n",
    "add(1, 3)"
   ]
  },
  {
   "cell_type": "code",
   "execution_count": null,
   "metadata": {},
   "outputs": [],
   "source": []
  },
  {
   "cell_type": "code",
   "execution_count": 5,
   "metadata": {},
   "outputs": [
    {
     "data": {
      "text/plain": [
       "4"
      ]
     },
     "execution_count": 5,
     "metadata": {},
     "output_type": "execute_result"
    }
   ],
   "source": [
    "# Menggunakan Lambda Function\n",
    "\n",
    "add_lambda = lambda x, y: x + y\n",
    "\n",
    "add_lambda(1, 3)"
   ]
  },
  {
   "cell_type": "code",
   "execution_count": null,
   "metadata": {},
   "outputs": [],
   "source": []
  },
  {
   "cell_type": "markdown",
   "metadata": {
    "slideshow": {
     "slide_type": "slide"
    }
   },
   "source": [
    "# Let's get started\n",
    "\n",
    "Data Understanding, Data Cleaning, Explaratory Data Analysis."
   ]
  },
  {
   "cell_type": "markdown",
   "metadata": {
    "slideshow": {
     "slide_type": "subslide"
    }
   },
   "source": [
    "## Import Requirements\n"
   ]
  },
  {
   "cell_type": "code",
   "execution_count": 46,
   "metadata": {
    "slideshow": {
     "slide_type": "-"
    }
   },
   "outputs": [],
   "source": [
    "import pandas as pd\n",
    "import matplotlib.pyplot as plt"
   ]
  },
  {
   "cell_type": "markdown",
   "metadata": {
    "slideshow": {
     "slide_type": "slide"
    }
   },
   "source": [
    "## Reading Data\n"
   ]
  },
  {
   "cell_type": "code",
   "execution_count": 47,
   "metadata": {},
   "outputs": [
    {
     "data": {
      "text/html": [
       "<div>\n",
       "<style scoped>\n",
       "    .dataframe tbody tr th:only-of-type {\n",
       "        vertical-align: middle;\n",
       "    }\n",
       "\n",
       "    .dataframe tbody tr th {\n",
       "        vertical-align: top;\n",
       "    }\n",
       "\n",
       "    .dataframe thead th {\n",
       "        text-align: right;\n",
       "    }\n",
       "</style>\n",
       "<table border=\"1\" class=\"dataframe\">\n",
       "  <thead>\n",
       "    <tr style=\"text-align: right;\">\n",
       "      <th></th>\n",
       "      <th>Invoice ID</th>\n",
       "      <th>Branch</th>\n",
       "      <th>City</th>\n",
       "      <th>Customer type</th>\n",
       "      <th>Gender</th>\n",
       "      <th>Product line</th>\n",
       "      <th>Unit price</th>\n",
       "      <th>Quantity</th>\n",
       "      <th>Tax 5%</th>\n",
       "      <th>Total</th>\n",
       "      <th>Date</th>\n",
       "      <th>Time</th>\n",
       "      <th>Payment</th>\n",
       "      <th>Rating</th>\n",
       "    </tr>\n",
       "  </thead>\n",
       "  <tbody>\n",
       "    <tr>\n",
       "      <th>0</th>\n",
       "      <td>750-67-8428</td>\n",
       "      <td>A</td>\n",
       "      <td>Yangon</td>\n",
       "      <td>Member</td>\n",
       "      <td>Female</td>\n",
       "      <td>Health and beauty</td>\n",
       "      <td>74.69</td>\n",
       "      <td>7.0</td>\n",
       "      <td>26.1415</td>\n",
       "      <td>548.9715</td>\n",
       "      <td>1/5/2019</td>\n",
       "      <td>13:08</td>\n",
       "      <td>Ewallet</td>\n",
       "      <td>9.1</td>\n",
       "    </tr>\n",
       "    <tr>\n",
       "      <th>1</th>\n",
       "      <td>226-31-3081</td>\n",
       "      <td>C</td>\n",
       "      <td>Naypyitaw</td>\n",
       "      <td>Normal</td>\n",
       "      <td>Female</td>\n",
       "      <td>Electronic accessories</td>\n",
       "      <td>15.28</td>\n",
       "      <td>5.0</td>\n",
       "      <td>3.8200</td>\n",
       "      <td>80.2200</td>\n",
       "      <td>3/8/2019</td>\n",
       "      <td>10:29</td>\n",
       "      <td>Cash</td>\n",
       "      <td>9.6</td>\n",
       "    </tr>\n",
       "    <tr>\n",
       "      <th>2</th>\n",
       "      <td>631-41-3108</td>\n",
       "      <td>A</td>\n",
       "      <td>Yangon</td>\n",
       "      <td>Normal</td>\n",
       "      <td>Male</td>\n",
       "      <td>Home and lifestyle</td>\n",
       "      <td>46.33</td>\n",
       "      <td>7.0</td>\n",
       "      <td>16.2155</td>\n",
       "      <td>340.5255</td>\n",
       "      <td>3/3/2019</td>\n",
       "      <td>13:23</td>\n",
       "      <td>Credit card</td>\n",
       "      <td>7.4</td>\n",
       "    </tr>\n",
       "    <tr>\n",
       "      <th>3</th>\n",
       "      <td>123-19-1176</td>\n",
       "      <td>A</td>\n",
       "      <td>Yangon</td>\n",
       "      <td>Member</td>\n",
       "      <td>Male</td>\n",
       "      <td>Health and beauty</td>\n",
       "      <td>58.22</td>\n",
       "      <td>8.0</td>\n",
       "      <td>23.2880</td>\n",
       "      <td>489.0480</td>\n",
       "      <td>1/27/2019</td>\n",
       "      <td>20:33</td>\n",
       "      <td>Ewallet</td>\n",
       "      <td>8.4</td>\n",
       "    </tr>\n",
       "    <tr>\n",
       "      <th>4</th>\n",
       "      <td>373-73-7910</td>\n",
       "      <td>A</td>\n",
       "      <td>Yangon</td>\n",
       "      <td>Normal</td>\n",
       "      <td>Male</td>\n",
       "      <td>Sports and travel</td>\n",
       "      <td>86.31</td>\n",
       "      <td>7.0</td>\n",
       "      <td>30.2085</td>\n",
       "      <td>634.3785</td>\n",
       "      <td>2/8/2019</td>\n",
       "      <td>10:37</td>\n",
       "      <td>Ewallet</td>\n",
       "      <td>5.3</td>\n",
       "    </tr>\n",
       "    <tr>\n",
       "      <th>...</th>\n",
       "      <td>...</td>\n",
       "      <td>...</td>\n",
       "      <td>...</td>\n",
       "      <td>...</td>\n",
       "      <td>...</td>\n",
       "      <td>...</td>\n",
       "      <td>...</td>\n",
       "      <td>...</td>\n",
       "      <td>...</td>\n",
       "      <td>...</td>\n",
       "      <td>...</td>\n",
       "      <td>...</td>\n",
       "      <td>...</td>\n",
       "      <td>...</td>\n",
       "    </tr>\n",
       "    <tr>\n",
       "      <th>1095</th>\n",
       "      <td>831-64-0259</td>\n",
       "      <td>B</td>\n",
       "      <td>Mandalay</td>\n",
       "      <td>Normal</td>\n",
       "      <td>Female</td>\n",
       "      <td>Fashion accessories</td>\n",
       "      <td>500.00</td>\n",
       "      <td>5.0</td>\n",
       "      <td>9.9375</td>\n",
       "      <td>208.6875</td>\n",
       "      <td>2/22/2019</td>\n",
       "      <td>10:43</td>\n",
       "      <td>Ewallet</td>\n",
       "      <td>9.6</td>\n",
       "    </tr>\n",
       "    <tr>\n",
       "      <th>1096</th>\n",
       "      <td>645-44-1170</td>\n",
       "      <td>A</td>\n",
       "      <td>Yangon</td>\n",
       "      <td>Member</td>\n",
       "      <td>Male</td>\n",
       "      <td>Home and lifestyle</td>\n",
       "      <td>300.00</td>\n",
       "      <td>9.0</td>\n",
       "      <td>26.1315</td>\n",
       "      <td>548.7615</td>\n",
       "      <td>1/19/2019</td>\n",
       "      <td>20:07</td>\n",
       "      <td>Ewallet</td>\n",
       "      <td>4.3</td>\n",
       "    </tr>\n",
       "    <tr>\n",
       "      <th>1097</th>\n",
       "      <td>123-19-1176</td>\n",
       "      <td>A</td>\n",
       "      <td>Yangon</td>\n",
       "      <td>Member</td>\n",
       "      <td>Male</td>\n",
       "      <td>Health and beauty</td>\n",
       "      <td>2.00</td>\n",
       "      <td>8.0</td>\n",
       "      <td>23.2880</td>\n",
       "      <td>489.0480</td>\n",
       "      <td>1/27/2019</td>\n",
       "      <td>20:33</td>\n",
       "      <td>Ewallet</td>\n",
       "      <td>8.4</td>\n",
       "    </tr>\n",
       "    <tr>\n",
       "      <th>1098</th>\n",
       "      <td>283-26-5248</td>\n",
       "      <td>C</td>\n",
       "      <td>Naypyitaw</td>\n",
       "      <td>Member</td>\n",
       "      <td>Female</td>\n",
       "      <td>Food and beverages</td>\n",
       "      <td>300.00</td>\n",
       "      <td>10.0</td>\n",
       "      <td>49.2600</td>\n",
       "      <td>1034.4600</td>\n",
       "      <td>1/30/2019</td>\n",
       "      <td>20:23</td>\n",
       "      <td>Ewallet</td>\n",
       "      <td>4.5</td>\n",
       "    </tr>\n",
       "    <tr>\n",
       "      <th>1099</th>\n",
       "      <td>372-62-5264</td>\n",
       "      <td>C</td>\n",
       "      <td>Naypyitaw</td>\n",
       "      <td>Normal</td>\n",
       "      <td>Female</td>\n",
       "      <td>Food and beverages</td>\n",
       "      <td>2.00</td>\n",
       "      <td>9.0</td>\n",
       "      <td>23.6700</td>\n",
       "      <td>497.0700</td>\n",
       "      <td>1/16/2019</td>\n",
       "      <td>14:42</td>\n",
       "      <td>Cash</td>\n",
       "      <td>7.6</td>\n",
       "    </tr>\n",
       "  </tbody>\n",
       "</table>\n",
       "<p>1100 rows × 14 columns</p>\n",
       "</div>"
      ],
      "text/plain": [
       "       Invoice ID Branch       City Customer type  Gender  \\\n",
       "0     750-67-8428      A     Yangon        Member  Female   \n",
       "1     226-31-3081      C  Naypyitaw        Normal  Female   \n",
       "2     631-41-3108      A     Yangon        Normal    Male   \n",
       "3     123-19-1176      A     Yangon        Member    Male   \n",
       "4     373-73-7910      A     Yangon        Normal    Male   \n",
       "...           ...    ...        ...           ...     ...   \n",
       "1095  831-64-0259      B   Mandalay        Normal  Female   \n",
       "1096  645-44-1170      A     Yangon        Member    Male   \n",
       "1097  123-19-1176      A     Yangon        Member    Male   \n",
       "1098  283-26-5248      C  Naypyitaw        Member  Female   \n",
       "1099  372-62-5264      C  Naypyitaw        Normal  Female   \n",
       "\n",
       "                Product line  Unit price  Quantity   Tax 5%      Total  \\\n",
       "0          Health and beauty       74.69       7.0  26.1415   548.9715   \n",
       "1     Electronic accessories       15.28       5.0   3.8200    80.2200   \n",
       "2         Home and lifestyle       46.33       7.0  16.2155   340.5255   \n",
       "3          Health and beauty       58.22       8.0  23.2880   489.0480   \n",
       "4          Sports and travel       86.31       7.0  30.2085   634.3785   \n",
       "...                      ...         ...       ...      ...        ...   \n",
       "1095     Fashion accessories      500.00       5.0   9.9375   208.6875   \n",
       "1096      Home and lifestyle      300.00       9.0  26.1315   548.7615   \n",
       "1097       Health and beauty        2.00       8.0  23.2880   489.0480   \n",
       "1098      Food and beverages      300.00      10.0  49.2600  1034.4600   \n",
       "1099      Food and beverages        2.00       9.0  23.6700   497.0700   \n",
       "\n",
       "           Date   Time      Payment  Rating  \n",
       "0      1/5/2019  13:08      Ewallet     9.1  \n",
       "1      3/8/2019  10:29         Cash     9.6  \n",
       "2      3/3/2019  13:23  Credit card     7.4  \n",
       "3     1/27/2019  20:33      Ewallet     8.4  \n",
       "4      2/8/2019  10:37      Ewallet     5.3  \n",
       "...         ...    ...          ...     ...  \n",
       "1095  2/22/2019  10:43      Ewallet     9.6  \n",
       "1096  1/19/2019  20:07      Ewallet     4.3  \n",
       "1097  1/27/2019  20:33      Ewallet     8.4  \n",
       "1098  1/30/2019  20:23      Ewallet     4.5  \n",
       "1099  1/16/2019  14:42         Cash     7.6  \n",
       "\n",
       "[1100 rows x 14 columns]"
      ]
     },
     "execution_count": 47,
     "metadata": {},
     "output_type": "execute_result"
    }
   ],
   "source": [
    "data = pd.read_csv(\n",
    "    \"https://raw.githubusercontent.com/EvanLaksanaWP/mini-bootcamp-bcc-2023/master/Supermarket_Sales.csv\")\n",
    "data"
   ]
  },
  {
   "cell_type": "code",
   "execution_count": null,
   "metadata": {},
   "outputs": [],
   "source": []
  },
  {
   "cell_type": "markdown",
   "metadata": {
    "slideshow": {
     "slide_type": "slide"
    }
   },
   "source": [
    "## Data Overview\n"
   ]
  },
  {
   "cell_type": "markdown",
   "metadata": {},
   "source": [
    "### **head(n)**\n",
    "\n",
    "Mendapatkan baris n teratas pada data, default n = 5\n"
   ]
  },
  {
   "cell_type": "code",
   "execution_count": 8,
   "metadata": {},
   "outputs": [
    {
     "data": {
      "text/html": [
       "<div>\n",
       "<style scoped>\n",
       "    .dataframe tbody tr th:only-of-type {\n",
       "        vertical-align: middle;\n",
       "    }\n",
       "\n",
       "    .dataframe tbody tr th {\n",
       "        vertical-align: top;\n",
       "    }\n",
       "\n",
       "    .dataframe thead th {\n",
       "        text-align: right;\n",
       "    }\n",
       "</style>\n",
       "<table border=\"1\" class=\"dataframe\">\n",
       "  <thead>\n",
       "    <tr style=\"text-align: right;\">\n",
       "      <th></th>\n",
       "      <th>Invoice ID</th>\n",
       "      <th>Branch</th>\n",
       "      <th>City</th>\n",
       "      <th>Customer type</th>\n",
       "      <th>Gender</th>\n",
       "      <th>Product line</th>\n",
       "      <th>Unit price</th>\n",
       "      <th>Quantity</th>\n",
       "      <th>Tax 5%</th>\n",
       "      <th>Total</th>\n",
       "      <th>Date</th>\n",
       "      <th>Time</th>\n",
       "      <th>Payment</th>\n",
       "      <th>Rating</th>\n",
       "    </tr>\n",
       "  </thead>\n",
       "  <tbody>\n",
       "    <tr>\n",
       "      <th>0</th>\n",
       "      <td>750-67-8428</td>\n",
       "      <td>A</td>\n",
       "      <td>Yangon</td>\n",
       "      <td>Member</td>\n",
       "      <td>Female</td>\n",
       "      <td>Health and beauty</td>\n",
       "      <td>74.69</td>\n",
       "      <td>7.0</td>\n",
       "      <td>26.1415</td>\n",
       "      <td>548.9715</td>\n",
       "      <td>1/5/2019</td>\n",
       "      <td>13:08</td>\n",
       "      <td>Ewallet</td>\n",
       "      <td>9.1</td>\n",
       "    </tr>\n",
       "    <tr>\n",
       "      <th>1</th>\n",
       "      <td>226-31-3081</td>\n",
       "      <td>C</td>\n",
       "      <td>Naypyitaw</td>\n",
       "      <td>Normal</td>\n",
       "      <td>Female</td>\n",
       "      <td>Electronic accessories</td>\n",
       "      <td>15.28</td>\n",
       "      <td>5.0</td>\n",
       "      <td>3.8200</td>\n",
       "      <td>80.2200</td>\n",
       "      <td>3/8/2019</td>\n",
       "      <td>10:29</td>\n",
       "      <td>Cash</td>\n",
       "      <td>9.6</td>\n",
       "    </tr>\n",
       "    <tr>\n",
       "      <th>2</th>\n",
       "      <td>631-41-3108</td>\n",
       "      <td>A</td>\n",
       "      <td>Yangon</td>\n",
       "      <td>Normal</td>\n",
       "      <td>Male</td>\n",
       "      <td>Home and lifestyle</td>\n",
       "      <td>46.33</td>\n",
       "      <td>7.0</td>\n",
       "      <td>16.2155</td>\n",
       "      <td>340.5255</td>\n",
       "      <td>3/3/2019</td>\n",
       "      <td>13:23</td>\n",
       "      <td>Credit card</td>\n",
       "      <td>7.4</td>\n",
       "    </tr>\n",
       "    <tr>\n",
       "      <th>3</th>\n",
       "      <td>123-19-1176</td>\n",
       "      <td>A</td>\n",
       "      <td>Yangon</td>\n",
       "      <td>Member</td>\n",
       "      <td>Male</td>\n",
       "      <td>Health and beauty</td>\n",
       "      <td>58.22</td>\n",
       "      <td>8.0</td>\n",
       "      <td>23.2880</td>\n",
       "      <td>489.0480</td>\n",
       "      <td>1/27/2019</td>\n",
       "      <td>20:33</td>\n",
       "      <td>Ewallet</td>\n",
       "      <td>8.4</td>\n",
       "    </tr>\n",
       "    <tr>\n",
       "      <th>4</th>\n",
       "      <td>373-73-7910</td>\n",
       "      <td>A</td>\n",
       "      <td>Yangon</td>\n",
       "      <td>Normal</td>\n",
       "      <td>Male</td>\n",
       "      <td>Sports and travel</td>\n",
       "      <td>86.31</td>\n",
       "      <td>7.0</td>\n",
       "      <td>30.2085</td>\n",
       "      <td>634.3785</td>\n",
       "      <td>2/8/2019</td>\n",
       "      <td>10:37</td>\n",
       "      <td>Ewallet</td>\n",
       "      <td>5.3</td>\n",
       "    </tr>\n",
       "    <tr>\n",
       "      <th>5</th>\n",
       "      <td>699-14-3026</td>\n",
       "      <td>C</td>\n",
       "      <td>Naypyitaw</td>\n",
       "      <td>Normal</td>\n",
       "      <td>Male</td>\n",
       "      <td>Electronic accessories</td>\n",
       "      <td>85.39</td>\n",
       "      <td>7.0</td>\n",
       "      <td>29.8865</td>\n",
       "      <td>627.6165</td>\n",
       "      <td>3/25/2019</td>\n",
       "      <td>18:30</td>\n",
       "      <td>Ewallet</td>\n",
       "      <td>4.1</td>\n",
       "    </tr>\n",
       "    <tr>\n",
       "      <th>6</th>\n",
       "      <td>355-53-5943</td>\n",
       "      <td>A</td>\n",
       "      <td>Yangon</td>\n",
       "      <td>Member</td>\n",
       "      <td>Female</td>\n",
       "      <td>Electronic accessories</td>\n",
       "      <td>68.84</td>\n",
       "      <td>6.0</td>\n",
       "      <td>20.6520</td>\n",
       "      <td>433.6920</td>\n",
       "      <td>2/25/2019</td>\n",
       "      <td>14:36</td>\n",
       "      <td>Ewallet</td>\n",
       "      <td>5.8</td>\n",
       "    </tr>\n",
       "    <tr>\n",
       "      <th>7</th>\n",
       "      <td>315-22-5665</td>\n",
       "      <td>C</td>\n",
       "      <td>Naypyitaw</td>\n",
       "      <td>Normal</td>\n",
       "      <td>Female</td>\n",
       "      <td>Home and lifestyle</td>\n",
       "      <td>73.56</td>\n",
       "      <td>10.0</td>\n",
       "      <td>36.7800</td>\n",
       "      <td>772.3800</td>\n",
       "      <td>2/24/2019</td>\n",
       "      <td>11:38</td>\n",
       "      <td>Ewallet</td>\n",
       "      <td>8.0</td>\n",
       "    </tr>\n",
       "    <tr>\n",
       "      <th>8</th>\n",
       "      <td>665-32-9167</td>\n",
       "      <td>A</td>\n",
       "      <td>Yangon</td>\n",
       "      <td>Member</td>\n",
       "      <td>Female</td>\n",
       "      <td>Health and beauty</td>\n",
       "      <td>36.26</td>\n",
       "      <td>2.0</td>\n",
       "      <td>3.6260</td>\n",
       "      <td>76.1460</td>\n",
       "      <td>1/10/2019</td>\n",
       "      <td>17:15</td>\n",
       "      <td>Credit card</td>\n",
       "      <td>7.2</td>\n",
       "    </tr>\n",
       "    <tr>\n",
       "      <th>9</th>\n",
       "      <td>692-92-5582</td>\n",
       "      <td>B</td>\n",
       "      <td>Mandalay</td>\n",
       "      <td>Member</td>\n",
       "      <td>Female</td>\n",
       "      <td>Food and beverages</td>\n",
       "      <td>54.84</td>\n",
       "      <td>3.0</td>\n",
       "      <td>8.2260</td>\n",
       "      <td>172.7460</td>\n",
       "      <td>2/20/2019</td>\n",
       "      <td>13:27</td>\n",
       "      <td>Credit card</td>\n",
       "      <td>5.9</td>\n",
       "    </tr>\n",
       "  </tbody>\n",
       "</table>\n",
       "</div>"
      ],
      "text/plain": [
       "    Invoice ID Branch       City Customer type  Gender  \\\n",
       "0  750-67-8428      A     Yangon        Member  Female   \n",
       "1  226-31-3081      C  Naypyitaw        Normal  Female   \n",
       "2  631-41-3108      A     Yangon        Normal    Male   \n",
       "3  123-19-1176      A     Yangon        Member    Male   \n",
       "4  373-73-7910      A     Yangon        Normal    Male   \n",
       "5  699-14-3026      C  Naypyitaw        Normal    Male   \n",
       "6  355-53-5943      A     Yangon        Member  Female   \n",
       "7  315-22-5665      C  Naypyitaw        Normal  Female   \n",
       "8  665-32-9167      A     Yangon        Member  Female   \n",
       "9  692-92-5582      B   Mandalay        Member  Female   \n",
       "\n",
       "             Product line  Unit price  Quantity   Tax 5%     Total       Date  \\\n",
       "0       Health and beauty       74.69       7.0  26.1415  548.9715   1/5/2019   \n",
       "1  Electronic accessories       15.28       5.0   3.8200   80.2200   3/8/2019   \n",
       "2      Home and lifestyle       46.33       7.0  16.2155  340.5255   3/3/2019   \n",
       "3       Health and beauty       58.22       8.0  23.2880  489.0480  1/27/2019   \n",
       "4       Sports and travel       86.31       7.0  30.2085  634.3785   2/8/2019   \n",
       "5  Electronic accessories       85.39       7.0  29.8865  627.6165  3/25/2019   \n",
       "6  Electronic accessories       68.84       6.0  20.6520  433.6920  2/25/2019   \n",
       "7      Home and lifestyle       73.56      10.0  36.7800  772.3800  2/24/2019   \n",
       "8       Health and beauty       36.26       2.0   3.6260   76.1460  1/10/2019   \n",
       "9      Food and beverages       54.84       3.0   8.2260  172.7460  2/20/2019   \n",
       "\n",
       "    Time      Payment  Rating  \n",
       "0  13:08      Ewallet     9.1  \n",
       "1  10:29         Cash     9.6  \n",
       "2  13:23  Credit card     7.4  \n",
       "3  20:33      Ewallet     8.4  \n",
       "4  10:37      Ewallet     5.3  \n",
       "5  18:30      Ewallet     4.1  \n",
       "6  14:36      Ewallet     5.8  \n",
       "7  11:38      Ewallet     8.0  \n",
       "8  17:15  Credit card     7.2  \n",
       "9  13:27  Credit card     5.9  "
      ]
     },
     "execution_count": 8,
     "metadata": {},
     "output_type": "execute_result"
    }
   ],
   "source": [
    "data.head(10)"
   ]
  },
  {
   "cell_type": "code",
   "execution_count": null,
   "metadata": {},
   "outputs": [],
   "source": []
  },
  {
   "cell_type": "markdown",
   "metadata": {
    "slideshow": {
     "slide_type": "subslide"
    }
   },
   "source": [
    "### **tail(n)**\n",
    "\n",
    "Mendapatkan baris n terbawah pada data, default n = 5\n"
   ]
  },
  {
   "cell_type": "code",
   "execution_count": 9,
   "metadata": {},
   "outputs": [
    {
     "data": {
      "text/html": [
       "<div>\n",
       "<style scoped>\n",
       "    .dataframe tbody tr th:only-of-type {\n",
       "        vertical-align: middle;\n",
       "    }\n",
       "\n",
       "    .dataframe tbody tr th {\n",
       "        vertical-align: top;\n",
       "    }\n",
       "\n",
       "    .dataframe thead th {\n",
       "        text-align: right;\n",
       "    }\n",
       "</style>\n",
       "<table border=\"1\" class=\"dataframe\">\n",
       "  <thead>\n",
       "    <tr style=\"text-align: right;\">\n",
       "      <th></th>\n",
       "      <th>Invoice ID</th>\n",
       "      <th>Branch</th>\n",
       "      <th>City</th>\n",
       "      <th>Customer type</th>\n",
       "      <th>Gender</th>\n",
       "      <th>Product line</th>\n",
       "      <th>Unit price</th>\n",
       "      <th>Quantity</th>\n",
       "      <th>Tax 5%</th>\n",
       "      <th>Total</th>\n",
       "      <th>Date</th>\n",
       "      <th>Time</th>\n",
       "      <th>Payment</th>\n",
       "      <th>Rating</th>\n",
       "    </tr>\n",
       "  </thead>\n",
       "  <tbody>\n",
       "    <tr>\n",
       "      <th>1090</th>\n",
       "      <td>189-52-0236</td>\n",
       "      <td>A</td>\n",
       "      <td>Yangon</td>\n",
       "      <td>Normal</td>\n",
       "      <td>Male</td>\n",
       "      <td>Electronic accessories</td>\n",
       "      <td>1.00</td>\n",
       "      <td>7.0</td>\n",
       "      <td>34.8425</td>\n",
       "      <td>731.6925</td>\n",
       "      <td>3/14/2019</td>\n",
       "      <td>12:07</td>\n",
       "      <td>Cash</td>\n",
       "      <td>7.6</td>\n",
       "    </tr>\n",
       "    <tr>\n",
       "      <th>1091</th>\n",
       "      <td>840-76-5966</td>\n",
       "      <td>A</td>\n",
       "      <td>Yangon</td>\n",
       "      <td>Member</td>\n",
       "      <td>Male</td>\n",
       "      <td>Sports and travel</td>\n",
       "      <td>500.00</td>\n",
       "      <td>2.0</td>\n",
       "      <td>1.2760</td>\n",
       "      <td>26.7960</td>\n",
       "      <td>1/8/2019</td>\n",
       "      <td>18:06</td>\n",
       "      <td>Ewallet</td>\n",
       "      <td>7.8</td>\n",
       "    </tr>\n",
       "    <tr>\n",
       "      <th>1092</th>\n",
       "      <td>268-27-6179</td>\n",
       "      <td>B</td>\n",
       "      <td>Mandalay</td>\n",
       "      <td>Member</td>\n",
       "      <td>Female</td>\n",
       "      <td>Fashion accessories</td>\n",
       "      <td>0.75</td>\n",
       "      <td>8.0</td>\n",
       "      <td>22.5880</td>\n",
       "      <td>474.3480</td>\n",
       "      <td>3/9/2019</td>\n",
       "      <td>14:57</td>\n",
       "      <td>Ewallet</td>\n",
       "      <td>7.3</td>\n",
       "    </tr>\n",
       "    <tr>\n",
       "      <th>1093</th>\n",
       "      <td>246-11-3901</td>\n",
       "      <td>C</td>\n",
       "      <td>Naypyitaw</td>\n",
       "      <td>Normal</td>\n",
       "      <td>Female</td>\n",
       "      <td>Electronic accessories</td>\n",
       "      <td>0.50</td>\n",
       "      <td>10.0</td>\n",
       "      <td>16.4000</td>\n",
       "      <td>344.4000</td>\n",
       "      <td>2/15/2019</td>\n",
       "      <td>12:12</td>\n",
       "      <td>Cash</td>\n",
       "      <td>6.2</td>\n",
       "    </tr>\n",
       "    <tr>\n",
       "      <th>1094</th>\n",
       "      <td>151-33-7434</td>\n",
       "      <td>B</td>\n",
       "      <td>Mandalay</td>\n",
       "      <td>Normal</td>\n",
       "      <td>Female</td>\n",
       "      <td>Food and beverages</td>\n",
       "      <td>-1.00</td>\n",
       "      <td>1.0</td>\n",
       "      <td>3.3885</td>\n",
       "      <td>71.1585</td>\n",
       "      <td>2/4/2019</td>\n",
       "      <td>20:43</td>\n",
       "      <td>Credit card</td>\n",
       "      <td>6.5</td>\n",
       "    </tr>\n",
       "    <tr>\n",
       "      <th>1095</th>\n",
       "      <td>831-64-0259</td>\n",
       "      <td>B</td>\n",
       "      <td>Mandalay</td>\n",
       "      <td>Normal</td>\n",
       "      <td>Female</td>\n",
       "      <td>Fashion accessories</td>\n",
       "      <td>500.00</td>\n",
       "      <td>5.0</td>\n",
       "      <td>9.9375</td>\n",
       "      <td>208.6875</td>\n",
       "      <td>2/22/2019</td>\n",
       "      <td>10:43</td>\n",
       "      <td>Ewallet</td>\n",
       "      <td>9.6</td>\n",
       "    </tr>\n",
       "    <tr>\n",
       "      <th>1096</th>\n",
       "      <td>645-44-1170</td>\n",
       "      <td>A</td>\n",
       "      <td>Yangon</td>\n",
       "      <td>Member</td>\n",
       "      <td>Male</td>\n",
       "      <td>Home and lifestyle</td>\n",
       "      <td>300.00</td>\n",
       "      <td>9.0</td>\n",
       "      <td>26.1315</td>\n",
       "      <td>548.7615</td>\n",
       "      <td>1/19/2019</td>\n",
       "      <td>20:07</td>\n",
       "      <td>Ewallet</td>\n",
       "      <td>4.3</td>\n",
       "    </tr>\n",
       "    <tr>\n",
       "      <th>1097</th>\n",
       "      <td>123-19-1176</td>\n",
       "      <td>A</td>\n",
       "      <td>Yangon</td>\n",
       "      <td>Member</td>\n",
       "      <td>Male</td>\n",
       "      <td>Health and beauty</td>\n",
       "      <td>2.00</td>\n",
       "      <td>8.0</td>\n",
       "      <td>23.2880</td>\n",
       "      <td>489.0480</td>\n",
       "      <td>1/27/2019</td>\n",
       "      <td>20:33</td>\n",
       "      <td>Ewallet</td>\n",
       "      <td>8.4</td>\n",
       "    </tr>\n",
       "    <tr>\n",
       "      <th>1098</th>\n",
       "      <td>283-26-5248</td>\n",
       "      <td>C</td>\n",
       "      <td>Naypyitaw</td>\n",
       "      <td>Member</td>\n",
       "      <td>Female</td>\n",
       "      <td>Food and beverages</td>\n",
       "      <td>300.00</td>\n",
       "      <td>10.0</td>\n",
       "      <td>49.2600</td>\n",
       "      <td>1034.4600</td>\n",
       "      <td>1/30/2019</td>\n",
       "      <td>20:23</td>\n",
       "      <td>Ewallet</td>\n",
       "      <td>4.5</td>\n",
       "    </tr>\n",
       "    <tr>\n",
       "      <th>1099</th>\n",
       "      <td>372-62-5264</td>\n",
       "      <td>C</td>\n",
       "      <td>Naypyitaw</td>\n",
       "      <td>Normal</td>\n",
       "      <td>Female</td>\n",
       "      <td>Food and beverages</td>\n",
       "      <td>2.00</td>\n",
       "      <td>9.0</td>\n",
       "      <td>23.6700</td>\n",
       "      <td>497.0700</td>\n",
       "      <td>1/16/2019</td>\n",
       "      <td>14:42</td>\n",
       "      <td>Cash</td>\n",
       "      <td>7.6</td>\n",
       "    </tr>\n",
       "  </tbody>\n",
       "</table>\n",
       "</div>"
      ],
      "text/plain": [
       "       Invoice ID Branch       City Customer type  Gender  \\\n",
       "1090  189-52-0236      A     Yangon        Normal    Male   \n",
       "1091  840-76-5966      A     Yangon        Member    Male   \n",
       "1092  268-27-6179      B   Mandalay        Member  Female   \n",
       "1093  246-11-3901      C  Naypyitaw        Normal  Female   \n",
       "1094  151-33-7434      B   Mandalay        Normal  Female   \n",
       "1095  831-64-0259      B   Mandalay        Normal  Female   \n",
       "1096  645-44-1170      A     Yangon        Member    Male   \n",
       "1097  123-19-1176      A     Yangon        Member    Male   \n",
       "1098  283-26-5248      C  Naypyitaw        Member  Female   \n",
       "1099  372-62-5264      C  Naypyitaw        Normal  Female   \n",
       "\n",
       "                Product line  Unit price  Quantity   Tax 5%      Total  \\\n",
       "1090  Electronic accessories        1.00       7.0  34.8425   731.6925   \n",
       "1091       Sports and travel      500.00       2.0   1.2760    26.7960   \n",
       "1092     Fashion accessories        0.75       8.0  22.5880   474.3480   \n",
       "1093  Electronic accessories        0.50      10.0  16.4000   344.4000   \n",
       "1094      Food and beverages       -1.00       1.0   3.3885    71.1585   \n",
       "1095     Fashion accessories      500.00       5.0   9.9375   208.6875   \n",
       "1096      Home and lifestyle      300.00       9.0  26.1315   548.7615   \n",
       "1097       Health and beauty        2.00       8.0  23.2880   489.0480   \n",
       "1098      Food and beverages      300.00      10.0  49.2600  1034.4600   \n",
       "1099      Food and beverages        2.00       9.0  23.6700   497.0700   \n",
       "\n",
       "           Date   Time      Payment  Rating  \n",
       "1090  3/14/2019  12:07         Cash     7.6  \n",
       "1091   1/8/2019  18:06      Ewallet     7.8  \n",
       "1092   3/9/2019  14:57      Ewallet     7.3  \n",
       "1093  2/15/2019  12:12         Cash     6.2  \n",
       "1094   2/4/2019  20:43  Credit card     6.5  \n",
       "1095  2/22/2019  10:43      Ewallet     9.6  \n",
       "1096  1/19/2019  20:07      Ewallet     4.3  \n",
       "1097  1/27/2019  20:33      Ewallet     8.4  \n",
       "1098  1/30/2019  20:23      Ewallet     4.5  \n",
       "1099  1/16/2019  14:42         Cash     7.6  "
      ]
     },
     "execution_count": 9,
     "metadata": {},
     "output_type": "execute_result"
    }
   ],
   "source": [
    "data.tail(10)"
   ]
  },
  {
   "cell_type": "code",
   "execution_count": null,
   "metadata": {},
   "outputs": [],
   "source": []
  },
  {
   "cell_type": "markdown",
   "metadata": {
    "slideshow": {
     "slide_type": "subslide"
    }
   },
   "source": [
    "### **shape**\n",
    "\n",
    "Mengembalikan sebuah _tuple_ yang berisi $(n, m)$\n",
    "\n",
    "$n$ = Jumlah baris pada data\n",
    "\n",
    "$m$ = Jumlah kolom pada data\n"
   ]
  },
  {
   "cell_type": "code",
   "execution_count": 10,
   "metadata": {},
   "outputs": [
    {
     "data": {
      "text/plain": [
       "(1100, 14)"
      ]
     },
     "execution_count": 10,
     "metadata": {},
     "output_type": "execute_result"
    }
   ],
   "source": [
    "data.shape"
   ]
  },
  {
   "cell_type": "code",
   "execution_count": null,
   "metadata": {},
   "outputs": [],
   "source": []
  },
  {
   "cell_type": "markdown",
   "metadata": {
    "slideshow": {
     "slide_type": "subslide"
    }
   },
   "source": [
    "### **info()**\n",
    "\n",
    "Mendapatkan informasi detail dari setiap **kolom** pada data\n"
   ]
  },
  {
   "cell_type": "code",
   "execution_count": 11,
   "metadata": {},
   "outputs": [
    {
     "name": "stdout",
     "output_type": "stream",
     "text": [
      "<class 'pandas.core.frame.DataFrame'>\n",
      "RangeIndex: 1100 entries, 0 to 1099\n",
      "Data columns (total 14 columns):\n",
      " #   Column         Non-Null Count  Dtype  \n",
      "---  ------         --------------  -----  \n",
      " 0   Invoice ID     1100 non-null   object \n",
      " 1   Branch         1099 non-null   object \n",
      " 2   City           1099 non-null   object \n",
      " 3   Customer type  1099 non-null   object \n",
      " 4   Gender         1099 non-null   object \n",
      " 5   Product line   1099 non-null   object \n",
      " 6   Unit price     1099 non-null   float64\n",
      " 7   Quantity       1099 non-null   float64\n",
      " 8   Tax 5%         1099 non-null   float64\n",
      " 9   Total          1099 non-null   float64\n",
      " 10  Date           1099 non-null   object \n",
      " 11  Time           1099 non-null   object \n",
      " 12  Payment        1099 non-null   object \n",
      " 13  Rating         1099 non-null   float64\n",
      "dtypes: float64(5), object(9)\n",
      "memory usage: 120.4+ KB\n"
     ]
    }
   ],
   "source": [
    "data.info()"
   ]
  },
  {
   "cell_type": "code",
   "execution_count": null,
   "metadata": {},
   "outputs": [],
   "source": []
  },
  {
   "cell_type": "markdown",
   "metadata": {
    "slideshow": {
     "slide_type": "subslide"
    }
   },
   "source": [
    "### **describe()**\n",
    "\n",
    "Mendapatkan ringkasan statistik pada kolom-kolom **numerik**\n",
    "\n",
    "1. count = Jumlah baris\n",
    "2. mean = Rata-rata nilai\n",
    "3. std = Standar Deviasi\n",
    "4. min = Nilai paling kecil\n",
    "5. 25% = Presentil bawah\n",
    "6. 50% = Median\n",
    "7. 75% = Presentil atas\n",
    "8. max = Nilai paling besar\n"
   ]
  },
  {
   "cell_type": "code",
   "execution_count": 12,
   "metadata": {},
   "outputs": [
    {
     "data": {
      "text/html": [
       "<div>\n",
       "<style scoped>\n",
       "    .dataframe tbody tr th:only-of-type {\n",
       "        vertical-align: middle;\n",
       "    }\n",
       "\n",
       "    .dataframe tbody tr th {\n",
       "        vertical-align: top;\n",
       "    }\n",
       "\n",
       "    .dataframe thead th {\n",
       "        text-align: right;\n",
       "    }\n",
       "</style>\n",
       "<table border=\"1\" class=\"dataframe\">\n",
       "  <thead>\n",
       "    <tr style=\"text-align: right;\">\n",
       "      <th></th>\n",
       "      <th>Unit price</th>\n",
       "      <th>Quantity</th>\n",
       "      <th>Tax 5%</th>\n",
       "      <th>Total</th>\n",
       "      <th>Rating</th>\n",
       "    </tr>\n",
       "  </thead>\n",
       "  <tbody>\n",
       "    <tr>\n",
       "      <th>count</th>\n",
       "      <td>1099.000000</td>\n",
       "      <td>1099.000000</td>\n",
       "      <td>1099.000000</td>\n",
       "      <td>1099.000000</td>\n",
       "      <td>1099.000000</td>\n",
       "    </tr>\n",
       "    <tr>\n",
       "      <th>mean</th>\n",
       "      <td>56.976233</td>\n",
       "      <td>5.509554</td>\n",
       "      <td>15.452969</td>\n",
       "      <td>324.327239</td>\n",
       "      <td>6.960692</td>\n",
       "    </tr>\n",
       "    <tr>\n",
       "      <th>std</th>\n",
       "      <td>40.937887</td>\n",
       "      <td>2.926334</td>\n",
       "      <td>11.798542</td>\n",
       "      <td>247.745976</td>\n",
       "      <td>1.718103</td>\n",
       "    </tr>\n",
       "    <tr>\n",
       "      <th>min</th>\n",
       "      <td>-100.000000</td>\n",
       "      <td>1.000000</td>\n",
       "      <td>0.508500</td>\n",
       "      <td>10.678500</td>\n",
       "      <td>4.000000</td>\n",
       "    </tr>\n",
       "    <tr>\n",
       "      <th>25%</th>\n",
       "      <td>31.700000</td>\n",
       "      <td>3.000000</td>\n",
       "      <td>5.894750</td>\n",
       "      <td>123.789750</td>\n",
       "      <td>5.500000</td>\n",
       "    </tr>\n",
       "    <tr>\n",
       "      <th>50%</th>\n",
       "      <td>54.310000</td>\n",
       "      <td>5.000000</td>\n",
       "      <td>12.072000</td>\n",
       "      <td>253.512000</td>\n",
       "      <td>6.900000</td>\n",
       "    </tr>\n",
       "    <tr>\n",
       "      <th>75%</th>\n",
       "      <td>77.940000</td>\n",
       "      <td>8.000000</td>\n",
       "      <td>22.756500</td>\n",
       "      <td>477.886500</td>\n",
       "      <td>8.500000</td>\n",
       "    </tr>\n",
       "    <tr>\n",
       "      <th>max</th>\n",
       "      <td>500.000000</td>\n",
       "      <td>10.000000</td>\n",
       "      <td>49.650000</td>\n",
       "      <td>1042.650000</td>\n",
       "      <td>10.000000</td>\n",
       "    </tr>\n",
       "  </tbody>\n",
       "</table>\n",
       "</div>"
      ],
      "text/plain": [
       "        Unit price     Quantity       Tax 5%        Total       Rating\n",
       "count  1099.000000  1099.000000  1099.000000  1099.000000  1099.000000\n",
       "mean     56.976233     5.509554    15.452969   324.327239     6.960692\n",
       "std      40.937887     2.926334    11.798542   247.745976     1.718103\n",
       "min    -100.000000     1.000000     0.508500    10.678500     4.000000\n",
       "25%      31.700000     3.000000     5.894750   123.789750     5.500000\n",
       "50%      54.310000     5.000000    12.072000   253.512000     6.900000\n",
       "75%      77.940000     8.000000    22.756500   477.886500     8.500000\n",
       "max     500.000000    10.000000    49.650000  1042.650000    10.000000"
      ]
     },
     "execution_count": 12,
     "metadata": {},
     "output_type": "execute_result"
    }
   ],
   "source": [
    "data.describe()"
   ]
  },
  {
   "cell_type": "code",
   "execution_count": null,
   "metadata": {},
   "outputs": [],
   "source": []
  },
  {
   "cell_type": "markdown",
   "metadata": {
    "slideshow": {
     "slide_type": "slide"
    }
   },
   "source": [
    "## Data Understanding **\"Supermarket Sales Dataset\"**\n"
   ]
  },
  {
   "cell_type": "markdown",
   "metadata": {},
   "source": [
    "### **Konteks**\n",
    "\n",
    "Dataset ini dibuat untuk melakukan analisis pertumbuhan dan persaingan supermarket di beberapa kota besar Myanmar. Dataset ini berasal dari salah satu perusahaan supermarket pada 3 cabang yang berbeda selama 3 bulan.\n"
   ]
  },
  {
   "cell_type": "markdown",
   "metadata": {},
   "source": [
    "### Informasi Atribut\n",
    "\n",
    "- **Invoice id**: Nomor identifikasi faktur penjualan yang dihasilkan komputer\n",
    "- **Branch**: Cabang supercenter (tersedia 3 cabang yang diidentifikasi dengan A, B, dan C).\n",
    "- **City**: Lokasi supercenter\n",
    "- **Customer type**: Jenis pelanggan, Members untuk pelanggan yang menggunakan kartu anggota dan Normal untuk tanpa kartu anggota.\n",
    "- **Gender**: Jenis kelamin pelanggan\n",
    "- **Product line**: Kategori item yang dijual - Aksesori elektronik, Aksesori fashion, Makanan dan minuman, Kesehatan dan kecantikan, Rumah dan gaya hidup, Olahraga dan perjalanan\n",
    "- **Unit price**: Harga setiap produk dalam dollar\n",
    "- **Quantity**: Jumlah produk yang dibeli oleh pelanggan\n",
    "- **Tax**: Biaya pajak 5% untuk pembelian pelanggan\n",
    "- **Total**: Harga total termasuk pajak\n",
    "- **Date**: Tanggal pembelian (Rekaman tersedia dari Januari 2019 hingga Maret 2019)\n",
    "- **Time**: Waktu pembelian (10 pagi hingga 9 malam)\n",
    "- **Payment**: Pembayaran yang digunakan pelanggan untuk pembelian (tersedia 3 metode – Tunai, Kartu kredit dan Ewallet)\n",
    "- **Rating**: Penilaian pelanggan tentang pengalaman berbelanja mereka (Dalam skala 1 hingga 10)\n"
   ]
  },
  {
   "cell_type": "code",
   "execution_count": null,
   "metadata": {},
   "outputs": [],
   "source": []
  },
  {
   "cell_type": "markdown",
   "metadata": {
    "slideshow": {
     "slide_type": "slide"
    }
   },
   "source": [
    "## Data Cleaning\n",
    "\n",
    "Proses pembersihan data sebelum dilakukan tahapan analisis dan modeling."
   ]
  },
  {
   "cell_type": "markdown",
   "metadata": {
    "slideshow": {
     "slide_type": "subslide"
    }
   },
   "source": [
    "### Duplicate\n",
    "\n",
    "**duplicated()**\n",
    "\n",
    "Mengembalikan **True** jika baris terduplikasi\n"
   ]
  },
  {
   "cell_type": "code",
   "execution_count": 13,
   "metadata": {
    "slideshow": {
     "slide_type": "-"
    }
   },
   "outputs": [
    {
     "data": {
      "text/plain": [
       "0       False\n",
       "1       False\n",
       "2       False\n",
       "3       False\n",
       "4       False\n",
       "        ...  \n",
       "1095    False\n",
       "1096    False\n",
       "1097    False\n",
       "1098    False\n",
       "1099    False\n",
       "Length: 1100, dtype: bool"
      ]
     },
     "execution_count": 13,
     "metadata": {},
     "output_type": "execute_result"
    }
   ],
   "source": [
    "data.duplicated()"
   ]
  },
  {
   "cell_type": "code",
   "execution_count": null,
   "metadata": {},
   "outputs": [],
   "source": []
  },
  {
   "cell_type": "markdown",
   "metadata": {},
   "source": [
    "**sum()**\n",
    "\n",
    "Melakukan perhitungan jumlah total nilai **True** yang muncul\n"
   ]
  },
  {
   "cell_type": "code",
   "execution_count": 14,
   "metadata": {},
   "outputs": [
    {
     "name": "stdout",
     "output_type": "stream",
     "text": [
      "Banyak baris duplikat:  49\n"
     ]
    }
   ],
   "source": [
    "print(\"Banyak baris duplikat: \", data.duplicated().sum())"
   ]
  },
  {
   "cell_type": "code",
   "execution_count": null,
   "metadata": {},
   "outputs": [],
   "source": []
  },
  {
   "cell_type": "markdown",
   "metadata": {},
   "source": [
    "**drop_duplicates()**\n",
    "\n",
    "Menghapus salah satu baris yang terduplikasi\n"
   ]
  },
  {
   "cell_type": "code",
   "execution_count": 15,
   "metadata": {},
   "outputs": [],
   "source": [
    "# Contoh menggunakan inplace = True\n",
    "data.drop_duplicates(inplace=True)\n",
    "\n",
    "# Contoh tanpa menggunakan inplace = True\n",
    "data = data.drop_duplicates()"
   ]
  },
  {
   "cell_type": "code",
   "execution_count": 16,
   "metadata": {},
   "outputs": [
    {
     "name": "stdout",
     "output_type": "stream",
     "text": [
      "Banyak baris duplikat sesudah drop_duplicates():  0\n"
     ]
    }
   ],
   "source": [
    "print(\"Banyak baris duplikat sesudah drop_duplicates(): \", data.duplicated().sum())"
   ]
  },
  {
   "cell_type": "code",
   "execution_count": null,
   "metadata": {},
   "outputs": [],
   "source": []
  },
  {
   "cell_type": "markdown",
   "metadata": {
    "slideshow": {
     "slide_type": "slide"
    }
   },
   "source": [
    "### Null Value\n"
   ]
  },
  {
   "cell_type": "markdown",
   "metadata": {},
   "source": [
    "**isna()** Akan mengembalikan **True** jika sel bernilai **null/nan**\n"
   ]
  },
  {
   "cell_type": "code",
   "execution_count": 17,
   "metadata": {},
   "outputs": [
    {
     "data": {
      "text/html": [
       "<div>\n",
       "<style scoped>\n",
       "    .dataframe tbody tr th:only-of-type {\n",
       "        vertical-align: middle;\n",
       "    }\n",
       "\n",
       "    .dataframe tbody tr th {\n",
       "        vertical-align: top;\n",
       "    }\n",
       "\n",
       "    .dataframe thead th {\n",
       "        text-align: right;\n",
       "    }\n",
       "</style>\n",
       "<table border=\"1\" class=\"dataframe\">\n",
       "  <thead>\n",
       "    <tr style=\"text-align: right;\">\n",
       "      <th></th>\n",
       "      <th>Invoice ID</th>\n",
       "      <th>Branch</th>\n",
       "      <th>City</th>\n",
       "      <th>Customer type</th>\n",
       "      <th>Gender</th>\n",
       "      <th>Product line</th>\n",
       "      <th>Unit price</th>\n",
       "      <th>Quantity</th>\n",
       "      <th>Tax 5%</th>\n",
       "      <th>Total</th>\n",
       "      <th>Date</th>\n",
       "      <th>Time</th>\n",
       "      <th>Payment</th>\n",
       "      <th>Rating</th>\n",
       "    </tr>\n",
       "  </thead>\n",
       "  <tbody>\n",
       "    <tr>\n",
       "      <th>0</th>\n",
       "      <td>False</td>\n",
       "      <td>False</td>\n",
       "      <td>False</td>\n",
       "      <td>False</td>\n",
       "      <td>False</td>\n",
       "      <td>False</td>\n",
       "      <td>False</td>\n",
       "      <td>False</td>\n",
       "      <td>False</td>\n",
       "      <td>False</td>\n",
       "      <td>False</td>\n",
       "      <td>False</td>\n",
       "      <td>False</td>\n",
       "      <td>False</td>\n",
       "    </tr>\n",
       "    <tr>\n",
       "      <th>1</th>\n",
       "      <td>False</td>\n",
       "      <td>False</td>\n",
       "      <td>False</td>\n",
       "      <td>False</td>\n",
       "      <td>False</td>\n",
       "      <td>False</td>\n",
       "      <td>False</td>\n",
       "      <td>False</td>\n",
       "      <td>False</td>\n",
       "      <td>False</td>\n",
       "      <td>False</td>\n",
       "      <td>False</td>\n",
       "      <td>False</td>\n",
       "      <td>False</td>\n",
       "    </tr>\n",
       "    <tr>\n",
       "      <th>2</th>\n",
       "      <td>False</td>\n",
       "      <td>False</td>\n",
       "      <td>False</td>\n",
       "      <td>False</td>\n",
       "      <td>False</td>\n",
       "      <td>False</td>\n",
       "      <td>False</td>\n",
       "      <td>False</td>\n",
       "      <td>False</td>\n",
       "      <td>False</td>\n",
       "      <td>False</td>\n",
       "      <td>False</td>\n",
       "      <td>False</td>\n",
       "      <td>False</td>\n",
       "    </tr>\n",
       "    <tr>\n",
       "      <th>3</th>\n",
       "      <td>False</td>\n",
       "      <td>False</td>\n",
       "      <td>False</td>\n",
       "      <td>False</td>\n",
       "      <td>False</td>\n",
       "      <td>False</td>\n",
       "      <td>False</td>\n",
       "      <td>False</td>\n",
       "      <td>False</td>\n",
       "      <td>False</td>\n",
       "      <td>False</td>\n",
       "      <td>False</td>\n",
       "      <td>False</td>\n",
       "      <td>False</td>\n",
       "    </tr>\n",
       "    <tr>\n",
       "      <th>4</th>\n",
       "      <td>False</td>\n",
       "      <td>False</td>\n",
       "      <td>False</td>\n",
       "      <td>False</td>\n",
       "      <td>False</td>\n",
       "      <td>False</td>\n",
       "      <td>False</td>\n",
       "      <td>False</td>\n",
       "      <td>False</td>\n",
       "      <td>False</td>\n",
       "      <td>False</td>\n",
       "      <td>False</td>\n",
       "      <td>False</td>\n",
       "      <td>False</td>\n",
       "    </tr>\n",
       "    <tr>\n",
       "      <th>...</th>\n",
       "      <td>...</td>\n",
       "      <td>...</td>\n",
       "      <td>...</td>\n",
       "      <td>...</td>\n",
       "      <td>...</td>\n",
       "      <td>...</td>\n",
       "      <td>...</td>\n",
       "      <td>...</td>\n",
       "      <td>...</td>\n",
       "      <td>...</td>\n",
       "      <td>...</td>\n",
       "      <td>...</td>\n",
       "      <td>...</td>\n",
       "      <td>...</td>\n",
       "    </tr>\n",
       "    <tr>\n",
       "      <th>1095</th>\n",
       "      <td>False</td>\n",
       "      <td>False</td>\n",
       "      <td>False</td>\n",
       "      <td>False</td>\n",
       "      <td>False</td>\n",
       "      <td>False</td>\n",
       "      <td>False</td>\n",
       "      <td>False</td>\n",
       "      <td>False</td>\n",
       "      <td>False</td>\n",
       "      <td>False</td>\n",
       "      <td>False</td>\n",
       "      <td>False</td>\n",
       "      <td>False</td>\n",
       "    </tr>\n",
       "    <tr>\n",
       "      <th>1096</th>\n",
       "      <td>False</td>\n",
       "      <td>False</td>\n",
       "      <td>False</td>\n",
       "      <td>False</td>\n",
       "      <td>False</td>\n",
       "      <td>False</td>\n",
       "      <td>False</td>\n",
       "      <td>False</td>\n",
       "      <td>False</td>\n",
       "      <td>False</td>\n",
       "      <td>False</td>\n",
       "      <td>False</td>\n",
       "      <td>False</td>\n",
       "      <td>False</td>\n",
       "    </tr>\n",
       "    <tr>\n",
       "      <th>1097</th>\n",
       "      <td>False</td>\n",
       "      <td>False</td>\n",
       "      <td>False</td>\n",
       "      <td>False</td>\n",
       "      <td>False</td>\n",
       "      <td>False</td>\n",
       "      <td>False</td>\n",
       "      <td>False</td>\n",
       "      <td>False</td>\n",
       "      <td>False</td>\n",
       "      <td>False</td>\n",
       "      <td>False</td>\n",
       "      <td>False</td>\n",
       "      <td>False</td>\n",
       "    </tr>\n",
       "    <tr>\n",
       "      <th>1098</th>\n",
       "      <td>False</td>\n",
       "      <td>False</td>\n",
       "      <td>False</td>\n",
       "      <td>False</td>\n",
       "      <td>False</td>\n",
       "      <td>False</td>\n",
       "      <td>False</td>\n",
       "      <td>False</td>\n",
       "      <td>False</td>\n",
       "      <td>False</td>\n",
       "      <td>False</td>\n",
       "      <td>False</td>\n",
       "      <td>False</td>\n",
       "      <td>False</td>\n",
       "    </tr>\n",
       "    <tr>\n",
       "      <th>1099</th>\n",
       "      <td>False</td>\n",
       "      <td>False</td>\n",
       "      <td>False</td>\n",
       "      <td>False</td>\n",
       "      <td>False</td>\n",
       "      <td>False</td>\n",
       "      <td>False</td>\n",
       "      <td>False</td>\n",
       "      <td>False</td>\n",
       "      <td>False</td>\n",
       "      <td>False</td>\n",
       "      <td>False</td>\n",
       "      <td>False</td>\n",
       "      <td>False</td>\n",
       "    </tr>\n",
       "  </tbody>\n",
       "</table>\n",
       "<p>1051 rows × 14 columns</p>\n",
       "</div>"
      ],
      "text/plain": [
       "      Invoice ID  Branch   City  Customer type  Gender  Product line  \\\n",
       "0          False   False  False          False   False         False   \n",
       "1          False   False  False          False   False         False   \n",
       "2          False   False  False          False   False         False   \n",
       "3          False   False  False          False   False         False   \n",
       "4          False   False  False          False   False         False   \n",
       "...          ...     ...    ...            ...     ...           ...   \n",
       "1095       False   False  False          False   False         False   \n",
       "1096       False   False  False          False   False         False   \n",
       "1097       False   False  False          False   False         False   \n",
       "1098       False   False  False          False   False         False   \n",
       "1099       False   False  False          False   False         False   \n",
       "\n",
       "      Unit price  Quantity  Tax 5%  Total   Date   Time  Payment  Rating  \n",
       "0          False     False   False  False  False  False    False   False  \n",
       "1          False     False   False  False  False  False    False   False  \n",
       "2          False     False   False  False  False  False    False   False  \n",
       "3          False     False   False  False  False  False    False   False  \n",
       "4          False     False   False  False  False  False    False   False  \n",
       "...          ...       ...     ...    ...    ...    ...      ...     ...  \n",
       "1095       False     False   False  False  False  False    False   False  \n",
       "1096       False     False   False  False  False  False    False   False  \n",
       "1097       False     False   False  False  False  False    False   False  \n",
       "1098       False     False   False  False  False  False    False   False  \n",
       "1099       False     False   False  False  False  False    False   False  \n",
       "\n",
       "[1051 rows x 14 columns]"
      ]
     },
     "execution_count": 17,
     "metadata": {},
     "output_type": "execute_result"
    }
   ],
   "source": [
    "data.isna()"
   ]
  },
  {
   "cell_type": "code",
   "execution_count": null,
   "metadata": {},
   "outputs": [],
   "source": []
  },
  {
   "cell_type": "markdown",
   "metadata": {},
   "source": [
    "**sum()** akan menampilkan banyak null tiap **kolom**\n"
   ]
  },
  {
   "cell_type": "code",
   "execution_count": 18,
   "metadata": {},
   "outputs": [
    {
     "data": {
      "text/plain": [
       "Invoice ID       0\n",
       "Branch           1\n",
       "City             1\n",
       "Customer type    1\n",
       "Gender           1\n",
       "Product line     1\n",
       "Unit price       1\n",
       "Quantity         1\n",
       "Tax 5%           1\n",
       "Total            1\n",
       "Date             1\n",
       "Time             1\n",
       "Payment          1\n",
       "Rating           1\n",
       "dtype: int64"
      ]
     },
     "execution_count": 18,
     "metadata": {},
     "output_type": "execute_result"
    }
   ],
   "source": [
    "null_per_col = data.isna().sum()\n",
    "null_per_col"
   ]
  },
  {
   "cell_type": "code",
   "execution_count": null,
   "metadata": {},
   "outputs": [],
   "source": []
  },
  {
   "cell_type": "markdown",
   "metadata": {
    "slideshow": {
     "slide_type": "subslide"
    }
   },
   "source": [
    "#### Penanganan nilai NaN/null menggunakan metode **imputasi**\n"
   ]
  },
  {
   "cell_type": "code",
   "execution_count": 19,
   "metadata": {},
   "outputs": [
    {
     "data": {
      "text/html": [
       "<div>\n",
       "<style scoped>\n",
       "    .dataframe tbody tr th:only-of-type {\n",
       "        vertical-align: middle;\n",
       "    }\n",
       "\n",
       "    .dataframe tbody tr th {\n",
       "        vertical-align: top;\n",
       "    }\n",
       "\n",
       "    .dataframe thead th {\n",
       "        text-align: right;\n",
       "    }\n",
       "</style>\n",
       "<table border=\"1\" class=\"dataframe\">\n",
       "  <thead>\n",
       "    <tr style=\"text-align: right;\">\n",
       "      <th></th>\n",
       "      <th>Invoice ID</th>\n",
       "      <th>Branch</th>\n",
       "      <th>City</th>\n",
       "      <th>Customer type</th>\n",
       "      <th>Gender</th>\n",
       "      <th>Product line</th>\n",
       "      <th>Unit price</th>\n",
       "      <th>Quantity</th>\n",
       "      <th>Tax 5%</th>\n",
       "      <th>Total</th>\n",
       "      <th>Date</th>\n",
       "      <th>Time</th>\n",
       "      <th>Payment</th>\n",
       "      <th>Rating</th>\n",
       "    </tr>\n",
       "  </thead>\n",
       "  <tbody>\n",
       "    <tr>\n",
       "      <th>17</th>\n",
       "      <td>765-26-6951</td>\n",
       "      <td>A</td>\n",
       "      <td>Yangon</td>\n",
       "      <td>Normal</td>\n",
       "      <td>Male</td>\n",
       "      <td>Sports and travel</td>\n",
       "      <td>72.61</td>\n",
       "      <td>6.0</td>\n",
       "      <td>21.783</td>\n",
       "      <td>NaN</td>\n",
       "      <td>1/1/2019</td>\n",
       "      <td>10:39</td>\n",
       "      <td>Credit card</td>\n",
       "      <td>6.9</td>\n",
       "    </tr>\n",
       "  </tbody>\n",
       "</table>\n",
       "</div>"
      ],
      "text/plain": [
       "     Invoice ID Branch    City Customer type Gender       Product line  \\\n",
       "17  765-26-6951      A  Yangon        Normal   Male  Sports and travel   \n",
       "\n",
       "    Unit price  Quantity  Tax 5%  Total      Date   Time      Payment  Rating  \n",
       "17       72.61       6.0  21.783    NaN  1/1/2019  10:39  Credit card     6.9  "
      ]
     },
     "execution_count": 19,
     "metadata": {},
     "output_type": "execute_result"
    }
   ],
   "source": [
    "# Menampilkan baris data dengan kolom total yang bernilai NaN/null\n",
    "data[data['Total'].isna()]"
   ]
  },
  {
   "cell_type": "code",
   "execution_count": null,
   "metadata": {},
   "outputs": [],
   "source": []
  },
  {
   "cell_type": "markdown",
   "metadata": {},
   "source": [
    "**mean()** Mengembalikan rata-rata dalam suatu kolom\n",
    "\n",
    "**mode()** Mengembalikan modus dalam suatu kolom\n",
    "\n",
    "**median()** Mengembalikan median dalam suatu kolom\n"
   ]
  },
  {
   "cell_type": "code",
   "execution_count": 20,
   "metadata": {},
   "outputs": [],
   "source": [
    "# mean_total_col menyimpan rata-rata dari seluruh nilai pada kolom Total\n",
    "mean_total_col = data['Total'].mean()\n",
    "\n",
    "# median_total_col menyimpan median dari nilai pada kolom Total\n",
    "# median_total_col = data['Total'].median()"
   ]
  },
  {
   "cell_type": "code",
   "execution_count": null,
   "metadata": {},
   "outputs": [],
   "source": []
  },
  {
   "cell_type": "markdown",
   "metadata": {},
   "source": [
    "**fillna()** Mengisi data NaN/null pada suatu kolom dengan **value** tertentu\n"
   ]
  },
  {
   "cell_type": "code",
   "execution_count": 21,
   "metadata": {},
   "outputs": [],
   "source": [
    "# Semua data pada kolom Total yang bernilai NaN/null akan diisi dengan mean_total_col\n",
    "data['Total'].fillna(value=mean_total_col, inplace=True)"
   ]
  },
  {
   "cell_type": "code",
   "execution_count": null,
   "metadata": {},
   "outputs": [],
   "source": []
  },
  {
   "cell_type": "markdown",
   "metadata": {
    "slideshow": {
     "slide_type": "subslide"
    }
   },
   "source": [
    "#### Penanganan nilai NaN/null menggunakan metode **Hapus Baris**\n",
    "\n",
    "**dropna()** Menghapus baris yang mengandung nilai NaN/null\n"
   ]
  },
  {
   "cell_type": "code",
   "execution_count": 22,
   "metadata": {},
   "outputs": [
    {
     "data": {
      "text/plain": [
       "Invoice ID       0\n",
       "Branch           0\n",
       "City             0\n",
       "Customer type    0\n",
       "Gender           0\n",
       "Product line     0\n",
       "Unit price       0\n",
       "Quantity         0\n",
       "Tax 5%           0\n",
       "Total            0\n",
       "Date             0\n",
       "Time             0\n",
       "Payment          0\n",
       "Rating           0\n",
       "dtype: int64"
      ]
     },
     "execution_count": 22,
     "metadata": {},
     "output_type": "execute_result"
    }
   ],
   "source": [
    "data.dropna(inplace=True)\n",
    "\n",
    "# Jumlah data NaN/null setelah dropna()\n",
    "data.isna().sum()"
   ]
  },
  {
   "cell_type": "code",
   "execution_count": null,
   "metadata": {},
   "outputs": [],
   "source": []
  },
  {
   "cell_type": "markdown",
   "metadata": {
    "slideshow": {
     "slide_type": "slide"
    }
   },
   "source": [
    "### Outlier\n",
    "\n",
    "Outlier adalah nilai yang jauh berbeda dari nilai lainnya dalam kumpulan data. Nilai ini muncul sebagai pengecualian dalam pola data yang ada.\n"
   ]
  },
  {
   "cell_type": "markdown",
   "metadata": {
    "slideshow": {
     "slide_type": "subslide"
    }
   },
   "source": [
    "#### Outlier Kategorikal\n"
   ]
  },
  {
   "cell_type": "markdown",
   "metadata": {},
   "source": [
    "**unique()** Mengembalikan nilai unik dari suatu kolom\n",
    "\n",
    "**nunique()** Mengembalikan jumlah nilai unik dari suatu kolom\n"
   ]
  },
  {
   "cell_type": "code",
   "execution_count": 23,
   "metadata": {},
   "outputs": [
    {
     "name": "stdout",
     "output_type": "stream",
     "text": [
      "Jumlah jenis gender pada data\t: 5\n",
      "Jenis gender pada data\t\t: ['Female' 'Male' 'Computer' 'Rather not say' 'Helicopter']\n"
     ]
    }
   ],
   "source": [
    "gender_count = data['Gender'].nunique()\n",
    "gender_values = data['Gender'].unique()\n",
    "\n",
    "print(\"Jumlah jenis gender pada data\\t:\", gender_count)\n",
    "print(\"Jenis gender pada data\\t\\t:\", gender_values)"
   ]
  },
  {
   "cell_type": "code",
   "execution_count": null,
   "metadata": {},
   "outputs": [],
   "source": []
  },
  {
   "cell_type": "markdown",
   "metadata": {},
   "source": [
    "**.value_counts()** Mengembalikan jumlah setiap jenis nilai yang unik\n"
   ]
  },
  {
   "cell_type": "code",
   "execution_count": 24,
   "metadata": {},
   "outputs": [
    {
     "data": {
      "text/plain": [
       "Female            516\n",
       "Male              503\n",
       "Rather not say      9\n",
       "Helicopter          6\n",
       "Computer            5\n",
       "Name: Gender, dtype: int64"
      ]
     },
     "execution_count": 24,
     "metadata": {},
     "output_type": "execute_result"
    }
   ],
   "source": [
    "gender_values = data['Gender'].value_counts()\n",
    "gender_values"
   ]
  },
  {
   "cell_type": "code",
   "execution_count": null,
   "metadata": {},
   "outputs": [],
   "source": []
  },
  {
   "cell_type": "markdown",
   "metadata": {
    "slideshow": {
     "slide_type": "subslide"
    }
   },
   "source": [
    "##### Penanganan Outlier Menggunakan **Imputasi**\n"
   ]
  },
  {
   "cell_type": "markdown",
   "metadata": {},
   "source": [
    "**mode()** Mengembalikan _tuple_ dari modus data pada suatu kolom (Modus dapat memiliki lebih dari satu nilai)\n",
    "\n",
    "**replace(before, after)** Melakukan replace nilai **before** menjadi **after** pada semua baris suatu kolom\n"
   ]
  },
  {
   "cell_type": "code",
   "execution_count": 25,
   "metadata": {
    "scrolled": true
   },
   "outputs": [
    {
     "data": {
      "text/plain": [
       "Female        525\n",
       "Male          503\n",
       "Helicopter      6\n",
       "Computer        5\n",
       "Name: Gender, dtype: int64"
      ]
     },
     "execution_count": 25,
     "metadata": {},
     "output_type": "execute_result"
    }
   ],
   "source": [
    "mode_gender_col = data[\"Gender\"].mode()\n",
    "data[\"Gender\"].replace(\"Rather not say\", mode_gender_col[0], inplace=True)\n",
    "data['Gender'].value_counts()"
   ]
  },
  {
   "cell_type": "code",
   "execution_count": null,
   "metadata": {},
   "outputs": [],
   "source": []
  },
  {
   "cell_type": "markdown",
   "metadata": {
    "slideshow": {
     "slide_type": "subslide"
    }
   },
   "source": [
    "##### Penanganan Outlier dengan Menghapus Baris\n"
   ]
  },
  {
   "cell_type": "code",
   "execution_count": 26,
   "metadata": {},
   "outputs": [
    {
     "data": {
      "text/plain": [
       "0       True\n",
       "1       True\n",
       "2       True\n",
       "3       True\n",
       "4       True\n",
       "        ... \n",
       "1095    True\n",
       "1096    True\n",
       "1097    True\n",
       "1098    True\n",
       "1099    True\n",
       "Name: Gender, Length: 1039, dtype: bool"
      ]
     },
     "execution_count": 26,
     "metadata": {},
     "output_type": "execute_result"
    }
   ],
   "source": [
    "gender_outlier = ['Helicopter', 'Computer']\n",
    "\n",
    "# Mengembalikan True pada setiap barisnya jika nilai gender tidak ada pada list gender_outlier.\n",
    "filter_gender = ~data['Gender'].isin(gender_outlier)\n",
    "filter_gender"
   ]
  },
  {
   "cell_type": "code",
   "execution_count": null,
   "metadata": {},
   "outputs": [],
   "source": []
  },
  {
   "cell_type": "code",
   "execution_count": 27,
   "metadata": {},
   "outputs": [
    {
     "data": {
      "text/html": [
       "<div>\n",
       "<style scoped>\n",
       "    .dataframe tbody tr th:only-of-type {\n",
       "        vertical-align: middle;\n",
       "    }\n",
       "\n",
       "    .dataframe tbody tr th {\n",
       "        vertical-align: top;\n",
       "    }\n",
       "\n",
       "    .dataframe thead th {\n",
       "        text-align: right;\n",
       "    }\n",
       "</style>\n",
       "<table border=\"1\" class=\"dataframe\">\n",
       "  <thead>\n",
       "    <tr style=\"text-align: right;\">\n",
       "      <th></th>\n",
       "      <th>Invoice ID</th>\n",
       "      <th>Branch</th>\n",
       "      <th>City</th>\n",
       "      <th>Customer type</th>\n",
       "      <th>Gender</th>\n",
       "      <th>Product line</th>\n",
       "      <th>Unit price</th>\n",
       "      <th>Quantity</th>\n",
       "      <th>Tax 5%</th>\n",
       "      <th>Total</th>\n",
       "      <th>Date</th>\n",
       "      <th>Time</th>\n",
       "      <th>Payment</th>\n",
       "      <th>Rating</th>\n",
       "    </tr>\n",
       "  </thead>\n",
       "  <tbody>\n",
       "    <tr>\n",
       "      <th>0</th>\n",
       "      <td>750-67-8428</td>\n",
       "      <td>A</td>\n",
       "      <td>Yangon</td>\n",
       "      <td>Member</td>\n",
       "      <td>Female</td>\n",
       "      <td>Health and beauty</td>\n",
       "      <td>74.69</td>\n",
       "      <td>7.0</td>\n",
       "      <td>26.1415</td>\n",
       "      <td>548.9715</td>\n",
       "      <td>1/5/2019</td>\n",
       "      <td>13:08</td>\n",
       "      <td>Ewallet</td>\n",
       "      <td>9.1</td>\n",
       "    </tr>\n",
       "    <tr>\n",
       "      <th>1</th>\n",
       "      <td>226-31-3081</td>\n",
       "      <td>C</td>\n",
       "      <td>Naypyitaw</td>\n",
       "      <td>Normal</td>\n",
       "      <td>Female</td>\n",
       "      <td>Electronic accessories</td>\n",
       "      <td>15.28</td>\n",
       "      <td>5.0</td>\n",
       "      <td>3.8200</td>\n",
       "      <td>80.2200</td>\n",
       "      <td>3/8/2019</td>\n",
       "      <td>10:29</td>\n",
       "      <td>Cash</td>\n",
       "      <td>9.6</td>\n",
       "    </tr>\n",
       "    <tr>\n",
       "      <th>2</th>\n",
       "      <td>631-41-3108</td>\n",
       "      <td>A</td>\n",
       "      <td>Yangon</td>\n",
       "      <td>Normal</td>\n",
       "      <td>Male</td>\n",
       "      <td>Home and lifestyle</td>\n",
       "      <td>46.33</td>\n",
       "      <td>7.0</td>\n",
       "      <td>16.2155</td>\n",
       "      <td>340.5255</td>\n",
       "      <td>3/3/2019</td>\n",
       "      <td>13:23</td>\n",
       "      <td>Credit card</td>\n",
       "      <td>7.4</td>\n",
       "    </tr>\n",
       "    <tr>\n",
       "      <th>3</th>\n",
       "      <td>123-19-1176</td>\n",
       "      <td>A</td>\n",
       "      <td>Yangon</td>\n",
       "      <td>Member</td>\n",
       "      <td>Male</td>\n",
       "      <td>Health and beauty</td>\n",
       "      <td>58.22</td>\n",
       "      <td>8.0</td>\n",
       "      <td>23.2880</td>\n",
       "      <td>489.0480</td>\n",
       "      <td>1/27/2019</td>\n",
       "      <td>20:33</td>\n",
       "      <td>Ewallet</td>\n",
       "      <td>8.4</td>\n",
       "    </tr>\n",
       "    <tr>\n",
       "      <th>4</th>\n",
       "      <td>373-73-7910</td>\n",
       "      <td>A</td>\n",
       "      <td>Yangon</td>\n",
       "      <td>Normal</td>\n",
       "      <td>Male</td>\n",
       "      <td>Sports and travel</td>\n",
       "      <td>86.31</td>\n",
       "      <td>7.0</td>\n",
       "      <td>30.2085</td>\n",
       "      <td>634.3785</td>\n",
       "      <td>2/8/2019</td>\n",
       "      <td>10:37</td>\n",
       "      <td>Ewallet</td>\n",
       "      <td>5.3</td>\n",
       "    </tr>\n",
       "    <tr>\n",
       "      <th>...</th>\n",
       "      <td>...</td>\n",
       "      <td>...</td>\n",
       "      <td>...</td>\n",
       "      <td>...</td>\n",
       "      <td>...</td>\n",
       "      <td>...</td>\n",
       "      <td>...</td>\n",
       "      <td>...</td>\n",
       "      <td>...</td>\n",
       "      <td>...</td>\n",
       "      <td>...</td>\n",
       "      <td>...</td>\n",
       "      <td>...</td>\n",
       "      <td>...</td>\n",
       "    </tr>\n",
       "    <tr>\n",
       "      <th>1095</th>\n",
       "      <td>831-64-0259</td>\n",
       "      <td>B</td>\n",
       "      <td>Mandalay</td>\n",
       "      <td>Normal</td>\n",
       "      <td>Female</td>\n",
       "      <td>Fashion accessories</td>\n",
       "      <td>500.00</td>\n",
       "      <td>5.0</td>\n",
       "      <td>9.9375</td>\n",
       "      <td>208.6875</td>\n",
       "      <td>2/22/2019</td>\n",
       "      <td>10:43</td>\n",
       "      <td>Ewallet</td>\n",
       "      <td>9.6</td>\n",
       "    </tr>\n",
       "    <tr>\n",
       "      <th>1096</th>\n",
       "      <td>645-44-1170</td>\n",
       "      <td>A</td>\n",
       "      <td>Yangon</td>\n",
       "      <td>Member</td>\n",
       "      <td>Male</td>\n",
       "      <td>Home and lifestyle</td>\n",
       "      <td>300.00</td>\n",
       "      <td>9.0</td>\n",
       "      <td>26.1315</td>\n",
       "      <td>548.7615</td>\n",
       "      <td>1/19/2019</td>\n",
       "      <td>20:07</td>\n",
       "      <td>Ewallet</td>\n",
       "      <td>4.3</td>\n",
       "    </tr>\n",
       "    <tr>\n",
       "      <th>1097</th>\n",
       "      <td>123-19-1176</td>\n",
       "      <td>A</td>\n",
       "      <td>Yangon</td>\n",
       "      <td>Member</td>\n",
       "      <td>Male</td>\n",
       "      <td>Health and beauty</td>\n",
       "      <td>2.00</td>\n",
       "      <td>8.0</td>\n",
       "      <td>23.2880</td>\n",
       "      <td>489.0480</td>\n",
       "      <td>1/27/2019</td>\n",
       "      <td>20:33</td>\n",
       "      <td>Ewallet</td>\n",
       "      <td>8.4</td>\n",
       "    </tr>\n",
       "    <tr>\n",
       "      <th>1098</th>\n",
       "      <td>283-26-5248</td>\n",
       "      <td>C</td>\n",
       "      <td>Naypyitaw</td>\n",
       "      <td>Member</td>\n",
       "      <td>Female</td>\n",
       "      <td>Food and beverages</td>\n",
       "      <td>300.00</td>\n",
       "      <td>10.0</td>\n",
       "      <td>49.2600</td>\n",
       "      <td>1034.4600</td>\n",
       "      <td>1/30/2019</td>\n",
       "      <td>20:23</td>\n",
       "      <td>Ewallet</td>\n",
       "      <td>4.5</td>\n",
       "    </tr>\n",
       "    <tr>\n",
       "      <th>1099</th>\n",
       "      <td>372-62-5264</td>\n",
       "      <td>C</td>\n",
       "      <td>Naypyitaw</td>\n",
       "      <td>Normal</td>\n",
       "      <td>Female</td>\n",
       "      <td>Food and beverages</td>\n",
       "      <td>2.00</td>\n",
       "      <td>9.0</td>\n",
       "      <td>23.6700</td>\n",
       "      <td>497.0700</td>\n",
       "      <td>1/16/2019</td>\n",
       "      <td>14:42</td>\n",
       "      <td>Cash</td>\n",
       "      <td>7.6</td>\n",
       "    </tr>\n",
       "  </tbody>\n",
       "</table>\n",
       "<p>1028 rows × 14 columns</p>\n",
       "</div>"
      ],
      "text/plain": [
       "       Invoice ID Branch       City Customer type  Gender  \\\n",
       "0     750-67-8428      A     Yangon        Member  Female   \n",
       "1     226-31-3081      C  Naypyitaw        Normal  Female   \n",
       "2     631-41-3108      A     Yangon        Normal    Male   \n",
       "3     123-19-1176      A     Yangon        Member    Male   \n",
       "4     373-73-7910      A     Yangon        Normal    Male   \n",
       "...           ...    ...        ...           ...     ...   \n",
       "1095  831-64-0259      B   Mandalay        Normal  Female   \n",
       "1096  645-44-1170      A     Yangon        Member    Male   \n",
       "1097  123-19-1176      A     Yangon        Member    Male   \n",
       "1098  283-26-5248      C  Naypyitaw        Member  Female   \n",
       "1099  372-62-5264      C  Naypyitaw        Normal  Female   \n",
       "\n",
       "                Product line  Unit price  Quantity   Tax 5%      Total  \\\n",
       "0          Health and beauty       74.69       7.0  26.1415   548.9715   \n",
       "1     Electronic accessories       15.28       5.0   3.8200    80.2200   \n",
       "2         Home and lifestyle       46.33       7.0  16.2155   340.5255   \n",
       "3          Health and beauty       58.22       8.0  23.2880   489.0480   \n",
       "4          Sports and travel       86.31       7.0  30.2085   634.3785   \n",
       "...                      ...         ...       ...      ...        ...   \n",
       "1095     Fashion accessories      500.00       5.0   9.9375   208.6875   \n",
       "1096      Home and lifestyle      300.00       9.0  26.1315   548.7615   \n",
       "1097       Health and beauty        2.00       8.0  23.2880   489.0480   \n",
       "1098      Food and beverages      300.00      10.0  49.2600  1034.4600   \n",
       "1099      Food and beverages        2.00       9.0  23.6700   497.0700   \n",
       "\n",
       "           Date   Time      Payment  Rating  \n",
       "0      1/5/2019  13:08      Ewallet     9.1  \n",
       "1      3/8/2019  10:29         Cash     9.6  \n",
       "2      3/3/2019  13:23  Credit card     7.4  \n",
       "3     1/27/2019  20:33      Ewallet     8.4  \n",
       "4      2/8/2019  10:37      Ewallet     5.3  \n",
       "...         ...    ...          ...     ...  \n",
       "1095  2/22/2019  10:43      Ewallet     9.6  \n",
       "1096  1/19/2019  20:07      Ewallet     4.3  \n",
       "1097  1/27/2019  20:33      Ewallet     8.4  \n",
       "1098  1/30/2019  20:23      Ewallet     4.5  \n",
       "1099  1/16/2019  14:42         Cash     7.6  \n",
       "\n",
       "[1028 rows x 14 columns]"
      ]
     },
     "execution_count": 27,
     "metadata": {},
     "output_type": "execute_result"
    }
   ],
   "source": [
    "# Baris yang bernilai False akan diabaikan, sehingga tersisa baris yang bernilai True\n",
    "data = data[filter_gender]\n",
    "data"
   ]
  },
  {
   "cell_type": "code",
   "execution_count": null,
   "metadata": {},
   "outputs": [],
   "source": []
  },
  {
   "cell_type": "code",
   "execution_count": 28,
   "metadata": {},
   "outputs": [
    {
     "data": {
      "text/plain": [
       "array(['Female', 'Male'], dtype=object)"
      ]
     },
     "execution_count": 28,
     "metadata": {},
     "output_type": "execute_result"
    }
   ],
   "source": [
    "# Hasil akhir kolom Gender setelah dilakukan penanganan Outlier\n",
    "data['Gender'].unique()"
   ]
  },
  {
   "cell_type": "code",
   "execution_count": null,
   "metadata": {},
   "outputs": [],
   "source": []
  },
  {
   "cell_type": "markdown",
   "metadata": {
    "slideshow": {
     "slide_type": "subslide"
    }
   },
   "source": [
    "#### Outlier Numerikal\n",
    "\n",
    "![](https://miro.medium.com/v2/resize:fit:1400/format:webp/1*0MPDTLn8KoLApoFvI0P2vQ.png)\n"
   ]
  },
  {
   "cell_type": "markdown",
   "metadata": {},
   "source": [
    "**Formula IQR**\n",
    "\n",
    "> $IQR = Q3 - Q1$\n",
    "\n",
    "$IQR = $ Interquartile Range\n",
    "\n",
    "$Q1 = $ 1st quartile atau presentil bawah\n",
    "\n",
    "$Q3 = $ 3rd quartile atau presentil atas\n"
   ]
  },
  {
   "cell_type": "markdown",
   "metadata": {},
   "source": [
    "**Fungsi menghapus _outliers_ pada suatu kolom pada data.**"
   ]
  },
  {
   "cell_type": "code",
   "execution_count": 29,
   "metadata": {},
   "outputs": [],
   "source": [
    "def remove_outliers_iqr(data, column_name):\n",
    "\n",
    "    Q1 = np.percentile(data[column_name], 25)\n",
    "    Q3 = np.percentile(data[column_name], 75)\n",
    "\n",
    "    IQR = Q3 - Q1\n",
    "\n",
    "    maximum = Q3 + (1.5 * IQR)\n",
    "    minimum = Q1 - (1.5 * IQR)\n",
    "\n",
    "    outlier_filter = (data[column_name] < minimum) | (\n",
    "        data[column_name] > maximum)\n",
    "\n",
    "    # print(outlier_filter)\n",
    "\n",
    "    data = data[~outlier_filter]\n",
    "\n",
    "    return data"
   ]
  },
  {
   "cell_type": "code",
   "execution_count": null,
   "metadata": {},
   "outputs": [],
   "source": []
  },
  {
   "cell_type": "markdown",
   "metadata": {},
   "source": [
    "**Fungsi visualisasi _outliers_ pada suatu kolom menggunakan boxplot**\n"
   ]
  },
  {
   "cell_type": "code",
   "execution_count": 30,
   "metadata": {},
   "outputs": [],
   "source": [
    "def plot_boxplot_with_outliers(df, column_name):\n",
    "    plt.boxplot(df[column_name], vert=False)\n",
    "    plt.xlabel(column_name)\n",
    "    plt.title('Outliers pada ' + column_name)\n",
    "    plt.show()"
   ]
  },
  {
   "cell_type": "code",
   "execution_count": null,
   "metadata": {},
   "outputs": [],
   "source": []
  },
  {
   "cell_type": "markdown",
   "metadata": {},
   "source": [
    "Visualisasi _Outliters_ pada Kolom **Unit Price** sebelum dibersihkan\n"
   ]
  },
  {
   "cell_type": "code",
   "execution_count": 31,
   "metadata": {},
   "outputs": [
    {
     "data": {
      "image/png": "[encoded data removed]",
      "text/plain": [
       "<Figure size 640x480 with 1 Axes>"
      ]
     },
     "metadata": {},
     "output_type": "display_data"
    }
   ],
   "source": [
    "plot_boxplot_with_outliers(data, \"Unit price\")"
   ]
  },
  {
   "cell_type": "code",
   "execution_count": null,
   "metadata": {},
   "outputs": [],
   "source": []
  },
  {
   "cell_type": "markdown",
   "metadata": {},
   "source": [
    "Menghapus _outliers_ pada kolom **Unit Price** menggunakan metode IQR"
   ]
  },
  {
   "cell_type": "code",
   "execution_count": 32,
   "metadata": {},
   "outputs": [],
   "source": [
    "data = remove_outliers_iqr(data=data, column_name=\"Unit price\")"
   ]
  },
  {
   "cell_type": "code",
   "execution_count": null,
   "metadata": {},
   "outputs": [],
   "source": []
  },
  {
   "cell_type": "markdown",
   "metadata": {},
   "source": [
    "Visualisasi _Outliters_ pada Kolom **Unit Price** sesudah dibersihkan\n"
   ]
  },
  {
   "cell_type": "code",
   "execution_count": 33,
   "metadata": {},
   "outputs": [
    {
     "data": {
      "image/png": "[encoded data removed]",
      "text/plain": [
       "<Figure size 640x480 with 1 Axes>"
      ]
     },
     "metadata": {},
     "output_type": "display_data"
    }
   ],
   "source": [
    "plot_boxplot_with_outliers(data, \"Unit price\")"
   ]
  },
  {
   "cell_type": "code",
   "execution_count": null,
   "metadata": {},
   "outputs": [],
   "source": []
  },
  {
   "cell_type": "markdown",
   "metadata": {
    "slideshow": {
     "slide_type": "slide"
    }
   },
   "source": [
    "### Drop Column\n",
    "\n",
    "Menghapus kolom yang kurang berkontribusi dalam memberikan informasi.\n"
   ]
  },
  {
   "cell_type": "code",
   "execution_count": 34,
   "metadata": {},
   "outputs": [],
   "source": [
    "data = data.drop([\"Invoice ID\", \"Branch\"], axis=1)"
   ]
  },
  {
   "cell_type": "markdown",
   "metadata": {
    "slideshow": {
     "slide_type": "slide"
    }
   },
   "source": [
    "## Visualisasi Menggunakan Matplotlib\n",
    "\n",
    "Matplotlib merupakan salah satu _library_ python yang dapat digunakan untuk membuat visualisasi data.\n"
   ]
  },
  {
   "cell_type": "code",
   "execution_count": 35,
   "metadata": {},
   "outputs": [],
   "source": [
    "import matplotlib.pyplot as plt"
   ]
  },
  {
   "cell_type": "markdown",
   "metadata": {
    "slideshow": {
     "slide_type": "subslide"
    }
   },
   "source": [
    "### Diagram Garis\n",
    "\n",
    "Biasanya digunakan untuk melihat tren perkembangan data sepanjang waktu (_time series_)\n"
   ]
  },
  {
   "cell_type": "code",
   "execution_count": 36,
   "metadata": {},
   "outputs": [
    {
     "data": {
      "image/png": "[encoded data removed]",
      "text/plain": [
       "<Figure size 640x480 with 1 Axes>"
      ]
     },
     "metadata": {},
     "output_type": "display_data"
    }
   ],
   "source": [
    "x = [1, 2, 3, 4, 5]\n",
    "y = [2, 4, 1, 5, 3]\n",
    "plt.plot(x, y)\n",
    "plt.title('Diagram Garis')\n",
    "plt.xlabel('Bulan')\n",
    "plt.ylabel('Pengeluaran (juta)')\n",
    "plt.show()"
   ]
  },
  {
   "cell_type": "code",
   "execution_count": null,
   "metadata": {},
   "outputs": [],
   "source": []
  },
  {
   "cell_type": "markdown",
   "metadata": {
    "slideshow": {
     "slide_type": "subslide"
    }
   },
   "source": [
    "### Diagram Batang\n",
    "\n",
    "Biasa digunakan untuk membandingkan variabel kuantitatif di antara beberapa kategori.\n",
    "\n",
    "Contoh: Membandingkan jumlah pada setiap kategori A, B ,dan C.\n"
   ]
  },
  {
   "cell_type": "code",
   "execution_count": 37,
   "metadata": {},
   "outputs": [
    {
     "data": {
      "image/png": "[encoded data removed]",
      "text/plain": [
       "<Figure size 640x480 with 1 Axes>"
      ]
     },
     "metadata": {},
     "output_type": "display_data"
    }
   ],
   "source": [
    "kendaraan = ['Motor', 'Mobil', 'Truk']\n",
    "jumlah = [1, 4, 2]\n",
    "\n",
    "plt.bar(kendaraan, jumlah)\n",
    "plt.title('Diagram Batang')\n",
    "plt.xlabel('Kendaraan')\n",
    "plt.ylabel('Jumlah')\n",
    "plt.show()"
   ]
  },
  {
   "cell_type": "code",
   "execution_count": null,
   "metadata": {},
   "outputs": [],
   "source": []
  },
  {
   "cell_type": "markdown",
   "metadata": {
    "slideshow": {
     "slide_type": "subslide"
    }
   },
   "source": [
    "### Diagram _Scatter_\n",
    "\n",
    "Digunakan untuk menampilkan hubungan antar variabel numerik.\n"
   ]
  },
  {
   "cell_type": "code",
   "execution_count": 38,
   "metadata": {},
   "outputs": [
    {
     "data": {
      "image/png": "[encoded data removed]",
      "text/plain": [
       "<Figure size 640x480 with 1 Axes>"
      ]
     },
     "metadata": {},
     "output_type": "display_data"
    }
   ],
   "source": [
    "x = [1, 2, 3, 4, 5]\n",
    "y = [2, 4, 1, 5, 3]\n",
    "\n",
    "plt.scatter(x, y)\n",
    "plt.title('Scatter Plot')\n",
    "plt.xlabel('X-axis')\n",
    "plt.ylabel('Y-axis')\n",
    "plt.show()"
   ]
  },
  {
   "cell_type": "code",
   "execution_count": null,
   "metadata": {},
   "outputs": [],
   "source": []
  },
  {
   "cell_type": "markdown",
   "metadata": {
    "slideshow": {
     "slide_type": "subslide"
    }
   },
   "source": [
    "### Histogram\n",
    "\n",
    "Biasa digunakan untuk representasi distribusi dari data numerik.\n"
   ]
  },
  {
   "cell_type": "code",
   "execution_count": 39,
   "metadata": {},
   "outputs": [
    {
     "data": {
      "image/png": "[encoded data removed]",
      "text/plain": [
       "<Figure size 640x480 with 1 Axes>"
      ]
     },
     "metadata": {},
     "output_type": "display_data"
    }
   ],
   "source": [
    "height_data = [190, 179, 184,  192, 193,  165, 184, 173, 173, 179]\n",
    "\n",
    "plt.hist(height_data, bins=5)\n",
    "plt.title('Histogram')\n",
    "plt.xlabel('Height')\n",
    "plt.ylabel('Frequency')\n",
    "plt.show()"
   ]
  },
  {
   "cell_type": "code",
   "execution_count": null,
   "metadata": {},
   "outputs": [],
   "source": []
  },
  {
   "cell_type": "markdown",
   "metadata": {
    "slideshow": {
     "slide_type": "subslide"
    }
   },
   "source": [
    "### Boxplot\n",
    "\n",
    "Sering digunakan untuk mendeteksi _outliers_ pada data\n"
   ]
  },
  {
   "cell_type": "code",
   "execution_count": 40,
   "metadata": {},
   "outputs": [
    {
     "data": {
      "image/png": "[encoded data removed]",
      "text/plain": [
       "<Figure size 640x480 with 1 Axes>"
      ]
     },
     "metadata": {},
     "output_type": "display_data"
    }
   ],
   "source": [
    "ipk = [3.50, 3.60, 3.7, 3.55, 3.65, 3.67, 3.58, 4.0, 2.0]\n",
    "\n",
    "plt.boxplot(ipk, vert=False)\n",
    "plt.xlabel(\"IPK\")\n",
    "plt.title(\"Boxplot\")\n",
    "plt.show()"
   ]
  },
  {
   "cell_type": "code",
   "execution_count": null,
   "metadata": {},
   "outputs": [],
   "source": []
  },
  {
   "cell_type": "markdown",
   "metadata": {
    "slideshow": {
     "slide_type": "slide"
    }
   },
   "source": [
    "## Explaratory Data Analysis (EDA) 📈\n",
    "\n",
    "Tahap analisis data dengan tujuan untuk memahami karakteristik, pola dan hubungan tiap variabel pada data. Untuk mempermudah seringkali disertai teknik visualisasi. EDA dapat mengekstraksi informasi dari data untuk menjawab beberapa pertanyaan.\n"
   ]
  },
  {
   "cell_type": "markdown",
   "metadata": {
    "slideshow": {
     "slide_type": "slide"
    }
   },
   "source": [
    "### Univariate\n",
    "\n",
    "Analisis univariate hanya melibatkan satu variabel tunggal dalam data untuk memahami distribusi atau karakteristiknya.\n"
   ]
  },
  {
   "cell_type": "markdown",
   "metadata": {
    "slideshow": {
     "slide_type": "subslide"
    }
   },
   "source": [
    "#### Apa **gender** mayoritas _customer_?\n"
   ]
  },
  {
   "cell_type": "code",
   "execution_count": 41,
   "metadata": {},
   "outputs": [
    {
     "data": {
      "image/png": "[encoded data removed]",
      "text/plain": [
       "<Figure size 640x480 with 1 Axes>"
      ]
     },
     "metadata": {},
     "output_type": "display_data"
    }
   ],
   "source": [
    "x = data['Gender'].unique()\n",
    "y = data['Gender'].value_counts()\n",
    "\n",
    "plt.bar(x, y)\n",
    "plt.xlabel(\"Gender\")\n",
    "plt.ylabel(\"Jumlah\")\n",
    "plt.title(\"Distribusi Gender Customer\")\n",
    "plt.show()"
   ]
  },
  {
   "cell_type": "code",
   "execution_count": null,
   "metadata": {},
   "outputs": [],
   "source": []
  },
  {
   "cell_type": "markdown",
   "metadata": {
    "slideshow": {
     "slide_type": "subslide"
    }
   },
   "source": [
    "#### Apa **metode pembayaran** yang menjadi favorit _customer_?\n"
   ]
  },
  {
   "cell_type": "code",
   "execution_count": 42,
   "metadata": {},
   "outputs": [
    {
     "data": {
      "image/png": "[encoded data removed]",
      "text/plain": [
       "<Figure size 640x480 with 1 Axes>"
      ]
     },
     "metadata": {},
     "output_type": "display_data"
    }
   ],
   "source": [
    "x = data['Payment'].unique()\n",
    "y = data['Payment'].value_counts()\n",
    "\n",
    "plt.bar(x, y)\n",
    "plt.xlabel(\"Payment\")\n",
    "plt.ylabel(\"Jumlah\")\n",
    "plt.title(\"Distribusi Metode Payment Customer\")\n",
    "plt.show()"
   ]
  },
  {
   "cell_type": "code",
   "execution_count": null,
   "metadata": {},
   "outputs": [],
   "source": []
  },
  {
   "cell_type": "markdown",
   "metadata": {
    "slideshow": {
     "slide_type": "subslide"
    }
   },
   "source": [
    "#### Bagaimana perbandingan jumlah **_customer type_** _members_ dan yang normal\n"
   ]
  },
  {
   "cell_type": "code",
   "execution_count": null,
   "metadata": {},
   "outputs": [],
   "source": []
  },
  {
   "cell_type": "code",
   "execution_count": null,
   "metadata": {},
   "outputs": [],
   "source": []
  },
  {
   "cell_type": "markdown",
   "metadata": {
    "slideshow": {
     "slide_type": "slide"
    }
   },
   "source": [
    "### Bivariate\n",
    "\n",
    "Analisis bivariate melibatkan **dua** variabel dalam data untuk memahami distribusi atau karakteristiknya.\n"
   ]
  },
  {
   "cell_type": "markdown",
   "metadata": {
    "slideshow": {
     "slide_type": "subslide"
    }
   },
   "source": [
    "#### Apa **_product line_** yang disukai oleh **wanita**?\n"
   ]
  },
  {
   "cell_type": "code",
   "execution_count": 43,
   "metadata": {},
   "outputs": [
    {
     "data": {
      "image/png": "[encoded data removed]",
      "text/plain": [
       "<Figure size 640x480 with 1 Axes>"
      ]
     },
     "metadata": {},
     "output_type": "display_data"
    }
   ],
   "source": [
    "\n",
    "filter_female = data['Gender'] == 'Female'\n",
    "filtered_data = data.loc[filter_female, ['Product line']]\n",
    "\n",
    "x = filtered_data['Product line'].unique()\n",
    "y = filtered_data['Product line'].value_counts()\n",
    "\n",
    "plt.bar(x, y)\n",
    "plt.xlabel(\"Product Line\")\n",
    "plt.ylabel(\"Jumlah\")\n",
    "plt.title(\"Distribusi Metode Payment Customer\")\n",
    "plt.xticks(rotation=90)\n",
    "plt.show()"
   ]
  },
  {
   "cell_type": "code",
   "execution_count": null,
   "metadata": {},
   "outputs": [],
   "source": []
  },
  {
   "cell_type": "markdown",
   "metadata": {
    "slideshow": {
     "slide_type": "subslide"
    }
   },
   "source": [
    "#### Bagaimana pengaruh **_customer type_** dengan banyak **jumlah total** yang dibeli?\n"
   ]
  },
  {
   "cell_type": "code",
   "execution_count": 44,
   "metadata": {},
   "outputs": [
    {
     "data": {
      "image/png": "[encoded data removed]",
      "text/plain": [
       "<Figure size 640x480 with 1 Axes>"
      ]
     },
     "metadata": {},
     "output_type": "display_data"
    },
    {
     "name": "stdout",
     "output_type": "stream",
     "text": [
      "Member:  163747.899 \n",
      "Normal:  161656.84136999998\n"
     ]
    }
   ],
   "source": [
    "filter_member = data['Customer type'] == 'Member'\n",
    "filter_normal = data['Customer type'] == 'Normal'\n",
    "\n",
    "filtered_data_member = data.loc[filter_member, ['Customer type', 'Total']]\n",
    "filtered_data_normal = data.loc[filter_normal, ['Customer type', 'Total']]\n",
    "\n",
    "x_member = filtered_data_member['Customer type'].unique()\n",
    "y_member = filtered_data_member['Total'].sum()\n",
    "plt.bar(x_member, y_member)\n",
    "\n",
    "\n",
    "x_normal = filtered_data_normal['Customer type'].unique()\n",
    "y_normal = filtered_data_normal['Total'].sum()\n",
    "plt.bar(x_normal, y_normal)\n",
    "\n",
    "plt.xlabel(\"Customer Type\")\n",
    "plt.ylabel(\"Jumlah Total\")\n",
    "plt.title(\"Distribusi Jumlah Total Setiap Jenis Customer Type\")\n",
    "plt.show()\n",
    "\n",
    "print(\"Member: \", y_member, \"\\nNormal: \", y_normal)"
   ]
  },
  {
   "cell_type": "code",
   "execution_count": null,
   "metadata": {},
   "outputs": [],
   "source": []
  },
  {
   "cell_type": "markdown",
   "metadata": {
    "slideshow": {
     "slide_type": "subslide"
    }
   },
   "source": [
    "### Multivariate\n",
    "\n",
    "Analisis bivariate melibatkan **lebih dari dua** variabel dalam data untuk memahami distribusi atau karakteristiknya.\n"
   ]
  },
  {
   "cell_type": "markdown",
   "metadata": {},
   "source": [
    "#### Berapa rata-rata **_total pembelian_** untuk setiap **_product line_**, berdasarkan dengan **_customer type_**?\n"
   ]
  },
  {
   "cell_type": "code",
   "execution_count": null,
   "metadata": {},
   "outputs": [],
   "source": [
    "# Cukup tau aja, ntar pusing"
   ]
  },
  {
   "cell_type": "markdown",
   "metadata": {},
   "source": [
    "# QnA 🙏\n"
   ]
  }
 ],
 "metadata": {
  "celltoolbar": "Slideshow",
  "kernelspec": {
   "display_name": "Python 3 (ipykernel)",
   "language": "python",
   "name": "python3"
  },
  "language_info": {
   "codemirror_mode": {
    "name": "ipython",
    "version": 3
   },
   "file_extension": ".py",
   "mimetype": "text/x-python",
   "name": "python",
   "nbconvert_exporter": "python",
   "pygments_lexer": "ipython3",
   "version": "3.10.7"
  },
  "toc": {
   "base_numbering": 1,
   "nav_menu": {},
   "number_sections": true,
   "sideBar": true,
   "skip_h1_title": false,
   "title_cell": "Table of Contents",
   "title_sidebar": "Contents",
   "toc_cell": false,
   "toc_position": {},
   "toc_section_display": true,
   "toc_window_display": false
  }
 },
 "nbformat": 4,
 "nbformat_minor": 2
}
