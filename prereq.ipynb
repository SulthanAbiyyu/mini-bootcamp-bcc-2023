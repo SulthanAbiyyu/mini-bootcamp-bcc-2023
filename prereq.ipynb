{
 "cells": [
  {
   "cell_type": "markdown",
   "id": "a9dec463",
   "metadata": {
    "slideshow": {
     "slide_type": "slide"
    }
   },
   "source": [
    "![banner](https://bccfilkom.net/static/assets/images/BCC-Logo.svg)\n",
    "\n",
    "# Prerequisite Mini Bootcamp Data Science\n",
    "### BCC 2023"
   ]
  },
  {
   "cell_type": "markdown",
   "id": "db07d56c",
   "metadata": {
    "slideshow": {
     "slide_type": "slide"
    }
   },
   "source": [
    "# **Python** Dasar 🐍\n",
    "![](https://upload.wikimedia.org/wikipedia/commons/thumb/c/c3/Python-logo-notext.svg/1200px-Python-logo-notext.svg.png)"
   ]
  },
  {
   "cell_type": "markdown",
   "id": "e164f6d9",
   "metadata": {},
   "source": [
    "## Apa itu Bahasa Python?\n",
    "Python merupakan bahasa pemrograman yang sering dipakai untuk beragam tujuan, seperti pengembangan web, analisis data, dan scripting. Python memiliki berbagai library yang mendukung kebutuhan pengembang dalam berbagai proyek, terutama dibidang data science."
   ]
  },
  {
   "cell_type": "markdown",
   "id": "540b4027",
   "metadata": {},
   "source": [
    "## Variabel\n",
    "\n",
    "-> Tempat untuk menyimpan suatu nilai."
   ]
  },
  {
   "cell_type": "code",
   "execution_count": 3,
   "id": "d160c3ee",
   "metadata": {},
   "outputs": [
    {
     "name": "stdout",
     "output_type": "stream",
     "text": [
      "12  -> tipe data:  <class 'int'>\n",
      "12.2  -> tipe data:  <class 'float'>\n",
      "True  -> tipe data:  <class 'bool'>\n",
      "Hello World  -> tipe data:  <class 'str'>\n"
     ]
    }
   ],
   "source": [
    "var_integer = 12\n",
    "var_float = 12.2\n",
    "var_boolean = True\n",
    "var_string = \"Hello World\"\n",
    "\n",
    "print(var_integer, \" -> tipe data: \", type(var_integer))\n",
    "print(var_float, \" -> tipe data: \", type(var_float))\n",
    "print(var_boolean, \" -> tipe data: \", type(var_boolean))\n",
    "print(var_string, \" -> tipe data: \", type(var_string))"
   ]
  },
  {
   "cell_type": "markdown",
   "id": "08ba3ce1",
   "metadata": {},
   "source": [
    "## F String"
   ]
  },
  {
   "cell_type": "code",
   "execution_count": 4,
   "id": "b9815824",
   "metadata": {},
   "outputs": [
    {
     "name": "stdout",
     "output_type": "stream",
     "text": [
      "Umur saya 12\n"
     ]
    }
   ],
   "source": [
    "print(f\"Umur saya {var_integer}\")"
   ]
  },
  {
   "cell_type": "markdown",
   "id": "898214ac",
   "metadata": {},
   "source": [
    "## Operator Aritmatika\n",
    "\n",
    "-> Operasi matematika."
   ]
  },
  {
   "cell_type": "code",
   "execution_count": 5,
   "id": "b4153fe2",
   "metadata": {},
   "outputs": [
    {
     "name": "stdout",
     "output_type": "stream",
     "text": [
      "Tambah : 26\n",
      "Kurang : 16\n",
      "Kali : 105\n",
      "Bagi : 4.2\n",
      "Pangkat : 4084101\n",
      "Mod : 1\n",
      "Div : 4\n"
     ]
    }
   ],
   "source": [
    "bilangan_1 = 21\n",
    "bilangan_2 = 5\n",
    "print(f\"Tambah : {bilangan_1 + bilangan_2}\")\n",
    "print(f\"Kurang : {bilangan_1 - bilangan_2}\")\n",
    "print(f\"Kali : {bilangan_1 * bilangan_2}\")\n",
    "print(f\"Bagi : {bilangan_1 / bilangan_2}\")\n",
    "print(f\"Pangkat : {bilangan_1 ** bilangan_2}\")\n",
    "print(f\"Mod : {bilangan_1 % bilangan_2}\")\n",
    "print(f\"Div : {bilangan_1 // bilangan_2}\")"
   ]
  },
  {
   "cell_type": "markdown",
   "id": "e7c73390",
   "metadata": {},
   "source": [
    "## Operator Boolean\n",
    "\n",
    "-> Operasi logika boolean.\n",
    "\n",
    "![](https://file.notion.so/f/s/c53a1e90-41b3-4e43-bd00-c8c40175705d/Untitled.png?id=a57d68e9-e6fe-4ae9-ab32-afff3a6e0dcd&table=block&spaceId=eb128b48-3bd2-4d05-8fd9-4f6856ab2097&expirationTimestamp=1696032000000&signature=8cBBOwZvYtu2y_FdL-7jotgcZfxOC3shGZxUnjYDtiU&downloadName=Untitled.png)"
   ]
  },
  {
   "cell_type": "code",
   "execution_count": 6,
   "id": "7a4f9f45",
   "metadata": {},
   "outputs": [
    {
     "name": "stdout",
     "output_type": "stream",
     "text": [
      "True\n",
      "False\n",
      "True\n",
      "False\n",
      "False\n",
      "True\n",
      "True\n",
      "True\n",
      "False\n"
     ]
    }
   ],
   "source": [
    "print(True and True)\n",
    "print(True and False)\n",
    "print(True or False)\n",
    "print(False or False)\n",
    "print(not True)\n",
    "print(1 == 1)\n",
    "print(1 != 2)\n",
    "print(bool(1))\n",
    "print(bool(0))"
   ]
  },
  {
   "cell_type": "markdown",
   "id": "41b44eb1",
   "metadata": {},
   "source": [
    "## Control Flow\n",
    "\n",
    "-> Jika begini, maka begitu. "
   ]
  },
  {
   "cell_type": "code",
   "execution_count": 7,
   "id": "bface920",
   "metadata": {},
   "outputs": [
    {
     "name": "stdout",
     "output_type": "stream",
     "text": [
      "woke\n"
     ]
    }
   ],
   "source": [
    "pengurangan = 10 - 5\n",
    "\n",
    "if pengurangan == 5:\n",
    "    print(\"woke\")\n",
    "elif pengurangan < 5:\n",
    "    print(\"waduh\")\n",
    "else:\n",
    "    print(\"hadeh\")"
   ]
  },
  {
   "cell_type": "markdown",
   "id": "25ef909a",
   "metadata": {},
   "source": [
    "## Data Structure\n",
    "-> menyimpan nilai lebih banyak dan kompleks\n",
    "\n",
    "1. List: menyimpan banyak nilai, tipe data yang berbeda-beda, mutable\n",
    "2. Tuple: sama kayak list tapi immutable\n",
    "3. Set: sama kayak list, tapi gaada duplicate\n",
    "4. Dictionary: pasangan key-value"
   ]
  },
  {
   "cell_type": "code",
   "execution_count": 18,
   "id": "feb58cdf",
   "metadata": {},
   "outputs": [
    {
     "name": "stdout",
     "output_type": "stream",
     "text": [
      "All list : [1, 1, 2.0, 3, 'Hello', True]\n",
      "All list : [1, 1, 'diganti', 3, 'Hello', True]\n",
      "Ambil elemen pertama list : 1\n"
     ]
    }
   ],
   "source": [
    "list_elemen = [1, 1, 2.0, 3, \"Hello\", True]\n",
    "print(f\"All list : {list_elemen}\")\n",
    "list_elemen[2] = \"diganti\"\n",
    "print(f\"All list : {list_elemen}\")\n",
    "print(f\"Ambil elemen pertama list : {list_elemen[0]}\")"
   ]
  },
  {
   "cell_type": "code",
   "execution_count": 19,
   "id": "3ef4b4b6",
   "metadata": {},
   "outputs": [
    {
     "name": "stdout",
     "output_type": "stream",
     "text": [
      "All tuple : (1, 1, 2.0, 3, 'Hello', True)\n",
      "Ambil elemen ke 5 tuple : Hello\n"
     ]
    }
   ],
   "source": [
    "tuple_elemen = (1, 1, 2.0, 3, \"Hello\", True)\n",
    "print(f\"All tuple : {tuple_elemen}\")\n",
    "print(f\"Ambil elemen ke 5 tuple : {tuple_elemen[4]}\")\n",
    "\n",
    "# tuple_elemen[2] = \"diganti\" # error"
   ]
  },
  {
   "cell_type": "code",
   "execution_count": 22,
   "id": "4ef2510e",
   "metadata": {},
   "outputs": [
    {
     "name": "stdout",
     "output_type": "stream",
     "text": [
      "{1, 2.0, 3, 'Hello'}\n"
     ]
    }
   ],
   "source": [
    "set_elemen = {1, 2.0, 3, \"Hello\", 1, 1, 2}\n",
    "print(set_elemen)"
   ]
  },
  {
   "cell_type": "code",
   "execution_count": 24,
   "id": "d15ffd55",
   "metadata": {},
   "outputs": [
    {
     "name": "stdout",
     "output_type": "stream",
     "text": [
      "All dictionary : {'satu': 1, 'dua': 2, 'tiga': 3}\n",
      "Ambil elemen dengan key 'dua' : 2\n",
      "All dictionary : {'satu': 1, 'dua': 2, 'tiga': 3, 'empat': 4}\n"
     ]
    }
   ],
   "source": [
    "dictionary_elemen = {\"satu\": 1, \"dua\": 2, \"tiga\": 3}\n",
    "print(f\"All dictionary : {dictionary_elemen}\")\n",
    "print(f\"Ambil elemen dengan key 'dua' : {dictionary_elemen['dua']}\")\n",
    "\n",
    "dictionary_elemen[\"empat\"] = 4\n",
    "print(f\"All dictionary : {dictionary_elemen}\")"
   ]
  },
  {
   "cell_type": "markdown",
   "id": "4f5a32ef",
   "metadata": {},
   "source": [
    "## Iteration\n",
    "-> perulangan, looping"
   ]
  },
  {
   "cell_type": "code",
   "execution_count": null,
   "id": "d290cbd0",
   "metadata": {},
   "outputs": [
    {
     "name": "stdout",
     "output_type": "stream",
     "text": [
      "For loop menggunakan range: \n",
      "0\n",
      "1\n",
      "2\n",
      "3\n",
      "4\n"
     ]
    }
   ],
   "source": [
    "print(\"For loop menggunakan range: \")\n",
    "for i in range(0, 5, 1):\n",
    "    print(i)"
   ]
  },
  {
   "cell_type": "code",
   "execution_count": null,
   "id": "5628ba86",
   "metadata": {},
   "outputs": [
    {
     "name": "stdout",
     "output_type": "stream",
     "text": [
      "\n",
      "For Each: \n",
      "elemen_1\n",
      "elemen_2\n",
      "elemen_3\n",
      "elemen_4\n"
     ]
    }
   ],
   "source": [
    "print(\"\\nFor Each: \")\n",
    "loop_element = [\"elemen_1\", \"elemen_2\", \"elemen_3\", \"elemen_4\"]\n",
    "for val in loop_element:\n",
    "    print(val)"
   ]
  },
  {
   "cell_type": "code",
   "execution_count": null,
   "id": "710ac1e0",
   "metadata": {},
   "outputs": [
    {
     "name": "stdout",
     "output_type": "stream",
     "text": [
      "\n",
      "While Loop\n",
      "5\n",
      "4\n",
      "3\n",
      "2\n",
      "1\n",
      "0\n"
     ]
    }
   ],
   "source": [
    "print(\"\\nWhile Loop\")\n",
    "status = True\n",
    "random_var = 5\n",
    "\n",
    "while status:\n",
    "    if random_var == 0:\n",
    "        status = False\n",
    "    \n",
    "    print(random_var)\n",
    "    random_var -= 1"
   ]
  },
  {
   "cell_type": "markdown",
   "id": "33de7566",
   "metadata": {},
   "source": [
    "## Function\n",
    "\n",
    "1. prosedur -> kumpulan perintah, gaada return\n",
    "2. fungsi -> mengolah input, ada return"
   ]
  },
  {
   "cell_type": "code",
   "execution_count": 1,
   "id": "42ad566b",
   "metadata": {},
   "outputs": [
    {
     "name": "stdout",
     "output_type": "stream",
     "text": [
      "Selamat datang biyu!\n",
      "Silahkan masuk\n"
     ]
    }
   ],
   "source": [
    "def prosedur(nama, umur):\n",
    "    print(f\"Selamat datang {nama}!\")\n",
    "\n",
    "    if umur >= 17:\n",
    "        print(\"Silahkan masuk\")\n",
    "    else:\n",
    "        print(\"Anda harus setidaknya berumur 17 untuk masuk!\")\n",
    "\n",
    "\n",
    "prosedur(\"biyu\", 20)"
   ]
  },
  {
   "cell_type": "code",
   "execution_count": 2,
   "id": "d8e5bd72",
   "metadata": {},
   "outputs": [
    {
     "data": {
      "text/plain": [
       "(10001, 10010)"
      ]
     },
     "execution_count": 2,
     "metadata": {},
     "output_type": "execute_result"
    }
   ],
   "source": [
    "def fungsi(x, arg_opsional=1):\n",
    "    return x**2 + arg_opsional\n",
    "\n",
    "\n",
    "fungsi(100), fungsi(100, 10)"
   ]
  },
  {
   "cell_type": "markdown",
   "id": "535d0582",
   "metadata": {},
   "source": [
    "## Comprehension\n",
    "menyingkat proses looping dan append"
   ]
  },
  {
   "cell_type": "code",
   "execution_count": 3,
   "id": "575b7fe0",
   "metadata": {},
   "outputs": [
    {
     "name": "stdout",
     "output_type": "stream",
     "text": [
      "['kalkulus', 'statistika']\n"
     ]
    }
   ],
   "source": [
    "mata_kuliah = [\"kalkulus\", \"aljabar linear\", \"pemrograman dasar\", \"statistika\"]\n",
    "mata_kuliah_with_k = []\n",
    "\n",
    "for matkul in mata_kuliah:\n",
    "    if \"k\" in matkul:\n",
    "        mata_kuliah_with_k.append(matkul)\n",
    "\n",
    "print(mata_kuliah_with_k)"
   ]
  },
  {
   "cell_type": "code",
   "execution_count": 4,
   "id": "3c07b19f",
   "metadata": {},
   "outputs": [
    {
     "name": "stdout",
     "output_type": "stream",
     "text": [
      "['kalkulus', 'statistika']\n"
     ]
    }
   ],
   "source": [
    "mata_kuliah_with_k_comprehension = [\n",
    "    matkul for matkul in mata_kuliah if \"k\" in matkul]\n",
    "\n",
    "print(mata_kuliah_with_k_comprehension)"
   ]
  },
  {
   "cell_type": "markdown",
   "id": "2a1f7b10",
   "metadata": {},
   "source": [
    "## Lambda Function\n",
    "sama seperti function tapi satu baris aja"
   ]
  },
  {
   "cell_type": "code",
   "execution_count": 5,
   "id": "1d745929",
   "metadata": {},
   "outputs": [
    {
     "data": {
      "text/plain": [
       "1531"
      ]
     },
     "execution_count": 5,
     "metadata": {},
     "output_type": "execute_result"
    }
   ],
   "source": [
    "def f(x):\n",
    "    return x ** 3 + 6 * x ** 2 - 10 * x + 31\n",
    "\n",
    "f(10)"
   ]
  },
  {
   "cell_type": "code",
   "execution_count": 6,
   "id": "f085919a",
   "metadata": {},
   "outputs": [
    {
     "data": {
      "text/plain": [
       "1531"
      ]
     },
     "execution_count": 6,
     "metadata": {},
     "output_type": "execute_result"
    }
   ],
   "source": [
    "g = lambda x: x ** 3 + 6 * x ** 2 - 10 * x + 31\n",
    "\n",
    "g(10)"
   ]
  },
  {
   "cell_type": "markdown",
   "id": "bfc6e131",
   "metadata": {},
   "source": [
    "# Pandas\n",
    "![](https://upload.wikimedia.org/wikipedia/commons/thumb/e/ed/Pandas_logo.svg/1280px-Pandas_logo.svg.png)"
   ]
  }
 ],
 "metadata": {
  "celltoolbar": "Slideshow",
  "kernelspec": {
   "display_name": "Python 3",
   "language": "python",
   "name": "python3"
  },
  "language_info": {
   "codemirror_mode": {
    "name": "ipython",
    "version": 3
   },
   "file_extension": ".py",
   "mimetype": "text/x-python",
   "name": "python",
   "nbconvert_exporter": "python",
   "pygments_lexer": "ipython3",
   "version": "3.10.6"
  }
 },
 "nbformat": 4,
 "nbformat_minor": 5
}
