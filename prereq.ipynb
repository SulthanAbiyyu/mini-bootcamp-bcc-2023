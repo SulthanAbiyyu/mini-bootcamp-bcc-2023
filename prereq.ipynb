{
 "cells": [
  {
   "cell_type": "markdown",
   "id": "a9dec463",
   "metadata": {
    "slideshow": {
     "slide_type": "slide"
    }
   },
   "source": [
    "![banner](https://bccfilkom.net/static/assets/images/BCC-Logo.svg)\n",
    "\n",
    "# Prerequisite Mini Bootcamp Data Science\n",
    "### BCC 2023"
   ]
  },
  {
   "cell_type": "markdown",
   "id": "db07d56c",
   "metadata": {
    "slideshow": {
     "slide_type": "slide"
    }
   },
   "source": [
    "# **Python** Dasar 🐍\n",
    "![](https://upload.wikimedia.org/wikipedia/commons/thumb/c/c3/Python-logo-notext.svg/1200px-Python-logo-notext.svg.png)"
   ]
  },
  {
   "cell_type": "markdown",
   "id": "e164f6d9",
   "metadata": {
    "slideshow": {
     "slide_type": "slide"
    }
   },
   "source": [
    "## Apa itu Bahasa Python?\n",
    "Python merupakan bahasa pemrograman yang sering dipakai untuk beragam tujuan, seperti pengembangan web, analisis data, dan scripting. Python memiliki berbagai library yang mendukung kebutuhan pengembang dalam berbagai proyek, terutama dibidang data science."
   ]
  },
  {
   "cell_type": "markdown",
   "id": "540b4027",
   "metadata": {
    "slideshow": {
     "slide_type": "slide"
    }
   },
   "source": [
    "## Variabel\n",
    "\n",
    "-> Tempat untuk menyimpan suatu nilai."
   ]
  },
  {
   "cell_type": "code",
   "execution_count": 1,
   "id": "d160c3ee",
   "metadata": {
    "slideshow": {
     "slide_type": "-"
    }
   },
   "outputs": [
    {
     "name": "stdout",
     "output_type": "stream",
     "text": [
      "12  -> tipe data:  <class 'int'>\n",
      "12.2  -> tipe data:  <class 'float'>\n",
      "True  -> tipe data:  <class 'bool'>\n",
      "Hello World  -> tipe data:  <class 'str'>\n"
     ]
    }
   ],
   "source": [
    "var_integer = 12\n",
    "var_float = 12.2\n",
    "var_boolean = True\n",
    "var_string = \"Hello World\"\n",
    "\n",
    "print(var_integer, \" -> tipe data: \", type(var_integer))\n",
    "print(var_float, \" -> tipe data: \", type(var_float))\n",
    "print(var_boolean, \" -> tipe data: \", type(var_boolean))\n",
    "print(var_string, \" -> tipe data: \", type(var_string))"
   ]
  },
  {
   "cell_type": "markdown",
   "id": "08ba3ce1",
   "metadata": {
    "slideshow": {
     "slide_type": "slide"
    }
   },
   "source": [
    "## F String"
   ]
  },
  {
   "cell_type": "code",
   "execution_count": 2,
   "id": "b9815824",
   "metadata": {},
   "outputs": [
    {
     "name": "stdout",
     "output_type": "stream",
     "text": [
      "Umur saya 12\n"
     ]
    }
   ],
   "source": [
    "print(f\"Umur saya {var_integer}\")"
   ]
  },
  {
   "cell_type": "markdown",
   "id": "898214ac",
   "metadata": {
    "slideshow": {
     "slide_type": "slide"
    }
   },
   "source": [
    "## Operator Aritmatika\n",
    "\n",
    "-> Operasi matematika."
   ]
  },
  {
   "cell_type": "code",
   "execution_count": 3,
   "id": "b4153fe2",
   "metadata": {},
   "outputs": [
    {
     "name": "stdout",
     "output_type": "stream",
     "text": [
      "Tambah : 26\n",
      "Kurang : 16\n",
      "Kali : 105\n",
      "Bagi : 4.2\n",
      "Pangkat : 4084101\n",
      "Mod : 1\n",
      "Div : 4\n"
     ]
    }
   ],
   "source": [
    "bilangan_1 = 21\n",
    "bilangan_2 = 5\n",
    "print(f\"Tambah : {bilangan_1 + bilangan_2}\")\n",
    "print(f\"Kurang : {bilangan_1 - bilangan_2}\")\n",
    "print(f\"Kali : {bilangan_1 * bilangan_2}\")\n",
    "print(f\"Bagi : {bilangan_1 / bilangan_2}\")\n",
    "print(f\"Pangkat : {bilangan_1 ** bilangan_2}\")\n",
    "print(f\"Mod : {bilangan_1 % bilangan_2}\")\n",
    "print(f\"Div : {bilangan_1 // bilangan_2}\")"
   ]
  },
  {
   "cell_type": "markdown",
   "id": "e7c73390",
   "metadata": {
    "slideshow": {
     "slide_type": "slide"
    }
   },
   "source": [
    "## Operator Boolean\n",
    "\n",
    "-> Operasi logika boolean.\n",
    "\n",
    "![](https://file.notion.so/f/s/c53a1e90-41b3-4e43-bd00-c8c40175705d/Untitled.png?id=a57d68e9-e6fe-4ae9-ab32-afff3a6e0dcd&table=block&spaceId=eb128b48-3bd2-4d05-8fd9-4f6856ab2097&expirationTimestamp=1696032000000&signature=8cBBOwZvYtu2y_FdL-7jotgcZfxOC3shGZxUnjYDtiU&downloadName=Untitled.png)"
   ]
  },
  {
   "cell_type": "code",
   "execution_count": 4,
   "id": "7a4f9f45",
   "metadata": {},
   "outputs": [
    {
     "name": "stdout",
     "output_type": "stream",
     "text": [
      "True\n",
      "False\n",
      "True\n",
      "False\n",
      "False\n",
      "True\n",
      "True\n",
      "True\n",
      "False\n"
     ]
    }
   ],
   "source": [
    "print(True and True)\n",
    "print(True and False)\n",
    "print(True or False)\n",
    "print(False or False)\n",
    "print(not True)\n",
    "print(1 == 1)\n",
    "print(1 != 2)\n",
    "print(bool(1))\n",
    "print(bool(0))"
   ]
  },
  {
   "cell_type": "markdown",
   "id": "41b44eb1",
   "metadata": {
    "slideshow": {
     "slide_type": "slide"
    }
   },
   "source": [
    "## Control Flow\n",
    "\n",
    "-> Jika begini, maka begitu. "
   ]
  },
  {
   "cell_type": "code",
   "execution_count": 5,
   "id": "bface920",
   "metadata": {},
   "outputs": [
    {
     "name": "stdout",
     "output_type": "stream",
     "text": [
      "woke\n"
     ]
    }
   ],
   "source": [
    "pengurangan = 10 - 5\n",
    "\n",
    "if pengurangan == 5:\n",
    "    print(\"woke\")\n",
    "elif pengurangan < 5:\n",
    "    print(\"waduh\")\n",
    "else:\n",
    "    print(\"hadeh\")"
   ]
  },
  {
   "cell_type": "markdown",
   "id": "25ef909a",
   "metadata": {
    "slideshow": {
     "slide_type": "slide"
    }
   },
   "source": [
    "## Data Structure\n",
    "-> menyimpan nilai lebih banyak dan kompleks\n",
    "\n",
    "1. List: menyimpan banyak nilai, tipe data yang berbeda-beda, mutable\n",
    "2. Tuple: sama kayak list tapi immutable\n",
    "3. Set: sama kayak list, tapi gaada duplicate\n",
    "4. Dictionary: pasangan key-value"
   ]
  },
  {
   "cell_type": "code",
   "execution_count": 6,
   "id": "feb58cdf",
   "metadata": {},
   "outputs": [
    {
     "name": "stdout",
     "output_type": "stream",
     "text": [
      "All list : [1, 1, 2.0, 3, 'Hello', True]\n",
      "All list : [1, 1, 'diganti', 3, 'Hello', True]\n",
      "Ambil elemen pertama list : 1\n"
     ]
    }
   ],
   "source": [
    "list_elemen = [1, 1, 2.0, 3, \"Hello\", True]\n",
    "print(f\"All list : {list_elemen}\")\n",
    "list_elemen[2] = \"diganti\"\n",
    "print(f\"All list : {list_elemen}\")\n",
    "print(f\"Ambil elemen pertama list : {list_elemen[0]}\")"
   ]
  },
  {
   "cell_type": "code",
   "execution_count": 7,
   "id": "3ef4b4b6",
   "metadata": {
    "slideshow": {
     "slide_type": "subslide"
    }
   },
   "outputs": [
    {
     "name": "stdout",
     "output_type": "stream",
     "text": [
      "All tuple : (1, 1, 2.0, 3, 'Hello', True)\n",
      "Ambil elemen ke 5 tuple : Hello\n"
     ]
    }
   ],
   "source": [
    "tuple_elemen = (1, 1, 2.0, 3, \"Hello\", True)\n",
    "print(f\"All tuple : {tuple_elemen}\")\n",
    "print(f\"Ambil elemen ke 5 tuple : {tuple_elemen[4]}\")\n",
    "\n",
    "# tuple_elemen[2] = \"diganti\" # error"
   ]
  },
  {
   "cell_type": "code",
   "execution_count": 8,
   "id": "4ef2510e",
   "metadata": {
    "slideshow": {
     "slide_type": "subslide"
    }
   },
   "outputs": [
    {
     "name": "stdout",
     "output_type": "stream",
     "text": [
      "{1, 2.0, 3, 'Hello'}\n"
     ]
    }
   ],
   "source": [
    "set_elemen = {1, 2.0, 3, \"Hello\", 1, 1, 2}\n",
    "print(set_elemen)"
   ]
  },
  {
   "cell_type": "code",
   "execution_count": 9,
   "id": "d15ffd55",
   "metadata": {
    "slideshow": {
     "slide_type": "subslide"
    }
   },
   "outputs": [
    {
     "name": "stdout",
     "output_type": "stream",
     "text": [
      "All dictionary : {'satu': 1, 'dua': 2, 'tiga': 3}\n",
      "Ambil elemen dengan key 'dua' : 2\n",
      "All dictionary : {'satu': 1, 'dua': 2, 'tiga': 3, 'empat': 4}\n"
     ]
    }
   ],
   "source": [
    "dictionary_elemen = {\"satu\": 1, \"dua\": 2, \"tiga\": 3}\n",
    "print(f\"All dictionary : {dictionary_elemen}\")\n",
    "print(f\"Ambil elemen dengan key 'dua' : {dictionary_elemen['dua']}\")\n",
    "\n",
    "dictionary_elemen[\"empat\"] = 4\n",
    "print(f\"All dictionary : {dictionary_elemen}\")"
   ]
  },
  {
   "cell_type": "markdown",
   "id": "4f5a32ef",
   "metadata": {
    "slideshow": {
     "slide_type": "slide"
    }
   },
   "source": [
    "## Iteration\n",
    "-> perulangan, looping"
   ]
  },
  {
   "cell_type": "code",
   "execution_count": 10,
   "id": "d290cbd0",
   "metadata": {},
   "outputs": [
    {
     "name": "stdout",
     "output_type": "stream",
     "text": [
      "For loop menggunakan range: \n",
      "0\n",
      "1\n",
      "2\n",
      "3\n",
      "4\n"
     ]
    }
   ],
   "source": [
    "print(\"For loop menggunakan range: \")\n",
    "for i in range(0, 5, 1):\n",
    "    print(i)"
   ]
  },
  {
   "cell_type": "code",
   "execution_count": 11,
   "id": "5628ba86",
   "metadata": {
    "slideshow": {
     "slide_type": "subslide"
    }
   },
   "outputs": [
    {
     "name": "stdout",
     "output_type": "stream",
     "text": [
      "\n",
      "For Each: \n",
      "elemen_1\n",
      "elemen_2\n",
      "elemen_3\n",
      "elemen_4\n"
     ]
    }
   ],
   "source": [
    "print(\"\\nFor Each: \")\n",
    "loop_element = [\"elemen_1\", \"elemen_2\", \"elemen_3\", \"elemen_4\"]\n",
    "for val in loop_element:\n",
    "    print(val)"
   ]
  },
  {
   "cell_type": "code",
   "execution_count": 12,
   "id": "710ac1e0",
   "metadata": {
    "slideshow": {
     "slide_type": "subslide"
    }
   },
   "outputs": [
    {
     "name": "stdout",
     "output_type": "stream",
     "text": [
      "\n",
      "While Loop\n",
      "5\n",
      "4\n",
      "3\n",
      "2\n",
      "1\n",
      "0\n"
     ]
    }
   ],
   "source": [
    "print(\"\\nWhile Loop\")\n",
    "status = True\n",
    "random_var = 5\n",
    "\n",
    "while status:\n",
    "    if random_var == 0:\n",
    "        status = False\n",
    "    \n",
    "    print(random_var)\n",
    "    random_var -= 1"
   ]
  },
  {
   "cell_type": "markdown",
   "id": "33de7566",
   "metadata": {
    "slideshow": {
     "slide_type": "slide"
    }
   },
   "source": [
    "## Function\n",
    "\n",
    "1. prosedur -> kumpulan perintah, gaada return\n",
    "2. fungsi -> mengolah input, ada return"
   ]
  },
  {
   "cell_type": "code",
   "execution_count": 13,
   "id": "42ad566b",
   "metadata": {},
   "outputs": [
    {
     "name": "stdout",
     "output_type": "stream",
     "text": [
      "Selamat datang biyu!\n",
      "Silahkan masuk\n"
     ]
    }
   ],
   "source": [
    "def prosedur(nama, umur):\n",
    "    print(f\"Selamat datang {nama}!\")\n",
    "\n",
    "    if umur >= 17:\n",
    "        print(\"Silahkan masuk\")\n",
    "    else:\n",
    "        print(\"Anda harus setidaknya berumur 17 untuk masuk!\")\n",
    "\n",
    "\n",
    "prosedur(\"biyu\", 20)"
   ]
  },
  {
   "cell_type": "code",
   "execution_count": 14,
   "id": "d8e5bd72",
   "metadata": {
    "slideshow": {
     "slide_type": "subslide"
    }
   },
   "outputs": [
    {
     "data": {
      "text/plain": [
       "(10001, 10010)"
      ]
     },
     "execution_count": 14,
     "metadata": {},
     "output_type": "execute_result"
    }
   ],
   "source": [
    "def fungsi(x, arg_opsional=1):\n",
    "    return x**2 + arg_opsional\n",
    "\n",
    "\n",
    "fungsi(100), fungsi(100, 10)"
   ]
  },
  {
   "cell_type": "markdown",
   "id": "535d0582",
   "metadata": {
    "slideshow": {
     "slide_type": "slide"
    }
   },
   "source": [
    "## Comprehension\n",
    "menyingkat proses looping dan append"
   ]
  },
  {
   "cell_type": "code",
   "execution_count": 15,
   "id": "575b7fe0",
   "metadata": {},
   "outputs": [
    {
     "name": "stdout",
     "output_type": "stream",
     "text": [
      "['kalkulus', 'statistika']\n"
     ]
    }
   ],
   "source": [
    "mata_kuliah = [\"kalkulus\", \"aljabar linear\", \"pemrograman dasar\", \"statistika\"]\n",
    "mata_kuliah_with_k = []\n",
    "\n",
    "for matkul in mata_kuliah:\n",
    "    if \"k\" in matkul:\n",
    "        mata_kuliah_with_k.append(matkul)\n",
    "\n",
    "print(mata_kuliah_with_k)"
   ]
  },
  {
   "cell_type": "code",
   "execution_count": 16,
   "id": "3c07b19f",
   "metadata": {
    "slideshow": {
     "slide_type": "subslide"
    }
   },
   "outputs": [
    {
     "name": "stdout",
     "output_type": "stream",
     "text": [
      "['kalkulus', 'statistika']\n"
     ]
    }
   ],
   "source": [
    "mata_kuliah_with_k_comprehension = [\n",
    "    matkul for matkul in mata_kuliah if \"k\" in matkul]\n",
    "\n",
    "print(mata_kuliah_with_k_comprehension)"
   ]
  },
  {
   "cell_type": "markdown",
   "id": "2a1f7b10",
   "metadata": {
    "slideshow": {
     "slide_type": "slide"
    }
   },
   "source": [
    "## Lambda Function\n",
    "sama seperti function tapi satu baris aja"
   ]
  },
  {
   "cell_type": "code",
   "execution_count": 17,
   "id": "1d745929",
   "metadata": {},
   "outputs": [
    {
     "data": {
      "text/plain": [
       "1531"
      ]
     },
     "execution_count": 17,
     "metadata": {},
     "output_type": "execute_result"
    }
   ],
   "source": [
    "def f(x):\n",
    "    return x ** 3 + 6 * x ** 2 - 10 * x + 31\n",
    "\n",
    "f(10)"
   ]
  },
  {
   "cell_type": "code",
   "execution_count": 18,
   "id": "f085919a",
   "metadata": {
    "slideshow": {
     "slide_type": "subslide"
    }
   },
   "outputs": [
    {
     "data": {
      "text/plain": [
       "1531"
      ]
     },
     "execution_count": 18,
     "metadata": {},
     "output_type": "execute_result"
    }
   ],
   "source": [
    "g = lambda x: x ** 3 + 6 * x ** 2 - 10 * x + 31\n",
    "\n",
    "g(10)"
   ]
  },
  {
   "cell_type": "markdown",
   "id": "bfc6e131",
   "metadata": {
    "slideshow": {
     "slide_type": "slide"
    }
   },
   "source": [
    "# Pandas\n",
    "![](https://upload.wikimedia.org/wikipedia/commons/thumb/e/ed/Pandas_logo.svg/1280px-Pandas_logo.svg.png)"
   ]
  },
  {
   "cell_type": "markdown",
   "id": "ad4d4c53",
   "metadata": {
    "slideshow": {
     "slide_type": "slide"
    }
   },
   "source": [
    "## Pengenalan Pandas\n",
    "\n",
    "Pandas adalah sebuah library Python yang digunakan untuk manipulasi dan analisis data. Pandas menyediakan struktur data yang fleksibel dan kaya akan fitur untuk mengolah data tabular, seperti data yang ada pada file CSV atau spreadsheet. Library ini sangat berguna untuk mempersiapkan data untuk analisis dan pemodelan statistik. Pandas juga memiliki banyak fungsi untuk melakukan operasi matematika dan statistik."
   ]
  },
  {
   "cell_type": "markdown",
   "id": "1ccc72d1",
   "metadata": {
    "slideshow": {
     "slide_type": "slide"
    }
   },
   "source": [
    "## Pandas\n",
    "\n",
    "### Instalasi Pandas"
   ]
  },
  {
   "cell_type": "code",
   "execution_count": null,
   "id": "558b081d",
   "metadata": {},
   "outputs": [],
   "source": [
    "!pip install pandas"
   ]
  },
  {
   "cell_type": "markdown",
   "id": "dc399709",
   "metadata": {
    "slideshow": {
     "slide_type": "slide"
    }
   },
   "source": [
    "### Import Pandas"
   ]
  },
  {
   "cell_type": "code",
   "execution_count": 19,
   "id": "928bde6f",
   "metadata": {},
   "outputs": [],
   "source": [
    "import pandas as pd"
   ]
  },
  {
   "cell_type": "markdown",
   "id": "14778c5d",
   "metadata": {
    "slideshow": {
     "slide_type": "slide"
    }
   },
   "source": [
    "## Dataframe\n",
    "-> Struktur data yang berbentuk seperti tabel"
   ]
  },
  {
   "cell_type": "code",
   "execution_count": 21,
   "id": "6da9c38c",
   "metadata": {},
   "outputs": [
    {
     "data": {
      "text/html": [
       "<div>\n",
       "<style scoped>\n",
       "    .dataframe tbody tr th:only-of-type {\n",
       "        vertical-align: middle;\n",
       "    }\n",
       "\n",
       "    .dataframe tbody tr th {\n",
       "        vertical-align: top;\n",
       "    }\n",
       "\n",
       "    .dataframe thead th {\n",
       "        text-align: right;\n",
       "    }\n",
       "</style>\n",
       "<table border=\"1\" class=\"dataframe\">\n",
       "  <thead>\n",
       "    <tr style=\"text-align: right;\">\n",
       "      <th></th>\n",
       "      <th>Invoice ID</th>\n",
       "      <th>Branch</th>\n",
       "      <th>City</th>\n",
       "      <th>Customer type</th>\n",
       "      <th>Gender</th>\n",
       "      <th>Product line</th>\n",
       "      <th>Unit price</th>\n",
       "      <th>Quantity</th>\n",
       "      <th>Tax 5%</th>\n",
       "      <th>Total</th>\n",
       "      <th>Date</th>\n",
       "      <th>Time</th>\n",
       "      <th>Payment</th>\n",
       "      <th>cogs</th>\n",
       "      <th>gross margin percentage</th>\n",
       "      <th>gross income</th>\n",
       "      <th>Rating</th>\n",
       "    </tr>\n",
       "  </thead>\n",
       "  <tbody>\n",
       "    <tr>\n",
       "      <th>0</th>\n",
       "      <td>750-67-8428</td>\n",
       "      <td>A</td>\n",
       "      <td>Yangon</td>\n",
       "      <td>Member</td>\n",
       "      <td>Female</td>\n",
       "      <td>Health and beauty</td>\n",
       "      <td>74.69</td>\n",
       "      <td>7.0</td>\n",
       "      <td>26.1415</td>\n",
       "      <td>548.9715</td>\n",
       "      <td>1/5/2019</td>\n",
       "      <td>13:08</td>\n",
       "      <td>Ewallet</td>\n",
       "      <td>522.83</td>\n",
       "      <td>4.761905</td>\n",
       "      <td>26.1415</td>\n",
       "      <td>9.1</td>\n",
       "    </tr>\n",
       "    <tr>\n",
       "      <th>1</th>\n",
       "      <td>226-31-3081</td>\n",
       "      <td>C</td>\n",
       "      <td>Naypyitaw</td>\n",
       "      <td>Normal</td>\n",
       "      <td>Female</td>\n",
       "      <td>Electronic accessories</td>\n",
       "      <td>15.28</td>\n",
       "      <td>5.0</td>\n",
       "      <td>3.8200</td>\n",
       "      <td>80.2200</td>\n",
       "      <td>3/8/2019</td>\n",
       "      <td>10:29</td>\n",
       "      <td>Cash</td>\n",
       "      <td>76.40</td>\n",
       "      <td>4.761905</td>\n",
       "      <td>3.8200</td>\n",
       "      <td>9.6</td>\n",
       "    </tr>\n",
       "    <tr>\n",
       "      <th>2</th>\n",
       "      <td>631-41-3108</td>\n",
       "      <td>A</td>\n",
       "      <td>Yangon</td>\n",
       "      <td>Normal</td>\n",
       "      <td>Male</td>\n",
       "      <td>Home and lifestyle</td>\n",
       "      <td>46.33</td>\n",
       "      <td>7.0</td>\n",
       "      <td>16.2155</td>\n",
       "      <td>340.5255</td>\n",
       "      <td>3/3/2019</td>\n",
       "      <td>13:23</td>\n",
       "      <td>Credit card</td>\n",
       "      <td>324.31</td>\n",
       "      <td>4.761905</td>\n",
       "      <td>16.2155</td>\n",
       "      <td>7.4</td>\n",
       "    </tr>\n",
       "    <tr>\n",
       "      <th>3</th>\n",
       "      <td>123-19-1176</td>\n",
       "      <td>A</td>\n",
       "      <td>Yangon</td>\n",
       "      <td>Member</td>\n",
       "      <td>Male</td>\n",
       "      <td>Health and beauty</td>\n",
       "      <td>58.22</td>\n",
       "      <td>8.0</td>\n",
       "      <td>23.2880</td>\n",
       "      <td>489.0480</td>\n",
       "      <td>1/27/2019</td>\n",
       "      <td>20:33</td>\n",
       "      <td>Ewallet</td>\n",
       "      <td>465.76</td>\n",
       "      <td>4.761905</td>\n",
       "      <td>23.2880</td>\n",
       "      <td>8.4</td>\n",
       "    </tr>\n",
       "    <tr>\n",
       "      <th>4</th>\n",
       "      <td>373-73-7910</td>\n",
       "      <td>A</td>\n",
       "      <td>Yangon</td>\n",
       "      <td>Normal</td>\n",
       "      <td>Male</td>\n",
       "      <td>Sports and travel</td>\n",
       "      <td>86.31</td>\n",
       "      <td>7.0</td>\n",
       "      <td>30.2085</td>\n",
       "      <td>634.3785</td>\n",
       "      <td>2/8/2019</td>\n",
       "      <td>10:37</td>\n",
       "      <td>Ewallet</td>\n",
       "      <td>604.17</td>\n",
       "      <td>4.761905</td>\n",
       "      <td>30.2085</td>\n",
       "      <td>5.3</td>\n",
       "    </tr>\n",
       "  </tbody>\n",
       "</table>\n",
       "</div>"
      ],
      "text/plain": [
       "    Invoice ID Branch       City Customer type  Gender  \\\n",
       "0  750-67-8428      A     Yangon        Member  Female   \n",
       "1  226-31-3081      C  Naypyitaw        Normal  Female   \n",
       "2  631-41-3108      A     Yangon        Normal    Male   \n",
       "3  123-19-1176      A     Yangon        Member    Male   \n",
       "4  373-73-7910      A     Yangon        Normal    Male   \n",
       "\n",
       "             Product line  Unit price  Quantity   Tax 5%     Total       Date  \\\n",
       "0       Health and beauty       74.69       7.0  26.1415  548.9715   1/5/2019   \n",
       "1  Electronic accessories       15.28       5.0   3.8200   80.2200   3/8/2019   \n",
       "2      Home and lifestyle       46.33       7.0  16.2155  340.5255   3/3/2019   \n",
       "3       Health and beauty       58.22       8.0  23.2880  489.0480  1/27/2019   \n",
       "4       Sports and travel       86.31       7.0  30.2085  634.3785   2/8/2019   \n",
       "\n",
       "    Time      Payment    cogs  gross margin percentage  gross income  Rating  \n",
       "0  13:08      Ewallet  522.83                 4.761905       26.1415     9.1  \n",
       "1  10:29         Cash   76.40                 4.761905        3.8200     9.6  \n",
       "2  13:23  Credit card  324.31                 4.761905       16.2155     7.4  \n",
       "3  20:33      Ewallet  465.76                 4.761905       23.2880     8.4  \n",
       "4  10:37      Ewallet  604.17                 4.761905       30.2085     5.3  "
      ]
     },
     "execution_count": 21,
     "metadata": {},
     "output_type": "execute_result"
    }
   ],
   "source": [
    "data = pd.read_csv(\"https://raw.githubusercontent.com/SulthanAbiyyu/mini-bootcamp-bcc-2023/master/Supermarket_Sales.csv\")\n",
    "data.head()"
   ]
  },
  {
   "cell_type": "code",
   "execution_count": 22,
   "id": "a38b0a39",
   "metadata": {
    "slideshow": {
     "slide_type": "slide"
    }
   },
   "outputs": [
    {
     "data": {
      "text/html": [
       "<div>\n",
       "<style scoped>\n",
       "    .dataframe tbody tr th:only-of-type {\n",
       "        vertical-align: middle;\n",
       "    }\n",
       "\n",
       "    .dataframe tbody tr th {\n",
       "        vertical-align: top;\n",
       "    }\n",
       "\n",
       "    .dataframe thead th {\n",
       "        text-align: right;\n",
       "    }\n",
       "</style>\n",
       "<table border=\"1\" class=\"dataframe\">\n",
       "  <thead>\n",
       "    <tr style=\"text-align: right;\">\n",
       "      <th></th>\n",
       "      <th>Invoice ID</th>\n",
       "      <th>Branch</th>\n",
       "      <th>City</th>\n",
       "      <th>Customer type</th>\n",
       "      <th>Gender</th>\n",
       "      <th>Product line</th>\n",
       "      <th>Unit price</th>\n",
       "      <th>Quantity</th>\n",
       "      <th>Tax 5%</th>\n",
       "      <th>Total</th>\n",
       "      <th>Date</th>\n",
       "      <th>Time</th>\n",
       "      <th>Payment</th>\n",
       "      <th>cogs</th>\n",
       "      <th>gross margin percentage</th>\n",
       "      <th>gross income</th>\n",
       "      <th>Rating</th>\n",
       "    </tr>\n",
       "  </thead>\n",
       "  <tbody>\n",
       "    <tr>\n",
       "      <th>1095</th>\n",
       "      <td>831-64-0259</td>\n",
       "      <td>B</td>\n",
       "      <td>Mandalay</td>\n",
       "      <td>Normal</td>\n",
       "      <td>Female</td>\n",
       "      <td>Fashion accessories</td>\n",
       "      <td>500.0</td>\n",
       "      <td>5.0</td>\n",
       "      <td>9.9375</td>\n",
       "      <td>208.6875</td>\n",
       "      <td>2/22/2019</td>\n",
       "      <td>10:43</td>\n",
       "      <td>Ewallet</td>\n",
       "      <td>198.75</td>\n",
       "      <td>4.761905</td>\n",
       "      <td>9.9375</td>\n",
       "      <td>9.6</td>\n",
       "    </tr>\n",
       "    <tr>\n",
       "      <th>1096</th>\n",
       "      <td>645-44-1170</td>\n",
       "      <td>A</td>\n",
       "      <td>Yangon</td>\n",
       "      <td>Member</td>\n",
       "      <td>Male</td>\n",
       "      <td>Home and lifestyle</td>\n",
       "      <td>300.0</td>\n",
       "      <td>9.0</td>\n",
       "      <td>26.1315</td>\n",
       "      <td>548.7615</td>\n",
       "      <td>1/19/2019</td>\n",
       "      <td>20:07</td>\n",
       "      <td>Ewallet</td>\n",
       "      <td>522.63</td>\n",
       "      <td>4.761905</td>\n",
       "      <td>26.1315</td>\n",
       "      <td>4.3</td>\n",
       "    </tr>\n",
       "    <tr>\n",
       "      <th>1097</th>\n",
       "      <td>123-19-1176</td>\n",
       "      <td>A</td>\n",
       "      <td>Yangon</td>\n",
       "      <td>Member</td>\n",
       "      <td>Male</td>\n",
       "      <td>Health and beauty</td>\n",
       "      <td>2.0</td>\n",
       "      <td>8.0</td>\n",
       "      <td>23.2880</td>\n",
       "      <td>489.0480</td>\n",
       "      <td>1/27/2019</td>\n",
       "      <td>20:33</td>\n",
       "      <td>Ewallet</td>\n",
       "      <td>465.76</td>\n",
       "      <td>4.761905</td>\n",
       "      <td>23.2880</td>\n",
       "      <td>8.4</td>\n",
       "    </tr>\n",
       "    <tr>\n",
       "      <th>1098</th>\n",
       "      <td>283-26-5248</td>\n",
       "      <td>C</td>\n",
       "      <td>Naypyitaw</td>\n",
       "      <td>Member</td>\n",
       "      <td>Female</td>\n",
       "      <td>Food and beverages</td>\n",
       "      <td>300.0</td>\n",
       "      <td>10.0</td>\n",
       "      <td>49.2600</td>\n",
       "      <td>1034.4600</td>\n",
       "      <td>1/30/2019</td>\n",
       "      <td>20:23</td>\n",
       "      <td>Ewallet</td>\n",
       "      <td>985.20</td>\n",
       "      <td>4.761905</td>\n",
       "      <td>49.2600</td>\n",
       "      <td>4.5</td>\n",
       "    </tr>\n",
       "    <tr>\n",
       "      <th>1099</th>\n",
       "      <td>372-62-5264</td>\n",
       "      <td>C</td>\n",
       "      <td>Naypyitaw</td>\n",
       "      <td>Normal</td>\n",
       "      <td>Female</td>\n",
       "      <td>Food and beverages</td>\n",
       "      <td>2.0</td>\n",
       "      <td>9.0</td>\n",
       "      <td>23.6700</td>\n",
       "      <td>497.0700</td>\n",
       "      <td>1/16/2019</td>\n",
       "      <td>14:42</td>\n",
       "      <td>Cash</td>\n",
       "      <td>473.40</td>\n",
       "      <td>4.761905</td>\n",
       "      <td>23.6700</td>\n",
       "      <td>7.6</td>\n",
       "    </tr>\n",
       "  </tbody>\n",
       "</table>\n",
       "</div>"
      ],
      "text/plain": [
       "       Invoice ID Branch       City Customer type  Gender  \\\n",
       "1095  831-64-0259      B   Mandalay        Normal  Female   \n",
       "1096  645-44-1170      A     Yangon        Member    Male   \n",
       "1097  123-19-1176      A     Yangon        Member    Male   \n",
       "1098  283-26-5248      C  Naypyitaw        Member  Female   \n",
       "1099  372-62-5264      C  Naypyitaw        Normal  Female   \n",
       "\n",
       "             Product line  Unit price  Quantity   Tax 5%      Total  \\\n",
       "1095  Fashion accessories       500.0       5.0   9.9375   208.6875   \n",
       "1096   Home and lifestyle       300.0       9.0  26.1315   548.7615   \n",
       "1097    Health and beauty         2.0       8.0  23.2880   489.0480   \n",
       "1098   Food and beverages       300.0      10.0  49.2600  1034.4600   \n",
       "1099   Food and beverages         2.0       9.0  23.6700   497.0700   \n",
       "\n",
       "           Date   Time  Payment    cogs  gross margin percentage  \\\n",
       "1095  2/22/2019  10:43  Ewallet  198.75                 4.761905   \n",
       "1096  1/19/2019  20:07  Ewallet  522.63                 4.761905   \n",
       "1097  1/27/2019  20:33  Ewallet  465.76                 4.761905   \n",
       "1098  1/30/2019  20:23  Ewallet  985.20                 4.761905   \n",
       "1099  1/16/2019  14:42     Cash  473.40                 4.761905   \n",
       "\n",
       "      gross income  Rating  \n",
       "1095        9.9375     9.6  \n",
       "1096       26.1315     4.3  \n",
       "1097       23.2880     8.4  \n",
       "1098       49.2600     4.5  \n",
       "1099       23.6700     7.6  "
      ]
     },
     "execution_count": 22,
     "metadata": {},
     "output_type": "execute_result"
    }
   ],
   "source": [
    "data.tail()"
   ]
  },
  {
   "cell_type": "code",
   "execution_count": 23,
   "id": "8ebc1b29",
   "metadata": {
    "slideshow": {
     "slide_type": "slide"
    }
   },
   "outputs": [
    {
     "data": {
      "text/plain": [
       "(1100, 17)"
      ]
     },
     "execution_count": 23,
     "metadata": {},
     "output_type": "execute_result"
    }
   ],
   "source": [
    "data.shape"
   ]
  },
  {
   "cell_type": "markdown",
   "id": "41091a78",
   "metadata": {
    "slideshow": {
     "slide_type": "slide"
    }
   },
   "source": [
    "## Info\n",
    "\n",
    "-> Untuk melihat informasi pada setiap kolom"
   ]
  },
  {
   "cell_type": "code",
   "execution_count": 24,
   "id": "c6fdd422",
   "metadata": {},
   "outputs": [
    {
     "name": "stdout",
     "output_type": "stream",
     "text": [
      "<class 'pandas.core.frame.DataFrame'>\n",
      "RangeIndex: 1100 entries, 0 to 1099\n",
      "Data columns (total 17 columns):\n",
      " #   Column                   Non-Null Count  Dtype  \n",
      "---  ------                   --------------  -----  \n",
      " 0   Invoice ID               1100 non-null   object \n",
      " 1   Branch                   1099 non-null   object \n",
      " 2   City                     1099 non-null   object \n",
      " 3   Customer type            1099 non-null   object \n",
      " 4   Gender                   1099 non-null   object \n",
      " 5   Product line             1099 non-null   object \n",
      " 6   Unit price               1099 non-null   float64\n",
      " 7   Quantity                 1099 non-null   float64\n",
      " 8   Tax 5%                   1099 non-null   float64\n",
      " 9   Total                    1099 non-null   float64\n",
      " 10  Date                     1099 non-null   object \n",
      " 11  Time                     1099 non-null   object \n",
      " 12  Payment                  1099 non-null   object \n",
      " 13  cogs                     1099 non-null   float64\n",
      " 14  gross margin percentage  1099 non-null   float64\n",
      " 15  gross income             1099 non-null   float64\n",
      " 16  Rating                   1099 non-null   float64\n",
      "dtypes: float64(8), object(9)\n",
      "memory usage: 146.2+ KB\n"
     ]
    }
   ],
   "source": [
    "data.info()"
   ]
  },
  {
   "cell_type": "markdown",
   "id": "6732245c",
   "metadata": {
    "slideshow": {
     "slide_type": "slide"
    }
   },
   "source": [
    "## Describe\n",
    "\n",
    "-> Untuk mendapatkan ringkasan statistik pada kolom-kolom numerik"
   ]
  },
  {
   "cell_type": "code",
   "execution_count": 25,
   "id": "9f0f6508",
   "metadata": {},
   "outputs": [
    {
     "data": {
      "text/html": [
       "<div>\n",
       "<style scoped>\n",
       "    .dataframe tbody tr th:only-of-type {\n",
       "        vertical-align: middle;\n",
       "    }\n",
       "\n",
       "    .dataframe tbody tr th {\n",
       "        vertical-align: top;\n",
       "    }\n",
       "\n",
       "    .dataframe thead th {\n",
       "        text-align: right;\n",
       "    }\n",
       "</style>\n",
       "<table border=\"1\" class=\"dataframe\">\n",
       "  <thead>\n",
       "    <tr style=\"text-align: right;\">\n",
       "      <th></th>\n",
       "      <th>Unit price</th>\n",
       "      <th>Quantity</th>\n",
       "      <th>Tax 5%</th>\n",
       "      <th>Total</th>\n",
       "      <th>cogs</th>\n",
       "      <th>gross margin percentage</th>\n",
       "      <th>gross income</th>\n",
       "      <th>Rating</th>\n",
       "    </tr>\n",
       "  </thead>\n",
       "  <tbody>\n",
       "    <tr>\n",
       "      <th>count</th>\n",
       "      <td>1099.000000</td>\n",
       "      <td>1099.000000</td>\n",
       "      <td>1099.000000</td>\n",
       "      <td>1099.000000</td>\n",
       "      <td>1099.000000</td>\n",
       "      <td>1099.000000</td>\n",
       "      <td>1099.000000</td>\n",
       "      <td>1099.000000</td>\n",
       "    </tr>\n",
       "    <tr>\n",
       "      <th>mean</th>\n",
       "      <td>56.976233</td>\n",
       "      <td>5.509554</td>\n",
       "      <td>15.452969</td>\n",
       "      <td>324.327239</td>\n",
       "      <td>308.561028</td>\n",
       "      <td>4.761905</td>\n",
       "      <td>15.447305</td>\n",
       "      <td>6.960692</td>\n",
       "    </tr>\n",
       "    <tr>\n",
       "      <th>std</th>\n",
       "      <td>40.937887</td>\n",
       "      <td>2.926334</td>\n",
       "      <td>11.798542</td>\n",
       "      <td>247.745976</td>\n",
       "      <td>235.532988</td>\n",
       "      <td>0.000000</td>\n",
       "      <td>11.798659</td>\n",
       "      <td>1.718103</td>\n",
       "    </tr>\n",
       "    <tr>\n",
       "      <th>min</th>\n",
       "      <td>-100.000000</td>\n",
       "      <td>1.000000</td>\n",
       "      <td>0.508500</td>\n",
       "      <td>10.678500</td>\n",
       "      <td>10.170000</td>\n",
       "      <td>4.761905</td>\n",
       "      <td>0.508500</td>\n",
       "      <td>4.000000</td>\n",
       "    </tr>\n",
       "    <tr>\n",
       "      <th>25%</th>\n",
       "      <td>31.700000</td>\n",
       "      <td>3.000000</td>\n",
       "      <td>5.894750</td>\n",
       "      <td>123.789750</td>\n",
       "      <td>117.895000</td>\n",
       "      <td>4.761905</td>\n",
       "      <td>5.894750</td>\n",
       "      <td>5.500000</td>\n",
       "    </tr>\n",
       "    <tr>\n",
       "      <th>50%</th>\n",
       "      <td>54.310000</td>\n",
       "      <td>5.000000</td>\n",
       "      <td>12.072000</td>\n",
       "      <td>253.512000</td>\n",
       "      <td>241.440000</td>\n",
       "      <td>4.761905</td>\n",
       "      <td>12.072000</td>\n",
       "      <td>6.900000</td>\n",
       "    </tr>\n",
       "    <tr>\n",
       "      <th>75%</th>\n",
       "      <td>77.940000</td>\n",
       "      <td>8.000000</td>\n",
       "      <td>22.756500</td>\n",
       "      <td>477.886500</td>\n",
       "      <td>454.605000</td>\n",
       "      <td>4.761905</td>\n",
       "      <td>22.756500</td>\n",
       "      <td>8.500000</td>\n",
       "    </tr>\n",
       "    <tr>\n",
       "      <th>max</th>\n",
       "      <td>500.000000</td>\n",
       "      <td>10.000000</td>\n",
       "      <td>49.650000</td>\n",
       "      <td>1042.650000</td>\n",
       "      <td>993.000000</td>\n",
       "      <td>4.761905</td>\n",
       "      <td>49.650000</td>\n",
       "      <td>10.000000</td>\n",
       "    </tr>\n",
       "  </tbody>\n",
       "</table>\n",
       "</div>"
      ],
      "text/plain": [
       "        Unit price     Quantity       Tax 5%        Total         cogs  \\\n",
       "count  1099.000000  1099.000000  1099.000000  1099.000000  1099.000000   \n",
       "mean     56.976233     5.509554    15.452969   324.327239   308.561028   \n",
       "std      40.937887     2.926334    11.798542   247.745976   235.532988   \n",
       "min    -100.000000     1.000000     0.508500    10.678500    10.170000   \n",
       "25%      31.700000     3.000000     5.894750   123.789750   117.895000   \n",
       "50%      54.310000     5.000000    12.072000   253.512000   241.440000   \n",
       "75%      77.940000     8.000000    22.756500   477.886500   454.605000   \n",
       "max     500.000000    10.000000    49.650000  1042.650000   993.000000   \n",
       "\n",
       "       gross margin percentage  gross income       Rating  \n",
       "count              1099.000000   1099.000000  1099.000000  \n",
       "mean                  4.761905     15.447305     6.960692  \n",
       "std                   0.000000     11.798659     1.718103  \n",
       "min                   4.761905      0.508500     4.000000  \n",
       "25%                   4.761905      5.894750     5.500000  \n",
       "50%                   4.761905     12.072000     6.900000  \n",
       "75%                   4.761905     22.756500     8.500000  \n",
       "max                   4.761905     49.650000    10.000000  "
      ]
     },
     "execution_count": 25,
     "metadata": {},
     "output_type": "execute_result"
    }
   ],
   "source": [
    "data.describe()"
   ]
  },
  {
   "cell_type": "markdown",
   "id": "d533e9c3",
   "metadata": {
    "slideshow": {
     "slide_type": "slide"
    }
   },
   "source": [
    "## Melihat Nilai Unik"
   ]
  },
  {
   "cell_type": "code",
   "execution_count": 26,
   "id": "d346f9cb",
   "metadata": {},
   "outputs": [
    {
     "data": {
      "text/plain": [
       "array(['Yangon', 'Naypyitaw', 'Mandalay', nan], dtype=object)"
      ]
     },
     "execution_count": 26,
     "metadata": {},
     "output_type": "execute_result"
    }
   ],
   "source": [
    "data[\"City\"].unique()"
   ]
  },
  {
   "cell_type": "code",
   "execution_count": 27,
   "id": "22959ca7",
   "metadata": {
    "slideshow": {
     "slide_type": "subslide"
    }
   },
   "outputs": [
    {
     "data": {
      "text/plain": [
       "3"
      ]
     },
     "execution_count": 27,
     "metadata": {},
     "output_type": "execute_result"
    }
   ],
   "source": [
    "data[\"City\"].nunique()"
   ]
  },
  {
   "cell_type": "code",
   "execution_count": 28,
   "id": "aeb37a8a",
   "metadata": {
    "slideshow": {
     "slide_type": "subslide"
    }
   },
   "outputs": [
    {
     "data": {
      "text/plain": [
       "Yangon       367\n",
       "Naypyitaw    367\n",
       "Mandalay     365\n",
       "Name: City, dtype: int64"
      ]
     },
     "execution_count": 28,
     "metadata": {},
     "output_type": "execute_result"
    }
   ],
   "source": [
    "data[\"City\"].value_counts()"
   ]
  },
  {
   "cell_type": "markdown",
   "id": "f58d07cd",
   "metadata": {
    "slideshow": {
     "slide_type": "slide"
    }
   },
   "source": [
    "## Seleksi\n",
    "\n",
    "-> Mendapatkan nilai suatu kolom"
   ]
  },
  {
   "cell_type": "code",
   "execution_count": 29,
   "id": "3a8e8b5b",
   "metadata": {},
   "outputs": [
    {
     "data": {
      "text/plain": [
       "0        548.9715\n",
       "1         80.2200\n",
       "2        340.5255\n",
       "3        489.0480\n",
       "4        634.3785\n",
       "          ...    \n",
       "1095     208.6875\n",
       "1096     548.7615\n",
       "1097     489.0480\n",
       "1098    1034.4600\n",
       "1099     497.0700\n",
       "Name: Total, Length: 1100, dtype: float64"
      ]
     },
     "execution_count": 29,
     "metadata": {},
     "output_type": "execute_result"
    }
   ],
   "source": [
    "data[\"Total\"]"
   ]
  },
  {
   "cell_type": "code",
   "execution_count": 30,
   "id": "2acee532",
   "metadata": {
    "slideshow": {
     "slide_type": "subslide"
    }
   },
   "outputs": [
    {
     "data": {
      "text/html": [
       "<div>\n",
       "<style scoped>\n",
       "    .dataframe tbody tr th:only-of-type {\n",
       "        vertical-align: middle;\n",
       "    }\n",
       "\n",
       "    .dataframe tbody tr th {\n",
       "        vertical-align: top;\n",
       "    }\n",
       "\n",
       "    .dataframe thead th {\n",
       "        text-align: right;\n",
       "    }\n",
       "</style>\n",
       "<table border=\"1\" class=\"dataframe\">\n",
       "  <thead>\n",
       "    <tr style=\"text-align: right;\">\n",
       "      <th></th>\n",
       "      <th>Invoice ID</th>\n",
       "      <th>Branch</th>\n",
       "    </tr>\n",
       "  </thead>\n",
       "  <tbody>\n",
       "    <tr>\n",
       "      <th>0</th>\n",
       "      <td>750-67-8428</td>\n",
       "      <td>A</td>\n",
       "    </tr>\n",
       "    <tr>\n",
       "      <th>1</th>\n",
       "      <td>226-31-3081</td>\n",
       "      <td>C</td>\n",
       "    </tr>\n",
       "    <tr>\n",
       "      <th>2</th>\n",
       "      <td>631-41-3108</td>\n",
       "      <td>A</td>\n",
       "    </tr>\n",
       "    <tr>\n",
       "      <th>3</th>\n",
       "      <td>123-19-1176</td>\n",
       "      <td>A</td>\n",
       "    </tr>\n",
       "    <tr>\n",
       "      <th>4</th>\n",
       "      <td>373-73-7910</td>\n",
       "      <td>A</td>\n",
       "    </tr>\n",
       "  </tbody>\n",
       "</table>\n",
       "</div>"
      ],
      "text/plain": [
       "    Invoice ID Branch\n",
       "0  750-67-8428      A\n",
       "1  226-31-3081      C\n",
       "2  631-41-3108      A\n",
       "3  123-19-1176      A\n",
       "4  373-73-7910      A"
      ]
     },
     "execution_count": 30,
     "metadata": {},
     "output_type": "execute_result"
    }
   ],
   "source": [
    "data.loc[0:4, [\"Invoice ID\", \"Branch\"]]"
   ]
  },
  {
   "cell_type": "code",
   "execution_count": 31,
   "id": "7b9e2ba4",
   "metadata": {
    "slideshow": {
     "slide_type": "subslide"
    }
   },
   "outputs": [
    {
     "data": {
      "text/html": [
       "<div>\n",
       "<style scoped>\n",
       "    .dataframe tbody tr th:only-of-type {\n",
       "        vertical-align: middle;\n",
       "    }\n",
       "\n",
       "    .dataframe tbody tr th {\n",
       "        vertical-align: top;\n",
       "    }\n",
       "\n",
       "    .dataframe thead th {\n",
       "        text-align: right;\n",
       "    }\n",
       "</style>\n",
       "<table border=\"1\" class=\"dataframe\">\n",
       "  <thead>\n",
       "    <tr style=\"text-align: right;\">\n",
       "      <th></th>\n",
       "      <th>Invoice ID</th>\n",
       "      <th>Branch</th>\n",
       "    </tr>\n",
       "  </thead>\n",
       "  <tbody>\n",
       "    <tr>\n",
       "      <th>0</th>\n",
       "      <td>750-67-8428</td>\n",
       "      <td>A</td>\n",
       "    </tr>\n",
       "    <tr>\n",
       "      <th>1</th>\n",
       "      <td>226-31-3081</td>\n",
       "      <td>C</td>\n",
       "    </tr>\n",
       "    <tr>\n",
       "      <th>2</th>\n",
       "      <td>631-41-3108</td>\n",
       "      <td>A</td>\n",
       "    </tr>\n",
       "    <tr>\n",
       "      <th>3</th>\n",
       "      <td>123-19-1176</td>\n",
       "      <td>A</td>\n",
       "    </tr>\n",
       "    <tr>\n",
       "      <th>4</th>\n",
       "      <td>373-73-7910</td>\n",
       "      <td>A</td>\n",
       "    </tr>\n",
       "  </tbody>\n",
       "</table>\n",
       "</div>"
      ],
      "text/plain": [
       "    Invoice ID Branch\n",
       "0  750-67-8428      A\n",
       "1  226-31-3081      C\n",
       "2  631-41-3108      A\n",
       "3  123-19-1176      A\n",
       "4  373-73-7910      A"
      ]
     },
     "execution_count": 31,
     "metadata": {},
     "output_type": "execute_result"
    }
   ],
   "source": [
    "data.iloc[0:5, 0:2]"
   ]
  },
  {
   "cell_type": "markdown",
   "id": "988f2e35",
   "metadata": {
    "slideshow": {
     "slide_type": "slide"
    }
   },
   "source": [
    "### Seleksi Index Boolean"
   ]
  },
  {
   "cell_type": "code",
   "execution_count": 32,
   "id": "c65df2a1",
   "metadata": {},
   "outputs": [
    {
     "data": {
      "text/plain": [
       "0       False\n",
       "1       False\n",
       "2       False\n",
       "3       False\n",
       "4       False\n",
       "        ...  \n",
       "1095    False\n",
       "1096    False\n",
       "1097    False\n",
       "1098     True\n",
       "1099    False\n",
       "Name: Total, Length: 1100, dtype: bool"
      ]
     },
     "execution_count": 32,
     "metadata": {},
     "output_type": "execute_result"
    }
   ],
   "source": [
    "data[\"Total\"] > 999"
   ]
  },
  {
   "cell_type": "code",
   "execution_count": 33,
   "id": "92a1c845",
   "metadata": {
    "slideshow": {
     "slide_type": "subslide"
    }
   },
   "outputs": [
    {
     "data": {
      "text/html": [
       "<div>\n",
       "<style scoped>\n",
       "    .dataframe tbody tr th:only-of-type {\n",
       "        vertical-align: middle;\n",
       "    }\n",
       "\n",
       "    .dataframe tbody tr th {\n",
       "        vertical-align: top;\n",
       "    }\n",
       "\n",
       "    .dataframe thead th {\n",
       "        text-align: right;\n",
       "    }\n",
       "</style>\n",
       "<table border=\"1\" class=\"dataframe\">\n",
       "  <thead>\n",
       "    <tr style=\"text-align: right;\">\n",
       "      <th></th>\n",
       "      <th>Invoice ID</th>\n",
       "      <th>Branch</th>\n",
       "      <th>City</th>\n",
       "      <th>Customer type</th>\n",
       "      <th>Gender</th>\n",
       "      <th>Product line</th>\n",
       "      <th>Unit price</th>\n",
       "      <th>Quantity</th>\n",
       "      <th>Tax 5%</th>\n",
       "      <th>Total</th>\n",
       "      <th>Date</th>\n",
       "      <th>Time</th>\n",
       "      <th>Payment</th>\n",
       "      <th>cogs</th>\n",
       "      <th>gross margin percentage</th>\n",
       "      <th>gross income</th>\n",
       "      <th>Rating</th>\n",
       "    </tr>\n",
       "  </thead>\n",
       "  <tbody>\n",
       "    <tr>\n",
       "      <th>166</th>\n",
       "      <td>234-65-2137</td>\n",
       "      <td>C</td>\n",
       "      <td>Naypyitaw</td>\n",
       "      <td>Normal</td>\n",
       "      <td>Male</td>\n",
       "      <td>Home and lifestyle</td>\n",
       "      <td>95.58</td>\n",
       "      <td>10.0</td>\n",
       "      <td>47.790</td>\n",
       "      <td>1003.590</td>\n",
       "      <td>1/16/2019</td>\n",
       "      <td>13:32</td>\n",
       "      <td>Cash</td>\n",
       "      <td>955.8</td>\n",
       "      <td>4.761905</td>\n",
       "      <td>47.790</td>\n",
       "      <td>4.8</td>\n",
       "    </tr>\n",
       "    <tr>\n",
       "      <th>167</th>\n",
       "      <td>687-47-8271</td>\n",
       "      <td>A</td>\n",
       "      <td>NaN</td>\n",
       "      <td>Normal</td>\n",
       "      <td>Male</td>\n",
       "      <td>Fashion accessories</td>\n",
       "      <td>98.98</td>\n",
       "      <td>10.0</td>\n",
       "      <td>49.490</td>\n",
       "      <td>1039.290</td>\n",
       "      <td>2/8/2019</td>\n",
       "      <td>16:20</td>\n",
       "      <td>Credit card</td>\n",
       "      <td>989.8</td>\n",
       "      <td>4.761905</td>\n",
       "      <td>49.490</td>\n",
       "      <td>8.7</td>\n",
       "    </tr>\n",
       "    <tr>\n",
       "      <th>350</th>\n",
       "      <td>860-79-0874</td>\n",
       "      <td>C</td>\n",
       "      <td>Naypyitaw</td>\n",
       "      <td>Member</td>\n",
       "      <td>Female</td>\n",
       "      <td>Fashion accessories</td>\n",
       "      <td>99.30</td>\n",
       "      <td>10.0</td>\n",
       "      <td>49.650</td>\n",
       "      <td>1042.650</td>\n",
       "      <td>2/15/2019</td>\n",
       "      <td>14:53</td>\n",
       "      <td>Credit card</td>\n",
       "      <td>993.0</td>\n",
       "      <td>4.761905</td>\n",
       "      <td>49.650</td>\n",
       "      <td>6.6</td>\n",
       "    </tr>\n",
       "    <tr>\n",
       "      <th>357</th>\n",
       "      <td>554-42-2417</td>\n",
       "      <td>C</td>\n",
       "      <td>Naypyitaw</td>\n",
       "      <td>Normal</td>\n",
       "      <td>Female</td>\n",
       "      <td>Sports and travel</td>\n",
       "      <td>95.44</td>\n",
       "      <td>10.0</td>\n",
       "      <td>47.720</td>\n",
       "      <td>1002.120</td>\n",
       "      <td>1/9/2019</td>\n",
       "      <td>13:45</td>\n",
       "      <td>Cash</td>\n",
       "      <td>954.4</td>\n",
       "      <td>4.761905</td>\n",
       "      <td>47.720</td>\n",
       "      <td>5.2</td>\n",
       "    </tr>\n",
       "    <tr>\n",
       "      <th>422</th>\n",
       "      <td>271-88-8734</td>\n",
       "      <td>C</td>\n",
       "      <td>Naypyitaw</td>\n",
       "      <td>Member</td>\n",
       "      <td>Female</td>\n",
       "      <td>Fashion accessories</td>\n",
       "      <td>97.21</td>\n",
       "      <td>10.0</td>\n",
       "      <td>48.605</td>\n",
       "      <td>1020.705</td>\n",
       "      <td>2/8/2019</td>\n",
       "      <td>13:00</td>\n",
       "      <td>Credit card</td>\n",
       "      <td>972.1</td>\n",
       "      <td>4.761905</td>\n",
       "      <td>48.605</td>\n",
       "      <td>8.7</td>\n",
       "    </tr>\n",
       "    <tr>\n",
       "      <th>557</th>\n",
       "      <td>283-26-5248</td>\n",
       "      <td>C</td>\n",
       "      <td>Naypyitaw</td>\n",
       "      <td>Member</td>\n",
       "      <td>Female</td>\n",
       "      <td>Food and beverages</td>\n",
       "      <td>98.52</td>\n",
       "      <td>10.0</td>\n",
       "      <td>49.260</td>\n",
       "      <td>1034.460</td>\n",
       "      <td>1/30/2019</td>\n",
       "      <td>20:23</td>\n",
       "      <td>Ewallet</td>\n",
       "      <td>985.2</td>\n",
       "      <td>4.761905</td>\n",
       "      <td>49.260</td>\n",
       "      <td>4.5</td>\n",
       "    </tr>\n",
       "    <tr>\n",
       "      <th>699</th>\n",
       "      <td>751-41-9720</td>\n",
       "      <td>C</td>\n",
       "      <td>Naypyitaw</td>\n",
       "      <td>Normal</td>\n",
       "      <td>Male</td>\n",
       "      <td>Home and lifestyle</td>\n",
       "      <td>97.50</td>\n",
       "      <td>10.0</td>\n",
       "      <td>48.750</td>\n",
       "      <td>1023.750</td>\n",
       "      <td>1/12/2019</td>\n",
       "      <td>16:18</td>\n",
       "      <td>Ewallet</td>\n",
       "      <td>975.0</td>\n",
       "      <td>4.761905</td>\n",
       "      <td>48.750</td>\n",
       "      <td>8.0</td>\n",
       "    </tr>\n",
       "    <tr>\n",
       "      <th>792</th>\n",
       "      <td>744-16-7898</td>\n",
       "      <td>B</td>\n",
       "      <td>Mandalay</td>\n",
       "      <td>Normal</td>\n",
       "      <td>Female</td>\n",
       "      <td>Home and lifestyle</td>\n",
       "      <td>97.37</td>\n",
       "      <td>10.0</td>\n",
       "      <td>48.685</td>\n",
       "      <td>1022.385</td>\n",
       "      <td>1/15/2019</td>\n",
       "      <td>13:48</td>\n",
       "      <td>Credit card</td>\n",
       "      <td>973.7</td>\n",
       "      <td>4.761905</td>\n",
       "      <td>48.685</td>\n",
       "      <td>4.9</td>\n",
       "    </tr>\n",
       "    <tr>\n",
       "      <th>996</th>\n",
       "      <td>303-96-2227</td>\n",
       "      <td>B</td>\n",
       "      <td>Mandalay</td>\n",
       "      <td>Normal</td>\n",
       "      <td>Female</td>\n",
       "      <td>Home and lifestyle</td>\n",
       "      <td>97.38</td>\n",
       "      <td>10.0</td>\n",
       "      <td>48.690</td>\n",
       "      <td>1022.490</td>\n",
       "      <td>3/2/2019</td>\n",
       "      <td>17:16</td>\n",
       "      <td>Ewallet</td>\n",
       "      <td>973.8</td>\n",
       "      <td>4.761905</td>\n",
       "      <td>48.690</td>\n",
       "      <td>4.4</td>\n",
       "    </tr>\n",
       "    <tr>\n",
       "      <th>1019</th>\n",
       "      <td>271-88-8734</td>\n",
       "      <td>C</td>\n",
       "      <td>Naypyitaw</td>\n",
       "      <td>Member</td>\n",
       "      <td>Female</td>\n",
       "      <td>Fashion accessories</td>\n",
       "      <td>97.21</td>\n",
       "      <td>10.0</td>\n",
       "      <td>48.605</td>\n",
       "      <td>1020.705</td>\n",
       "      <td>2/8/2019</td>\n",
       "      <td>13:00</td>\n",
       "      <td>Credit card</td>\n",
       "      <td>972.1</td>\n",
       "      <td>4.761905</td>\n",
       "      <td>48.605</td>\n",
       "      <td>8.7</td>\n",
       "    </tr>\n",
       "    <tr>\n",
       "      <th>1030</th>\n",
       "      <td>283-26-5248</td>\n",
       "      <td>C</td>\n",
       "      <td>Naypyitaw</td>\n",
       "      <td>Member</td>\n",
       "      <td>Female</td>\n",
       "      <td>Food and beverages</td>\n",
       "      <td>98.52</td>\n",
       "      <td>10.0</td>\n",
       "      <td>49.260</td>\n",
       "      <td>1034.460</td>\n",
       "      <td>1/30/2019</td>\n",
       "      <td>20:23</td>\n",
       "      <td>Ewallet</td>\n",
       "      <td>985.2</td>\n",
       "      <td>4.761905</td>\n",
       "      <td>49.260</td>\n",
       "      <td>4.5</td>\n",
       "    </tr>\n",
       "    <tr>\n",
       "      <th>1087</th>\n",
       "      <td>283-26-5248</td>\n",
       "      <td>C</td>\n",
       "      <td>Naypyitaw</td>\n",
       "      <td>Member</td>\n",
       "      <td>Female</td>\n",
       "      <td>Food and beverages</td>\n",
       "      <td>-100.00</td>\n",
       "      <td>10.0</td>\n",
       "      <td>49.260</td>\n",
       "      <td>1034.460</td>\n",
       "      <td>1/30/2019</td>\n",
       "      <td>20:23</td>\n",
       "      <td>Ewallet</td>\n",
       "      <td>985.2</td>\n",
       "      <td>4.761905</td>\n",
       "      <td>49.260</td>\n",
       "      <td>4.5</td>\n",
       "    </tr>\n",
       "    <tr>\n",
       "      <th>1098</th>\n",
       "      <td>283-26-5248</td>\n",
       "      <td>C</td>\n",
       "      <td>Naypyitaw</td>\n",
       "      <td>Member</td>\n",
       "      <td>Female</td>\n",
       "      <td>Food and beverages</td>\n",
       "      <td>300.00</td>\n",
       "      <td>10.0</td>\n",
       "      <td>49.260</td>\n",
       "      <td>1034.460</td>\n",
       "      <td>1/30/2019</td>\n",
       "      <td>20:23</td>\n",
       "      <td>Ewallet</td>\n",
       "      <td>985.2</td>\n",
       "      <td>4.761905</td>\n",
       "      <td>49.260</td>\n",
       "      <td>4.5</td>\n",
       "    </tr>\n",
       "  </tbody>\n",
       "</table>\n",
       "</div>"
      ],
      "text/plain": [
       "       Invoice ID Branch       City Customer type  Gender  \\\n",
       "166   234-65-2137      C  Naypyitaw        Normal    Male   \n",
       "167   687-47-8271      A        NaN        Normal    Male   \n",
       "350   860-79-0874      C  Naypyitaw        Member  Female   \n",
       "357   554-42-2417      C  Naypyitaw        Normal  Female   \n",
       "422   271-88-8734      C  Naypyitaw        Member  Female   \n",
       "557   283-26-5248      C  Naypyitaw        Member  Female   \n",
       "699   751-41-9720      C  Naypyitaw        Normal    Male   \n",
       "792   744-16-7898      B   Mandalay        Normal  Female   \n",
       "996   303-96-2227      B   Mandalay        Normal  Female   \n",
       "1019  271-88-8734      C  Naypyitaw        Member  Female   \n",
       "1030  283-26-5248      C  Naypyitaw        Member  Female   \n",
       "1087  283-26-5248      C  Naypyitaw        Member  Female   \n",
       "1098  283-26-5248      C  Naypyitaw        Member  Female   \n",
       "\n",
       "             Product line  Unit price  Quantity  Tax 5%     Total       Date  \\\n",
       "166    Home and lifestyle       95.58      10.0  47.790  1003.590  1/16/2019   \n",
       "167   Fashion accessories       98.98      10.0  49.490  1039.290   2/8/2019   \n",
       "350   Fashion accessories       99.30      10.0  49.650  1042.650  2/15/2019   \n",
       "357     Sports and travel       95.44      10.0  47.720  1002.120   1/9/2019   \n",
       "422   Fashion accessories       97.21      10.0  48.605  1020.705   2/8/2019   \n",
       "557    Food and beverages       98.52      10.0  49.260  1034.460  1/30/2019   \n",
       "699    Home and lifestyle       97.50      10.0  48.750  1023.750  1/12/2019   \n",
       "792    Home and lifestyle       97.37      10.0  48.685  1022.385  1/15/2019   \n",
       "996    Home and lifestyle       97.38      10.0  48.690  1022.490   3/2/2019   \n",
       "1019  Fashion accessories       97.21      10.0  48.605  1020.705   2/8/2019   \n",
       "1030   Food and beverages       98.52      10.0  49.260  1034.460  1/30/2019   \n",
       "1087   Food and beverages     -100.00      10.0  49.260  1034.460  1/30/2019   \n",
       "1098   Food and beverages      300.00      10.0  49.260  1034.460  1/30/2019   \n",
       "\n",
       "       Time      Payment   cogs  gross margin percentage  gross income  Rating  \n",
       "166   13:32         Cash  955.8                 4.761905        47.790     4.8  \n",
       "167   16:20  Credit card  989.8                 4.761905        49.490     8.7  \n",
       "350   14:53  Credit card  993.0                 4.761905        49.650     6.6  \n",
       "357   13:45         Cash  954.4                 4.761905        47.720     5.2  \n",
       "422   13:00  Credit card  972.1                 4.761905        48.605     8.7  \n",
       "557   20:23      Ewallet  985.2                 4.761905        49.260     4.5  \n",
       "699   16:18      Ewallet  975.0                 4.761905        48.750     8.0  \n",
       "792   13:48  Credit card  973.7                 4.761905        48.685     4.9  \n",
       "996   17:16      Ewallet  973.8                 4.761905        48.690     4.4  \n",
       "1019  13:00  Credit card  972.1                 4.761905        48.605     8.7  \n",
       "1030  20:23      Ewallet  985.2                 4.761905        49.260     4.5  \n",
       "1087  20:23      Ewallet  985.2                 4.761905        49.260     4.5  \n",
       "1098  20:23      Ewallet  985.2                 4.761905        49.260     4.5  "
      ]
     },
     "execution_count": 33,
     "metadata": {},
     "output_type": "execute_result"
    }
   ],
   "source": [
    "data[data[\"Total\"] > 999]"
   ]
  },
  {
   "cell_type": "code",
   "execution_count": 34,
   "id": "37e7dba6",
   "metadata": {
    "slideshow": {
     "slide_type": "subslide"
    }
   },
   "outputs": [
    {
     "data": {
      "text/html": [
       "<div>\n",
       "<style scoped>\n",
       "    .dataframe tbody tr th:only-of-type {\n",
       "        vertical-align: middle;\n",
       "    }\n",
       "\n",
       "    .dataframe tbody tr th {\n",
       "        vertical-align: top;\n",
       "    }\n",
       "\n",
       "    .dataframe thead th {\n",
       "        text-align: right;\n",
       "    }\n",
       "</style>\n",
       "<table border=\"1\" class=\"dataframe\">\n",
       "  <thead>\n",
       "    <tr style=\"text-align: right;\">\n",
       "      <th></th>\n",
       "      <th>Invoice ID</th>\n",
       "      <th>Branch</th>\n",
       "      <th>City</th>\n",
       "      <th>Customer type</th>\n",
       "      <th>Gender</th>\n",
       "      <th>Product line</th>\n",
       "      <th>Unit price</th>\n",
       "      <th>Quantity</th>\n",
       "      <th>Tax 5%</th>\n",
       "      <th>Total</th>\n",
       "      <th>Date</th>\n",
       "      <th>Time</th>\n",
       "      <th>Payment</th>\n",
       "      <th>cogs</th>\n",
       "      <th>gross margin percentage</th>\n",
       "      <th>gross income</th>\n",
       "      <th>Rating</th>\n",
       "    </tr>\n",
       "  </thead>\n",
       "  <tbody>\n",
       "    <tr>\n",
       "      <th>792</th>\n",
       "      <td>744-16-7898</td>\n",
       "      <td>B</td>\n",
       "      <td>Mandalay</td>\n",
       "      <td>Normal</td>\n",
       "      <td>Female</td>\n",
       "      <td>Home and lifestyle</td>\n",
       "      <td>97.37</td>\n",
       "      <td>10.0</td>\n",
       "      <td>48.685</td>\n",
       "      <td>1022.385</td>\n",
       "      <td>1/15/2019</td>\n",
       "      <td>13:48</td>\n",
       "      <td>Credit card</td>\n",
       "      <td>973.7</td>\n",
       "      <td>4.761905</td>\n",
       "      <td>48.685</td>\n",
       "      <td>4.9</td>\n",
       "    </tr>\n",
       "    <tr>\n",
       "      <th>996</th>\n",
       "      <td>303-96-2227</td>\n",
       "      <td>B</td>\n",
       "      <td>Mandalay</td>\n",
       "      <td>Normal</td>\n",
       "      <td>Female</td>\n",
       "      <td>Home and lifestyle</td>\n",
       "      <td>97.38</td>\n",
       "      <td>10.0</td>\n",
       "      <td>48.690</td>\n",
       "      <td>1022.490</td>\n",
       "      <td>3/2/2019</td>\n",
       "      <td>17:16</td>\n",
       "      <td>Ewallet</td>\n",
       "      <td>973.8</td>\n",
       "      <td>4.761905</td>\n",
       "      <td>48.690</td>\n",
       "      <td>4.4</td>\n",
       "    </tr>\n",
       "  </tbody>\n",
       "</table>\n",
       "</div>"
      ],
      "text/plain": [
       "      Invoice ID Branch      City Customer type  Gender        Product line  \\\n",
       "792  744-16-7898      B  Mandalay        Normal  Female  Home and lifestyle   \n",
       "996  303-96-2227      B  Mandalay        Normal  Female  Home and lifestyle   \n",
       "\n",
       "     Unit price  Quantity  Tax 5%     Total       Date   Time      Payment  \\\n",
       "792       97.37      10.0  48.685  1022.385  1/15/2019  13:48  Credit card   \n",
       "996       97.38      10.0  48.690  1022.490   3/2/2019  17:16      Ewallet   \n",
       "\n",
       "      cogs  gross margin percentage  gross income  Rating  \n",
       "792  973.7                 4.761905        48.685     4.9  \n",
       "996  973.8                 4.761905        48.690     4.4  "
      ]
     },
     "execution_count": 34,
     "metadata": {},
     "output_type": "execute_result"
    }
   ],
   "source": [
    "data[(data[\"Total\"] > 999) & (data[\"City\"] == \"Mandalay\")]"
   ]
  },
  {
   "cell_type": "code",
   "execution_count": 35,
   "id": "8c7d2f1c",
   "metadata": {
    "slideshow": {
     "slide_type": "subslide"
    }
   },
   "outputs": [
    {
     "data": {
      "text/html": [
       "<div>\n",
       "<style scoped>\n",
       "    .dataframe tbody tr th:only-of-type {\n",
       "        vertical-align: middle;\n",
       "    }\n",
       "\n",
       "    .dataframe tbody tr th {\n",
       "        vertical-align: top;\n",
       "    }\n",
       "\n",
       "    .dataframe thead th {\n",
       "        text-align: right;\n",
       "    }\n",
       "</style>\n",
       "<table border=\"1\" class=\"dataframe\">\n",
       "  <thead>\n",
       "    <tr style=\"text-align: right;\">\n",
       "      <th></th>\n",
       "      <th>Invoice ID</th>\n",
       "      <th>Branch</th>\n",
       "      <th>City</th>\n",
       "      <th>Customer type</th>\n",
       "      <th>Gender</th>\n",
       "      <th>Product line</th>\n",
       "      <th>Unit price</th>\n",
       "      <th>Quantity</th>\n",
       "      <th>Tax 5%</th>\n",
       "      <th>Total</th>\n",
       "      <th>Date</th>\n",
       "      <th>Time</th>\n",
       "      <th>Payment</th>\n",
       "      <th>cogs</th>\n",
       "      <th>gross margin percentage</th>\n",
       "      <th>gross income</th>\n",
       "      <th>Rating</th>\n",
       "    </tr>\n",
       "  </thead>\n",
       "  <tbody>\n",
       "    <tr>\n",
       "      <th>9</th>\n",
       "      <td>692-92-5582</td>\n",
       "      <td>B</td>\n",
       "      <td>Mandalay</td>\n",
       "      <td>Member</td>\n",
       "      <td>Female</td>\n",
       "      <td>Food and beverages</td>\n",
       "      <td>54.84</td>\n",
       "      <td>3.0</td>\n",
       "      <td>8.2260</td>\n",
       "      <td>172.7460</td>\n",
       "      <td>2/20/2019</td>\n",
       "      <td>13:27</td>\n",
       "      <td>Credit card</td>\n",
       "      <td>164.52</td>\n",
       "      <td>4.761905</td>\n",
       "      <td>8.2260</td>\n",
       "      <td>5.9</td>\n",
       "    </tr>\n",
       "    <tr>\n",
       "      <th>10</th>\n",
       "      <td>351-62-0822</td>\n",
       "      <td>B</td>\n",
       "      <td>Mandalay</td>\n",
       "      <td>Member</td>\n",
       "      <td>Female</td>\n",
       "      <td>Fashion accessories</td>\n",
       "      <td>14.48</td>\n",
       "      <td>4.0</td>\n",
       "      <td>2.8960</td>\n",
       "      <td>60.8160</td>\n",
       "      <td>2/6/2019</td>\n",
       "      <td>18:07</td>\n",
       "      <td>Ewallet</td>\n",
       "      <td>57.92</td>\n",
       "      <td>4.761905</td>\n",
       "      <td>2.8960</td>\n",
       "      <td>4.5</td>\n",
       "    </tr>\n",
       "    <tr>\n",
       "      <th>11</th>\n",
       "      <td>529-56-3974</td>\n",
       "      <td>B</td>\n",
       "      <td>Mandalay</td>\n",
       "      <td>Member</td>\n",
       "      <td>Male</td>\n",
       "      <td>Electronic accessories</td>\n",
       "      <td>25.51</td>\n",
       "      <td>4.0</td>\n",
       "      <td>5.1020</td>\n",
       "      <td>107.1420</td>\n",
       "      <td>3/9/2019</td>\n",
       "      <td>17:03</td>\n",
       "      <td>Cash</td>\n",
       "      <td>102.04</td>\n",
       "      <td>4.761905</td>\n",
       "      <td>5.1020</td>\n",
       "      <td>6.8</td>\n",
       "    </tr>\n",
       "    <tr>\n",
       "      <th>15</th>\n",
       "      <td>299-46-1805</td>\n",
       "      <td>B</td>\n",
       "      <td>Mandalay</td>\n",
       "      <td>Member</td>\n",
       "      <td>Female</td>\n",
       "      <td>Sports and travel</td>\n",
       "      <td>93.72</td>\n",
       "      <td>6.0</td>\n",
       "      <td>28.1160</td>\n",
       "      <td>590.4360</td>\n",
       "      <td>1/15/2019</td>\n",
       "      <td>16:19</td>\n",
       "      <td>Cash</td>\n",
       "      <td>562.32</td>\n",
       "      <td>4.761905</td>\n",
       "      <td>28.1160</td>\n",
       "      <td>4.5</td>\n",
       "    </tr>\n",
       "    <tr>\n",
       "      <th>19</th>\n",
       "      <td>319-50-3348</td>\n",
       "      <td>B</td>\n",
       "      <td>Mandalay</td>\n",
       "      <td>Normal</td>\n",
       "      <td>Female</td>\n",
       "      <td>Home and lifestyle</td>\n",
       "      <td>40.30</td>\n",
       "      <td>2.0</td>\n",
       "      <td>4.0300</td>\n",
       "      <td>84.6300</td>\n",
       "      <td>3/11/2019</td>\n",
       "      <td>15:30</td>\n",
       "      <td>Ewallet</td>\n",
       "      <td>80.60</td>\n",
       "      <td>4.761905</td>\n",
       "      <td>4.0300</td>\n",
       "      <td>4.4</td>\n",
       "    </tr>\n",
       "    <tr>\n",
       "      <th>...</th>\n",
       "      <td>...</td>\n",
       "      <td>...</td>\n",
       "      <td>...</td>\n",
       "      <td>...</td>\n",
       "      <td>...</td>\n",
       "      <td>...</td>\n",
       "      <td>...</td>\n",
       "      <td>...</td>\n",
       "      <td>...</td>\n",
       "      <td>...</td>\n",
       "      <td>...</td>\n",
       "      <td>...</td>\n",
       "      <td>...</td>\n",
       "      <td>...</td>\n",
       "      <td>...</td>\n",
       "      <td>...</td>\n",
       "      <td>...</td>\n",
       "    </tr>\n",
       "    <tr>\n",
       "      <th>1087</th>\n",
       "      <td>283-26-5248</td>\n",
       "      <td>C</td>\n",
       "      <td>Naypyitaw</td>\n",
       "      <td>Member</td>\n",
       "      <td>Female</td>\n",
       "      <td>Food and beverages</td>\n",
       "      <td>-100.00</td>\n",
       "      <td>10.0</td>\n",
       "      <td>49.2600</td>\n",
       "      <td>1034.4600</td>\n",
       "      <td>1/30/2019</td>\n",
       "      <td>20:23</td>\n",
       "      <td>Ewallet</td>\n",
       "      <td>985.20</td>\n",
       "      <td>4.761905</td>\n",
       "      <td>49.2600</td>\n",
       "      <td>4.5</td>\n",
       "    </tr>\n",
       "    <tr>\n",
       "      <th>1092</th>\n",
       "      <td>268-27-6179</td>\n",
       "      <td>B</td>\n",
       "      <td>Mandalay</td>\n",
       "      <td>Member</td>\n",
       "      <td>Female</td>\n",
       "      <td>Fashion accessories</td>\n",
       "      <td>0.75</td>\n",
       "      <td>8.0</td>\n",
       "      <td>22.5880</td>\n",
       "      <td>474.3480</td>\n",
       "      <td>3/9/2019</td>\n",
       "      <td>14:57</td>\n",
       "      <td>Ewallet</td>\n",
       "      <td>451.76</td>\n",
       "      <td>4.761905</td>\n",
       "      <td>22.5880</td>\n",
       "      <td>7.3</td>\n",
       "    </tr>\n",
       "    <tr>\n",
       "      <th>1094</th>\n",
       "      <td>151-33-7434</td>\n",
       "      <td>B</td>\n",
       "      <td>Mandalay</td>\n",
       "      <td>Normal</td>\n",
       "      <td>Female</td>\n",
       "      <td>Food and beverages</td>\n",
       "      <td>-1.00</td>\n",
       "      <td>1.0</td>\n",
       "      <td>3.3885</td>\n",
       "      <td>71.1585</td>\n",
       "      <td>2/4/2019</td>\n",
       "      <td>20:43</td>\n",
       "      <td>Credit card</td>\n",
       "      <td>67.77</td>\n",
       "      <td>4.761905</td>\n",
       "      <td>3.3885</td>\n",
       "      <td>6.5</td>\n",
       "    </tr>\n",
       "    <tr>\n",
       "      <th>1095</th>\n",
       "      <td>831-64-0259</td>\n",
       "      <td>B</td>\n",
       "      <td>Mandalay</td>\n",
       "      <td>Normal</td>\n",
       "      <td>Female</td>\n",
       "      <td>Fashion accessories</td>\n",
       "      <td>500.00</td>\n",
       "      <td>5.0</td>\n",
       "      <td>9.9375</td>\n",
       "      <td>208.6875</td>\n",
       "      <td>2/22/2019</td>\n",
       "      <td>10:43</td>\n",
       "      <td>Ewallet</td>\n",
       "      <td>198.75</td>\n",
       "      <td>4.761905</td>\n",
       "      <td>9.9375</td>\n",
       "      <td>9.6</td>\n",
       "    </tr>\n",
       "    <tr>\n",
       "      <th>1098</th>\n",
       "      <td>283-26-5248</td>\n",
       "      <td>C</td>\n",
       "      <td>Naypyitaw</td>\n",
       "      <td>Member</td>\n",
       "      <td>Female</td>\n",
       "      <td>Food and beverages</td>\n",
       "      <td>300.00</td>\n",
       "      <td>10.0</td>\n",
       "      <td>49.2600</td>\n",
       "      <td>1034.4600</td>\n",
       "      <td>1/30/2019</td>\n",
       "      <td>20:23</td>\n",
       "      <td>Ewallet</td>\n",
       "      <td>985.20</td>\n",
       "      <td>4.761905</td>\n",
       "      <td>49.2600</td>\n",
       "      <td>4.5</td>\n",
       "    </tr>\n",
       "  </tbody>\n",
       "</table>\n",
       "<p>376 rows × 17 columns</p>\n",
       "</div>"
      ],
      "text/plain": [
       "       Invoice ID Branch       City Customer type  Gender  \\\n",
       "9     692-92-5582      B   Mandalay        Member  Female   \n",
       "10    351-62-0822      B   Mandalay        Member  Female   \n",
       "11    529-56-3974      B   Mandalay        Member    Male   \n",
       "15    299-46-1805      B   Mandalay        Member  Female   \n",
       "19    319-50-3348      B   Mandalay        Normal  Female   \n",
       "...           ...    ...        ...           ...     ...   \n",
       "1087  283-26-5248      C  Naypyitaw        Member  Female   \n",
       "1092  268-27-6179      B   Mandalay        Member  Female   \n",
       "1094  151-33-7434      B   Mandalay        Normal  Female   \n",
       "1095  831-64-0259      B   Mandalay        Normal  Female   \n",
       "1098  283-26-5248      C  Naypyitaw        Member  Female   \n",
       "\n",
       "                Product line  Unit price  Quantity   Tax 5%      Total  \\\n",
       "9         Food and beverages       54.84       3.0   8.2260   172.7460   \n",
       "10       Fashion accessories       14.48       4.0   2.8960    60.8160   \n",
       "11    Electronic accessories       25.51       4.0   5.1020   107.1420   \n",
       "15         Sports and travel       93.72       6.0  28.1160   590.4360   \n",
       "19        Home and lifestyle       40.30       2.0   4.0300    84.6300   \n",
       "...                      ...         ...       ...      ...        ...   \n",
       "1087      Food and beverages     -100.00      10.0  49.2600  1034.4600   \n",
       "1092     Fashion accessories        0.75       8.0  22.5880   474.3480   \n",
       "1094      Food and beverages       -1.00       1.0   3.3885    71.1585   \n",
       "1095     Fashion accessories      500.00       5.0   9.9375   208.6875   \n",
       "1098      Food and beverages      300.00      10.0  49.2600  1034.4600   \n",
       "\n",
       "           Date   Time      Payment    cogs  gross margin percentage  \\\n",
       "9     2/20/2019  13:27  Credit card  164.52                 4.761905   \n",
       "10     2/6/2019  18:07      Ewallet   57.92                 4.761905   \n",
       "11     3/9/2019  17:03         Cash  102.04                 4.761905   \n",
       "15    1/15/2019  16:19         Cash  562.32                 4.761905   \n",
       "19    3/11/2019  15:30      Ewallet   80.60                 4.761905   \n",
       "...         ...    ...          ...     ...                      ...   \n",
       "1087  1/30/2019  20:23      Ewallet  985.20                 4.761905   \n",
       "1092   3/9/2019  14:57      Ewallet  451.76                 4.761905   \n",
       "1094   2/4/2019  20:43  Credit card   67.77                 4.761905   \n",
       "1095  2/22/2019  10:43      Ewallet  198.75                 4.761905   \n",
       "1098  1/30/2019  20:23      Ewallet  985.20                 4.761905   \n",
       "\n",
       "      gross income  Rating  \n",
       "9           8.2260     5.9  \n",
       "10          2.8960     4.5  \n",
       "11          5.1020     6.8  \n",
       "15         28.1160     4.5  \n",
       "19          4.0300     4.4  \n",
       "...            ...     ...  \n",
       "1087       49.2600     4.5  \n",
       "1092       22.5880     7.3  \n",
       "1094        3.3885     6.5  \n",
       "1095        9.9375     9.6  \n",
       "1098       49.2600     4.5  \n",
       "\n",
       "[376 rows x 17 columns]"
      ]
     },
     "execution_count": 35,
     "metadata": {},
     "output_type": "execute_result"
    }
   ],
   "source": [
    "data[(data[\"Total\"] > 999) | (data[\"City\"] == \"Mandalay\")]"
   ]
  },
  {
   "cell_type": "markdown",
   "id": "2a72f5a3",
   "metadata": {
    "slideshow": {
     "slide_type": "slide"
    }
   },
   "source": [
    "## Identifikasi Nilai Kosong"
   ]
  },
  {
   "cell_type": "code",
   "execution_count": 36,
   "id": "05ba8c22",
   "metadata": {
    "scrolled": true
   },
   "outputs": [
    {
     "data": {
      "text/plain": [
       "Invoice ID                 0\n",
       "Branch                     1\n",
       "City                       1\n",
       "Customer type              1\n",
       "Gender                     1\n",
       "Product line               1\n",
       "Unit price                 1\n",
       "Quantity                   1\n",
       "Tax 5%                     1\n",
       "Total                      1\n",
       "Date                       1\n",
       "Time                       1\n",
       "Payment                    1\n",
       "cogs                       1\n",
       "gross margin percentage    1\n",
       "gross income               1\n",
       "Rating                     1\n",
       "dtype: int64"
      ]
     },
     "execution_count": 36,
     "metadata": {},
     "output_type": "execute_result"
    }
   ],
   "source": [
    "data.isna().sum()"
   ]
  },
  {
   "cell_type": "markdown",
   "id": "6745062d",
   "metadata": {
    "slideshow": {
     "slide_type": "slide"
    }
   },
   "source": [
    "## Identifikasi Nilai Duplikat"
   ]
  },
  {
   "cell_type": "code",
   "execution_count": 37,
   "id": "961d7665",
   "metadata": {},
   "outputs": [
    {
     "data": {
      "text/plain": [
       "49"
      ]
     },
     "execution_count": 37,
     "metadata": {},
     "output_type": "execute_result"
    }
   ],
   "source": [
    "data.duplicated().sum()"
   ]
  },
  {
   "cell_type": "markdown",
   "id": "e81ca27e",
   "metadata": {},
   "source": [
    "# Terima kasih 🙏"
   ]
  }
 ],
 "metadata": {
  "celltoolbar": "Slideshow",
  "kernelspec": {
   "display_name": "Python 3",
   "language": "python",
   "name": "python3"
  },
  "language_info": {
   "codemirror_mode": {
    "name": "ipython",
    "version": 3
   },
   "file_extension": ".py",
   "mimetype": "text/x-python",
   "name": "python",
   "nbconvert_exporter": "python",
   "pygments_lexer": "ipython3",
   "version": "3.8.6"
  }
 },
 "nbformat": 4,
 "nbformat_minor": 5
}
